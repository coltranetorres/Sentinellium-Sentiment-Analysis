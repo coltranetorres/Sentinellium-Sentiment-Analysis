{
 "cells": [
  {
   "cell_type": "code",
   "execution_count": 37,
   "metadata": {},
   "outputs": [],
   "source": [
    "import pandas as pd\n",
    "import numpy as np\n",
    "import re\n",
    "from re import sub\n",
    "import multiprocessing\n",
    "from unidecode import unidecode\n",
    "import re\n",
    "from emot.emo_unicode import UNICODE_EMO, EMOTICONS\n",
    "import nltk\n",
    "#nltk.download('stopwords')\n",
    "from nltk.corpus import stopwords\n",
    "#stopwords.words('english')\n",
    "\n",
    "from gensim.models.phrases import Phrases, Phraser\n",
    "from gensim.models import Word2Vec\n",
    "from gensim.test.utils import get_tmpfile\n",
    "from gensim.models import KeyedVectors\n",
    "\n",
    "\n",
    "from time import time \n",
    "from collections import defaultdict\n",
    "\n",
    "import logging  # Setting up the loggings to monitor gensim\n",
    "logging.basicConfig(format=\"%(levelname)s - %(asctime)s: %(message)s\", datefmt= '%H:%M:%S', level=logging.INFO)"
   ]
  },
  {
   "cell_type": "code",
   "execution_count": 38,
   "metadata": {},
   "outputs": [],
   "source": [
    "df_tweets = pd.read_csv(\"ncr_moretweets.csv\", encoding='utf-8')\n",
    "df_tweets = df_tweets[df_tweets['label'] != 0]"
   ]
  },
  {
   "cell_type": "code",
   "execution_count": 39,
   "metadata": {},
   "outputs": [],
   "source": [
    "def text_to_word_list(text, tagalog_letters):\n",
    "    ''' Pre process and convert texts to a list of words \n",
    "    method inspired by method from eliorc github repo: https://github.com/eliorc/Medium/blob/master/MaLSTM.ipynb'''\n",
    "    text = tagalog_letters(text)\n",
    "    text = str(text)\n",
    "    text = text.lower()\n",
    "\n",
    "    # Clean the text\n",
    "    text = sub(r\"[^A-Za-z0-9^,!?.\\/'+]\", \" \", text)\n",
    "    text = sub(r\"http\\S.*$\",\" \", text) # removing twitter urls\n",
    "    text = sub(r\"\\+\", \" plus \", text)\n",
    "    text = sub(r\",\", \" \", text)\n",
    "    text = sub(r\"\\.\", \" \", text)\n",
    "    text = sub(r\"!\", \" ! \", text)\n",
    "    text = sub(r\"\\?\", \" ? \", text)\n",
    "    text = sub(r\"'\", \"\", text)\n",
    "    text = sub(r\":\", \" : \", text)\n",
    "    text = sub(r\"\\s{2,}\", \" \", text)\n",
    "    \n",
    "    for emot in EMOTICONS:\n",
    "        text = re.sub(u'('+emot+')', \"_\".join(EMOTICONS[emot].replace(\",\",\"\").split()), text)\n",
    "        \n",
    "    for emot in UNICODE_EMO:\n",
    "        text = text.replace(emot, \"_\".join(UNICODE_EMO[emot].replace(\",\",\"\").replace(\":\",\"\").split()))\n",
    "        \n",
    "    text = [word for word in text.split(' ') if word not in stopwords.words('english')]\n",
    "    text = ' '.join(text)\n",
    "    \n",
    "    return text"
   ]
  },
  {
   "cell_type": "code",
   "execution_count": 40,
   "metadata": {},
   "outputs": [],
   "source": [
    "df_tweets.tweets = df_tweets.tweets.apply(lambda x: text_to_word_list(x, unidecode))"
   ]
  },
  {
   "cell_type": "code",
   "execution_count": 41,
   "metadata": {},
   "outputs": [
    {
     "name": "stderr",
     "output_type": "stream",
     "text": [
      "[nltk_data] Downloading package punkt to\n",
      "[nltk_data]     C:\\Users\\Intel\\AppData\\Roaming\\nltk_data...\n",
      "[nltk_data]   Package punkt is already up-to-date!\n"
     ]
    }
   ],
   "source": [
    "import nltk\n",
    "nltk.download('punkt')\n",
    "# Here we get transform the documents into sentences for the word2vecmodel\n",
    "# we made a function such that later on when we make the submission, we don't need to write duplicate code\n",
    "def preprocess(df_tweets):\n",
    "    df_tweets['document_sentences'] = df_tweets.tweets.str.split('.') \n",
    "    df_tweets['tokenized_sentences'] = list(map(lambda sentences: list(map(nltk.word_tokenize, sentences)), df_tweets.document_sentences))  \n",
    "    df_tweets['tokenized_sentences'] = list(map(lambda sentences: list(filter(lambda lst: lst, sentences)), df_tweets.tokenized_sentences))\n",
    "\n",
    "preprocess(df_tweets)"
   ]
  },
  {
   "cell_type": "code",
   "execution_count": 42,
   "metadata": {},
   "outputs": [
    {
     "data": {
      "text/html": [
       "<div>\n",
       "<style scoped>\n",
       "    .dataframe tbody tr th:only-of-type {\n",
       "        vertical-align: middle;\n",
       "    }\n",
       "\n",
       "    .dataframe tbody tr th {\n",
       "        vertical-align: top;\n",
       "    }\n",
       "\n",
       "    .dataframe thead th {\n",
       "        text-align: right;\n",
       "    }\n",
       "</style>\n",
       "<table border=\"1\" class=\"dataframe\">\n",
       "  <thead>\n",
       "    <tr style=\"text-align: right;\">\n",
       "      <th></th>\n",
       "      <th>tweets</th>\n",
       "      <th>label</th>\n",
       "      <th>document_sentences</th>\n",
       "      <th>tokenized_sentences</th>\n",
       "    </tr>\n",
       "  </thead>\n",
       "  <tbody>\n",
       "    <tr>\n",
       "      <th>0</th>\n",
       "      <td>awit sa kilala kong nag positive sa covid tas ...</td>\n",
       "      <td>-1</td>\n",
       "      <td>[awit sa kilala kong nag positive sa covid tas...</td>\n",
       "      <td>[[awit, sa, kilala, kong, nag, positive, sa, c...</td>\n",
       "    </tr>\n",
       "    <tr>\n",
       "      <th>2</th>\n",
       "      <td>yung dinaan na lang sa pagkain yung pagkamiss ...</td>\n",
       "      <td>-1</td>\n",
       "      <td>[yung dinaan na lang sa pagkain yung pagkamiss...</td>\n",
       "      <td>[[yung, dinaan, na, lang, sa, pagkain, yung, p...</td>\n",
       "    </tr>\n",
       "    <tr>\n",
       "      <th>5</th>\n",
       "      <td>literally miss going without using facemask sh...</td>\n",
       "      <td>-1</td>\n",
       "      <td>[literally miss going without using facemask s...</td>\n",
       "      <td>[[literally, miss, going, without, using, face...</td>\n",
       "    </tr>\n",
       "    <tr>\n",
       "      <th>6</th>\n",
       "      <td>goddamn covid rip sekou smith influence writin...</td>\n",
       "      <td>-1</td>\n",
       "      <td>[goddamn covid rip sekou smith influence writi...</td>\n",
       "      <td>[[goddamn, covid, rip, sekou, smith, influence...</td>\n",
       "    </tr>\n",
       "    <tr>\n",
       "      <th>8</th>\n",
       "      <td>sobrang delikado ng ginawa mo kahit saang band...</td>\n",
       "      <td>-1</td>\n",
       "      <td>[sobrang delikado ng ginawa mo kahit saang ban...</td>\n",
       "      <td>[[sobrang, delikado, ng, ginawa, mo, kahit, sa...</td>\n",
       "    </tr>\n",
       "  </tbody>\n",
       "</table>\n",
       "</div>"
      ],
      "text/plain": [
       "                                              tweets  label  \\\n",
       "0  awit sa kilala kong nag positive sa covid tas ...     -1   \n",
       "2  yung dinaan na lang sa pagkain yung pagkamiss ...     -1   \n",
       "5  literally miss going without using facemask sh...     -1   \n",
       "6  goddamn covid rip sekou smith influence writin...     -1   \n",
       "8  sobrang delikado ng ginawa mo kahit saang band...     -1   \n",
       "\n",
       "                                  document_sentences  \\\n",
       "0  [awit sa kilala kong nag positive sa covid tas...   \n",
       "2  [yung dinaan na lang sa pagkain yung pagkamiss...   \n",
       "5  [literally miss going without using facemask s...   \n",
       "6  [goddamn covid rip sekou smith influence writi...   \n",
       "8  [sobrang delikado ng ginawa mo kahit saang ban...   \n",
       "\n",
       "                                 tokenized_sentences  \n",
       "0  [[awit, sa, kilala, kong, nag, positive, sa, c...  \n",
       "2  [[yung, dinaan, na, lang, sa, pagkain, yung, p...  \n",
       "5  [[literally, miss, going, without, using, face...  \n",
       "6  [[goddamn, covid, rip, sekou, smith, influence...  \n",
       "8  [[sobrang, delikado, ng, ginawa, mo, kahit, sa...  "
      ]
     },
     "execution_count": 42,
     "metadata": {},
     "output_type": "execute_result"
    }
   ],
   "source": [
    "df_tweets.head()"
   ]
  },
  {
   "cell_type": "code",
   "execution_count": 43,
   "metadata": {},
   "outputs": [
    {
     "data": {
      "text/plain": [
       "[['awit',\n",
       "  'sa',\n",
       "  'kilala',\n",
       "  'kong',\n",
       "  'nag',\n",
       "  'positive',\n",
       "  'sa',\n",
       "  'covid',\n",
       "  'tas',\n",
       "  'nag',\n",
       "  'titinda',\n",
       "  'padin',\n",
       "  'ng',\n",
       "  'pagkain',\n",
       "  'sa',\n",
       "  'baclaran',\n",
       "  'ang',\n",
       "  'dami',\n",
       "  'nyong',\n",
       "  'idadamay',\n",
       "  'girl',\n",
       "  'maawa',\n",
       "  'kayo']]"
      ]
     },
     "execution_count": 43,
     "metadata": {},
     "output_type": "execute_result"
    }
   ],
   "source": [
    "df_tweets.tokenized_sentences[0]"
   ]
  },
  {
   "cell_type": "code",
   "execution_count": 44,
   "metadata": {},
   "outputs": [],
   "source": [
    "from sklearn.model_selection import train_test_split\n",
    "train, test, y_train, y_test = train_test_split(df_tweets.drop(columns='label'), df_tweets['label'], test_size=.2)"
   ]
  },
  {
   "cell_type": "code",
   "execution_count": 45,
   "metadata": {},
   "outputs": [
    {
     "name": "stdout",
     "output_type": "stream",
     "text": [
      "Number of sentences: 172.\n",
      "Number of rows: 172.\n"
     ]
    }
   ],
   "source": [
    "#Collecting a vocabulary\n",
    "voc = []\n",
    "for sentence in train.tokenized_sentences:\n",
    "    voc.extend(sentence)\n",
    "\n",
    "print(\"Number of sentences: {}.\".format(len(voc)))\n",
    "print(\"Number of rows: {}.\".format(len(train)))"
   ]
  },
  {
   "cell_type": "code",
   "execution_count": 46,
   "metadata": {},
   "outputs": [
    {
     "name": "stderr",
     "output_type": "stream",
     "text": [
      "INFO - 16:20:05: collecting all words and their counts\n",
      "INFO - 16:20:05: PROGRESS: at sentence #0, processed 0 words, keeping 0 word types\n",
      "INFO - 16:20:05: collected 1140 word types from a corpus of 2291 raw words and 172 sentences\n",
      "INFO - 16:20:05: Loading a fresh vocabulary\n",
      "INFO - 16:20:05: effective_min_count=3 retains 143 unique words (12% of original 1140, drops 997)\n",
      "INFO - 16:20:05: effective_min_count=3 leaves 1149 word corpus (50% of original 2291, drops 1142)\n",
      "INFO - 16:20:05: deleting the raw counts dictionary of 1140 items\n",
      "INFO - 16:20:05: sample=0.001 downsamples 90 most-common words\n",
      "INFO - 16:20:05: downsampling leaves estimated 543 word corpus (47.3% of prior 1149)\n",
      "INFO - 16:20:05: estimated required memory for 143 words and 300 dimensions: 414700 bytes\n",
      "INFO - 16:20:05: resetting layer weights\n",
      "INFO - 16:20:05: training model with 4 workers on 143 vocabulary and 300 features, using sg=1 hs=0 sample=0.001 negative=5 window=8\n",
      "INFO - 16:20:05: worker thread finished; awaiting finish of 3 more threads\n",
      "INFO - 16:20:05: worker thread finished; awaiting finish of 2 more threads\n",
      "INFO - 16:20:05: worker thread finished; awaiting finish of 1 more threads\n",
      "INFO - 16:20:05: worker thread finished; awaiting finish of 0 more threads\n",
      "INFO - 16:20:05: EPOCH - 1 : training on 2291 raw words (555 effective words) took 0.0s, 100946 effective words/s\n",
      "INFO - 16:20:05: worker thread finished; awaiting finish of 3 more threads\n",
      "INFO - 16:20:05: worker thread finished; awaiting finish of 2 more threads\n",
      "INFO - 16:20:05: worker thread finished; awaiting finish of 1 more threads\n",
      "INFO - 16:20:05: worker thread finished; awaiting finish of 0 more threads\n",
      "INFO - 16:20:05: EPOCH - 2 : training on 2291 raw words (536 effective words) took 0.0s, 125733 effective words/s\n",
      "INFO - 16:20:05: worker thread finished; awaiting finish of 3 more threads\n",
      "INFO - 16:20:05: worker thread finished; awaiting finish of 2 more threads\n",
      "INFO - 16:20:05: worker thread finished; awaiting finish of 1 more threads\n",
      "INFO - 16:20:05: worker thread finished; awaiting finish of 0 more threads\n",
      "INFO - 16:20:05: EPOCH - 3 : training on 2291 raw words (554 effective words) took 0.0s, 59832 effective words/s\n",
      "INFO - 16:20:05: worker thread finished; awaiting finish of 3 more threads\n",
      "INFO - 16:20:05: worker thread finished; awaiting finish of 2 more threads\n",
      "INFO - 16:20:05: worker thread finished; awaiting finish of 1 more threads\n",
      "INFO - 16:20:05: worker thread finished; awaiting finish of 0 more threads\n",
      "INFO - 16:20:05: EPOCH - 4 : training on 2291 raw words (548 effective words) took 0.0s, 117385 effective words/s\n",
      "INFO - 16:20:05: worker thread finished; awaiting finish of 3 more threads\n",
      "INFO - 16:20:05: worker thread finished; awaiting finish of 2 more threads\n",
      "INFO - 16:20:05: worker thread finished; awaiting finish of 1 more threads\n",
      "INFO - 16:20:05: worker thread finished; awaiting finish of 0 more threads\n",
      "INFO - 16:20:05: EPOCH - 5 : training on 2291 raw words (547 effective words) took 0.0s, 88384 effective words/s\n",
      "INFO - 16:20:05: worker thread finished; awaiting finish of 3 more threads\n",
      "INFO - 16:20:05: worker thread finished; awaiting finish of 2 more threads\n",
      "INFO - 16:20:05: worker thread finished; awaiting finish of 1 more threads\n",
      "INFO - 16:20:05: worker thread finished; awaiting finish of 0 more threads\n",
      "INFO - 16:20:05: EPOCH - 6 : training on 2291 raw words (537 effective words) took 0.0s, 109013 effective words/s\n",
      "INFO - 16:20:05: training on a 13746 raw words (3277 effective words) took 0.1s, 45302 effective words/s\n",
      "WARNING - 16:20:05: under 10 jobs per worker: consider setting a smaller `batch_words' for smoother alpha decay\n"
     ]
    }
   ],
   "source": [
    "from gensim.models import word2vec, Word2Vec\n",
    "\n",
    "num_features = 300    \n",
    "min_word_count = 3    \n",
    "num_workers = 4       \n",
    "context = 8           \n",
    "downsampling = 1e-3   \n",
    "\n",
    "# Initialize and train the model\n",
    "W2Vmodel = Word2Vec(sentences=voc, sg=1, hs=0, workers=num_workers, size=num_features, min_count=min_word_count, window=context,\n",
    "                    sample=downsampling, negative=5, iter=6)"
   ]
  },
  {
   "cell_type": "code",
   "execution_count": 47,
   "metadata": {},
   "outputs": [
    {
     "name": "stdout",
     "output_type": "stream",
     "text": [
      "Wall time: 0 ns\n"
     ]
    }
   ],
   "source": [
    "%%time\n",
    "def sentence_vectors(model, sentence):\n",
    "    #Collecting all words in the text\n",
    "#     print(sentence)\n",
    "    sent_vector = np.zeros(model.vector_size, dtype=\"float32\")\n",
    "    if sentence == [[]] or sentence == []  :\n",
    "        return sent_vector\n",
    "    words=np.concatenate(sentence)\n",
    "#     words = sentence\n",
    "    #Collecting words that are known to the model\n",
    "    model_voc = set(model.wv.vocab.keys()) \n",
    "#     print(len(model_voc))\n",
    "\n",
    "    # Use a counter variable for number of words in a text\n",
    "    nwords = 0\n",
    "    # Sum up all words vectors that are know to the model\n",
    "    for word in words:\n",
    "        if word in model_voc: \n",
    "            sent_vector += model[word]\n",
    "            nwords += 1.\n",
    "    # Now get the average\n",
    "    if nwords > 0:\n",
    "        sent_vector /= nwords\n",
    "    return sent_vector"
   ]
  },
  {
   "cell_type": "code",
   "execution_count": 48,
   "metadata": {},
   "outputs": [
    {
     "name": "stderr",
     "output_type": "stream",
     "text": [
      "INFO - 16:20:05: saving Word2Vec object under word2vec.model, separately None\n",
      "INFO - 16:20:05: not storing attribute vectors_norm\n",
      "INFO - 16:20:05: not storing attribute cum_table\n",
      "INFO - 16:20:05: saved word2vec.model\n"
     ]
    }
   ],
   "source": [
    "W2Vmodel.save('word2vec.model')"
   ]
  },
  {
   "cell_type": "code",
   "execution_count": 49,
   "metadata": {},
   "outputs": [
    {
     "name": "stderr",
     "output_type": "stream",
     "text": [
      "INFO - 16:20:05: loading Word2Vec object from word2vec.model\n",
      "INFO - 16:20:05: loading wv recursively from word2vec.model.wv.* with mmap=None\n",
      "INFO - 16:20:05: setting ignored attribute vectors_norm to None\n",
      "INFO - 16:20:05: loading vocabulary recursively from word2vec.model.vocabulary.* with mmap=None\n",
      "INFO - 16:20:05: loading trainables recursively from word2vec.model.trainables.* with mmap=None\n",
      "INFO - 16:20:05: setting ignored attribute cum_table to None\n",
      "INFO - 16:20:05: loaded word2vec.model\n"
     ]
    }
   ],
   "source": [
    "word_vectors = Word2Vec.load(\"word2vec.model\").wv"
   ]
  },
  {
   "cell_type": "code",
   "execution_count": 50,
   "metadata": {},
   "outputs": [
    {
     "name": "stderr",
     "output_type": "stream",
     "text": [
      "<ipython-input-50-88973ea35f08>:4: DeprecationWarning: Call to deprecated `wv` (Attribute will be removed in 4.0.0, use self instead).\n",
      "  vocab = word_vectors.wv.vocab\n"
     ]
    },
    {
     "data": {
      "image/png": "[encoded data removed]",
      "text/plain": [
       "<Figure size 576x576 with 1 Axes>"
      ]
     },
     "metadata": {
      "needs_background": "light"
     },
     "output_type": "display_data"
    }
   ],
   "source": [
    "from sklearn.manifold import TSNE\n",
    "import matplotlib.pyplot as plt\n",
    "\n",
    "vocab = word_vectors.wv.vocab\n",
    "X = word_vectors[vocab]\n",
    "tsne = TSNE(n_components=2) # Dimension of the embedded space\n",
    "X_tsne = tsne.fit_transform(X)\n",
    "\n",
    "df = pd.DataFrame(X_tsne, index=vocab, columns=['x', 'y'])\n",
    "fig = plt.figure(figsize=(8,8))\n",
    "ax = fig.add_subplot(1, 1, 1)\n",
    "\n",
    "ax.scatter(df['x'], df['y'])\n",
    "\n",
    "for word, pos in df.iterrows():\n",
    "    ax.annotate(word, pos)\n",
    "    \n",
    "plt.show()"
   ]
  },
  {
   "cell_type": "code",
   "execution_count": 51,
   "metadata": {},
   "outputs": [
    {
     "name": "stderr",
     "output_type": "stream",
     "text": [
      "<timed exec>:18: DeprecationWarning: Call to deprecated `__getitem__` (Method will be removed in 4.0.0, use self.wv.__getitem__() instead).\n"
     ]
    }
   ],
   "source": [
    "train['sentence_vectors'] = list(map(lambda sen_group:\n",
    "                                      sentence_vectors(W2Vmodel, sen_group),\n",
    "                                      train.tokenized_sentences))\n",
    "test['sentence_vectors'] = list(map(lambda sen_group:\n",
    "                                    sentence_vectors(W2Vmodel, sen_group), \n",
    "                                    test.tokenized_sentences))"
   ]
  },
  {
   "cell_type": "code",
   "execution_count": 52,
   "metadata": {},
   "outputs": [
    {
     "data": {
      "text/html": [
       "<div>\n",
       "<style scoped>\n",
       "    .dataframe tbody tr th:only-of-type {\n",
       "        vertical-align: middle;\n",
       "    }\n",
       "\n",
       "    .dataframe tbody tr th {\n",
       "        vertical-align: top;\n",
       "    }\n",
       "\n",
       "    .dataframe thead th {\n",
       "        text-align: right;\n",
       "    }\n",
       "</style>\n",
       "<table border=\"1\" class=\"dataframe\">\n",
       "  <thead>\n",
       "    <tr style=\"text-align: right;\">\n",
       "      <th></th>\n",
       "      <th>w2v_0</th>\n",
       "      <th>w2v_1</th>\n",
       "      <th>w2v_2</th>\n",
       "      <th>w2v_3</th>\n",
       "      <th>w2v_4</th>\n",
       "      <th>w2v_5</th>\n",
       "      <th>w2v_6</th>\n",
       "      <th>w2v_7</th>\n",
       "      <th>w2v_8</th>\n",
       "      <th>w2v_9</th>\n",
       "      <th>...</th>\n",
       "      <th>w2v_290</th>\n",
       "      <th>w2v_291</th>\n",
       "      <th>w2v_292</th>\n",
       "      <th>w2v_293</th>\n",
       "      <th>w2v_294</th>\n",
       "      <th>w2v_295</th>\n",
       "      <th>w2v_296</th>\n",
       "      <th>w2v_297</th>\n",
       "      <th>w2v_298</th>\n",
       "      <th>w2v_299</th>\n",
       "    </tr>\n",
       "  </thead>\n",
       "  <tbody>\n",
       "    <tr>\n",
       "      <th>216</th>\n",
       "      <td>-0.000328</td>\n",
       "      <td>-0.000386</td>\n",
       "      <td>0.000783</td>\n",
       "      <td>-0.001325</td>\n",
       "      <td>0.004320</td>\n",
       "      <td>-0.000626</td>\n",
       "      <td>-0.001763</td>\n",
       "      <td>0.002660</td>\n",
       "      <td>0.000288</td>\n",
       "      <td>0.002088</td>\n",
       "      <td>...</td>\n",
       "      <td>0.002200</td>\n",
       "      <td>0.000872</td>\n",
       "      <td>0.001846</td>\n",
       "      <td>0.001055</td>\n",
       "      <td>0.002060</td>\n",
       "      <td>-0.001895</td>\n",
       "      <td>0.000258</td>\n",
       "      <td>-0.001100</td>\n",
       "      <td>0.000991</td>\n",
       "      <td>-0.001891</td>\n",
       "    </tr>\n",
       "    <tr>\n",
       "      <th>180</th>\n",
       "      <td>-0.000862</td>\n",
       "      <td>-0.000538</td>\n",
       "      <td>-0.000411</td>\n",
       "      <td>-0.000924</td>\n",
       "      <td>0.003564</td>\n",
       "      <td>-0.000851</td>\n",
       "      <td>-0.000782</td>\n",
       "      <td>0.002942</td>\n",
       "      <td>0.000598</td>\n",
       "      <td>0.001306</td>\n",
       "      <td>...</td>\n",
       "      <td>0.001194</td>\n",
       "      <td>0.000850</td>\n",
       "      <td>0.001077</td>\n",
       "      <td>0.001512</td>\n",
       "      <td>0.000718</td>\n",
       "      <td>-0.001364</td>\n",
       "      <td>0.000695</td>\n",
       "      <td>-0.000404</td>\n",
       "      <td>-0.000683</td>\n",
       "      <td>-0.001417</td>\n",
       "    </tr>\n",
       "    <tr>\n",
       "      <th>78</th>\n",
       "      <td>-0.000492</td>\n",
       "      <td>-0.000521</td>\n",
       "      <td>-0.000369</td>\n",
       "      <td>-0.001322</td>\n",
       "      <td>0.005080</td>\n",
       "      <td>-0.000592</td>\n",
       "      <td>-0.002453</td>\n",
       "      <td>0.004705</td>\n",
       "      <td>0.001204</td>\n",
       "      <td>0.002939</td>\n",
       "      <td>...</td>\n",
       "      <td>0.001960</td>\n",
       "      <td>0.000918</td>\n",
       "      <td>0.002823</td>\n",
       "      <td>0.001056</td>\n",
       "      <td>0.001878</td>\n",
       "      <td>-0.002209</td>\n",
       "      <td>-0.000481</td>\n",
       "      <td>-0.001804</td>\n",
       "      <td>0.000653</td>\n",
       "      <td>-0.001825</td>\n",
       "    </tr>\n",
       "    <tr>\n",
       "      <th>119</th>\n",
       "      <td>-0.000395</td>\n",
       "      <td>-0.000186</td>\n",
       "      <td>0.000385</td>\n",
       "      <td>-0.001607</td>\n",
       "      <td>0.003998</td>\n",
       "      <td>-0.000361</td>\n",
       "      <td>-0.001341</td>\n",
       "      <td>0.002772</td>\n",
       "      <td>0.000790</td>\n",
       "      <td>0.001548</td>\n",
       "      <td>...</td>\n",
       "      <td>0.001743</td>\n",
       "      <td>0.000203</td>\n",
       "      <td>0.002357</td>\n",
       "      <td>0.001340</td>\n",
       "      <td>0.001403</td>\n",
       "      <td>-0.000978</td>\n",
       "      <td>-0.000038</td>\n",
       "      <td>-0.000774</td>\n",
       "      <td>0.000786</td>\n",
       "      <td>-0.001237</td>\n",
       "    </tr>\n",
       "    <tr>\n",
       "      <th>64</th>\n",
       "      <td>-0.000378</td>\n",
       "      <td>-0.000321</td>\n",
       "      <td>0.000334</td>\n",
       "      <td>-0.001594</td>\n",
       "      <td>0.003773</td>\n",
       "      <td>-0.000546</td>\n",
       "      <td>-0.001734</td>\n",
       "      <td>0.003119</td>\n",
       "      <td>0.000054</td>\n",
       "      <td>0.002388</td>\n",
       "      <td>...</td>\n",
       "      <td>0.001914</td>\n",
       "      <td>0.000809</td>\n",
       "      <td>0.001446</td>\n",
       "      <td>0.001055</td>\n",
       "      <td>0.002051</td>\n",
       "      <td>-0.002154</td>\n",
       "      <td>-0.000119</td>\n",
       "      <td>-0.001256</td>\n",
       "      <td>0.001138</td>\n",
       "      <td>-0.001905</td>\n",
       "    </tr>\n",
       "  </tbody>\n",
       "</table>\n",
       "<p>5 rows × 300 columns</p>\n",
       "</div>"
      ],
      "text/plain": [
       "        w2v_0     w2v_1     w2v_2     w2v_3     w2v_4     w2v_5     w2v_6  \\\n",
       "216 -0.000328 -0.000386  0.000783 -0.001325  0.004320 -0.000626 -0.001763   \n",
       "180 -0.000862 -0.000538 -0.000411 -0.000924  0.003564 -0.000851 -0.000782   \n",
       "78  -0.000492 -0.000521 -0.000369 -0.001322  0.005080 -0.000592 -0.002453   \n",
       "119 -0.000395 -0.000186  0.000385 -0.001607  0.003998 -0.000361 -0.001341   \n",
       "64  -0.000378 -0.000321  0.000334 -0.001594  0.003773 -0.000546 -0.001734   \n",
       "\n",
       "        w2v_7     w2v_8     w2v_9  ...   w2v_290   w2v_291   w2v_292  \\\n",
       "216  0.002660  0.000288  0.002088  ...  0.002200  0.000872  0.001846   \n",
       "180  0.002942  0.000598  0.001306  ...  0.001194  0.000850  0.001077   \n",
       "78   0.004705  0.001204  0.002939  ...  0.001960  0.000918  0.002823   \n",
       "119  0.002772  0.000790  0.001548  ...  0.001743  0.000203  0.002357   \n",
       "64   0.003119  0.000054  0.002388  ...  0.001914  0.000809  0.001446   \n",
       "\n",
       "      w2v_293   w2v_294   w2v_295   w2v_296   w2v_297   w2v_298   w2v_299  \n",
       "216  0.001055  0.002060 -0.001895  0.000258 -0.001100  0.000991 -0.001891  \n",
       "180  0.001512  0.000718 -0.001364  0.000695 -0.000404 -0.000683 -0.001417  \n",
       "78   0.001056  0.001878 -0.002209 -0.000481 -0.001804  0.000653 -0.001825  \n",
       "119  0.001340  0.001403 -0.000978 -0.000038 -0.000774  0.000786 -0.001237  \n",
       "64   0.001055  0.002051 -0.002154 -0.000119 -0.001256  0.001138 -0.001905  \n",
       "\n",
       "[5 rows x 300 columns]"
      ]
     },
     "execution_count": 52,
     "metadata": {},
     "output_type": "execute_result"
    }
   ],
   "source": [
    "def vectors_to_feats(df, ndim):\n",
    "    index=[]\n",
    "    for i in range(ndim):\n",
    "        df[f'w2v_{i}'] = df['sentence_vectors'].apply(lambda x: x[i])\n",
    "        index.append(f'w2v_{i}')\n",
    "    return df[index]\n",
    "X_train = vectors_to_feats(train, 300)\n",
    "X_train.head()"
   ]
  },
  {
   "cell_type": "code",
   "execution_count": 53,
   "metadata": {},
   "outputs": [
    {
     "name": "stderr",
     "output_type": "stream",
     "text": [
      "<timed exec>:18: DeprecationWarning: Call to deprecated `__getitem__` (Method will be removed in 4.0.0, use self.wv.__getitem__() instead).\n"
     ]
    },
    {
     "name": "stdout",
     "output_type": "stream",
     "text": [
      "Wall time: 204 ms\n"
     ]
    }
   ],
   "source": [
    "%%time\n",
    "test['sentence_vectors'] = list(map(lambda sen_group:sentence_vectors(W2Vmodel, sen_group), test.tokenized_sentences))\n",
    "X_test=vectors_to_feats(test, 300)"
   ]
  },
  {
   "cell_type": "code",
   "execution_count": 54,
   "metadata": {},
   "outputs": [
    {
     "name": "stdout",
     "output_type": "stream",
     "text": [
      "Testing accuracy 0.7441860465116279\n",
      "Testing F1 score: 0.7441860465116278\n"
     ]
    }
   ],
   "source": [
    "from sklearn.ensemble import GradientBoostingClassifier\n",
    "g_boost = GradientBoostingClassifier()\n",
    "g_boost.fit(X_train, y_train)\n",
    "y_pred = g_boost.predict(X_test)\n",
    "from sklearn.metrics import accuracy_score, f1_score\n",
    "print('Testing accuracy %s' % accuracy_score(y_test, y_pred))\n",
    "print('Testing F1 score: {}'.format(f1_score(y_test, y_pred, average='micro')))"
   ]
  },
  {
   "cell_type": "code",
   "execution_count": 55,
   "metadata": {},
   "outputs": [
    {
     "name": "stdout",
     "output_type": "stream",
     "text": [
      "ROC AUC Score: 0.6984126984126984\n"
     ]
    }
   ],
   "source": [
    "from sklearn.metrics import roc_auc_score, confusion_matrix\n",
    "print('ROC AUC Score: {}'.format(roc_auc_score(y_test,g_boost.predict_proba(X_test)[:,1])))"
   ]
  },
  {
   "cell_type": "code",
   "execution_count": 56,
   "metadata": {},
   "outputs": [
    {
     "data": {
      "image/png": "[encoded data removed]",
      "text/plain": [
       "<Figure size 720x504 with 2 Axes>"
      ]
     },
     "metadata": {
      "needs_background": "light"
     },
     "output_type": "display_data"
    }
   ],
   "source": [
    "import seaborn as sns\n",
    "import matplotlib.pyplot as plt\n",
    "df_cm = pd.DataFrame(confusion_matrix(y_test,g_boost.predict(X_test)), index = ['Predicted positive', 'Predicted negative'],\n",
    "                  columns = ['Actual positive', 'Actual negative'])\n",
    "test= sns.color_palette('YlOrBr')\n",
    "plt.figure(figsize = (10,7))\n",
    "sns.heatmap(df_cm, annot=True, cmap=test)\n",
    "plt.title('Confusion Matrix')\n",
    "plt.show()"
   ]
  },
  {
   "cell_type": "code",
   "execution_count": 57,
   "metadata": {},
   "outputs": [
    {
     "name": "stdout",
     "output_type": "stream",
     "text": [
      "Number of sentences: 215.\n",
      "Number of texts: 215.\n"
     ]
    }
   ],
   "source": [
    "voc_df = []\n",
    "for sentence_group in df_tweets.tokenized_sentences:\n",
    "    voc_df.extend(sentence_group)\n",
    "\n",
    "print(\"Number of sentences: {}.\".format(len(voc_df)))\n",
    "print(\"Number of texts: {}.\".format(len(df_tweets)))"
   ]
  },
  {
   "cell_type": "code",
   "execution_count": 58,
   "metadata": {},
   "outputs": [
    {
     "name": "stderr",
     "output_type": "stream",
     "text": [
      "INFO - 16:20:10: collecting all words and their counts\n",
      "INFO - 16:20:10: PROGRESS: at sentence #0, processed 0 words, keeping 0 word types\n",
      "INFO - 16:20:10: collected 1356 word types from a corpus of 2879 raw words and 215 sentences\n",
      "INFO - 16:20:10: Loading a fresh vocabulary\n",
      "INFO - 16:20:10: effective_min_count=3 retains 181 unique words (13% of original 1356, drops 1175)\n",
      "INFO - 16:20:10: effective_min_count=3 leaves 1535 word corpus (53% of original 2879, drops 1344)\n",
      "INFO - 16:20:10: deleting the raw counts dictionary of 1356 items\n",
      "INFO - 16:20:10: sample=0.001 downsamples 79 most-common words\n",
      "INFO - 16:20:10: downsampling leaves estimated 794 word corpus (51.8% of prior 1535)\n",
      "INFO - 16:20:10: estimated required memory for 181 words and 300 dimensions: 524900 bytes\n",
      "INFO - 16:20:10: resetting layer weights\n",
      "INFO - 16:20:10: training model with 4 workers on 181 vocabulary and 300 features, using sg=1 hs=0 sample=0.001 negative=5 window=8\n",
      "INFO - 16:20:10: worker thread finished; awaiting finish of 3 more threads\n",
      "INFO - 16:20:10: worker thread finished; awaiting finish of 2 more threads\n",
      "INFO - 16:20:10: worker thread finished; awaiting finish of 1 more threads\n",
      "INFO - 16:20:10: worker thread finished; awaiting finish of 0 more threads\n",
      "INFO - 16:20:10: EPOCH - 1 : training on 2879 raw words (774 effective words) took 0.0s, 161139 effective words/s\n",
      "INFO - 16:20:10: worker thread finished; awaiting finish of 3 more threads\n",
      "INFO - 16:20:10: worker thread finished; awaiting finish of 2 more threads\n",
      "INFO - 16:20:10: worker thread finished; awaiting finish of 1 more threads\n",
      "INFO - 16:20:10: worker thread finished; awaiting finish of 0 more threads\n",
      "INFO - 16:20:10: EPOCH - 2 : training on 2879 raw words (797 effective words) took 0.0s, 139866 effective words/s\n",
      "INFO - 16:20:10: worker thread finished; awaiting finish of 3 more threads\n",
      "INFO - 16:20:10: worker thread finished; awaiting finish of 2 more threads\n",
      "INFO - 16:20:10: worker thread finished; awaiting finish of 1 more threads\n",
      "INFO - 16:20:10: worker thread finished; awaiting finish of 0 more threads\n",
      "INFO - 16:20:10: EPOCH - 3 : training on 2879 raw words (802 effective words) took 0.0s, 145290 effective words/s\n",
      "INFO - 16:20:10: worker thread finished; awaiting finish of 3 more threads\n",
      "INFO - 16:20:10: worker thread finished; awaiting finish of 2 more threads\n",
      "INFO - 16:20:10: worker thread finished; awaiting finish of 1 more threads\n",
      "INFO - 16:20:10: worker thread finished; awaiting finish of 0 more threads\n",
      "INFO - 16:20:10: EPOCH - 4 : training on 2879 raw words (788 effective words) took 0.0s, 146002 effective words/s\n",
      "INFO - 16:20:10: worker thread finished; awaiting finish of 3 more threads\n",
      "INFO - 16:20:10: worker thread finished; awaiting finish of 2 more threads\n",
      "INFO - 16:20:10: worker thread finished; awaiting finish of 1 more threads\n",
      "INFO - 16:20:10: worker thread finished; awaiting finish of 0 more threads\n",
      "INFO - 16:20:10: EPOCH - 5 : training on 2879 raw words (808 effective words) took 0.0s, 123710 effective words/s\n",
      "INFO - 16:20:10: worker thread finished; awaiting finish of 3 more threads\n",
      "INFO - 16:20:10: worker thread finished; awaiting finish of 2 more threads\n",
      "INFO - 16:20:10: worker thread finished; awaiting finish of 1 more threads\n",
      "INFO - 16:20:10: worker thread finished; awaiting finish of 0 more threads\n",
      "INFO - 16:20:10: EPOCH - 6 : training on 2879 raw words (808 effective words) took 0.0s, 148622 effective words/s\n",
      "INFO - 16:20:10: training on a 17274 raw words (4777 effective words) took 0.1s, 83689 effective words/s\n",
      "WARNING - 16:20:10: under 10 jobs per worker: consider setting a smaller `batch_words' for smoother alpha decay\n"
     ]
    }
   ],
   "source": [
    "from gensim.models import word2vec, Word2Vec\n",
    "\n",
    "num_features = 300    \n",
    "min_word_count = 3    \n",
    "num_workers = 4       \n",
    "context = 8           \n",
    "downsampling = 1e-3   \n",
    "\n",
    "# Initialize and train the model\n",
    "W2Vmodel = Word2Vec(sentences=voc_df, sg=1, hs=0, workers=num_workers, size=num_features, min_count=min_word_count, window=context,\n",
    "                    sample=downsampling, negative=5, iter=6)"
   ]
  },
  {
   "cell_type": "code",
   "execution_count": 59,
   "metadata": {},
   "outputs": [
    {
     "name": "stderr",
     "output_type": "stream",
     "text": [
      "<timed exec>:18: DeprecationWarning: Call to deprecated `__getitem__` (Method will be removed in 4.0.0, use self.wv.__getitem__() instead).\n"
     ]
    },
    {
     "name": "stdout",
     "output_type": "stream",
     "text": [
      "Wall time: 222 ms\n"
     ]
    }
   ],
   "source": [
    "%%time\n",
    "df_tweets['sentence_vectors'] = list(map(lambda sen_group: sentence_vectors(W2Vmodel, sen_group), df_tweets.tokenized_sentences))\n",
    "df_tweets = vectors_to_feats(df_tweets, 300)\n",
    "y = pd.read_csv('ncr_moretweets.csv', encoding='utf-8')\n",
    "y = y[y['label'] != 0]\n",
    "y = y['label'].values"
   ]
  },
  {
   "cell_type": "code",
   "execution_count": 60,
   "metadata": {},
   "outputs": [
    {
     "name": "stdout",
     "output_type": "stream",
     "text": [
      "[0.68421053 0.54166667 0.63247863 0.51428571 0.59047619]\n",
      "CV Mean Score: 0.5926235460445988\n"
     ]
    }
   ],
   "source": [
    "from sklearn.model_selection import ShuffleSplit, cross_val_score\n",
    "cv = ShuffleSplit(n_splits=5, random_state=1)\n",
    "\n",
    "cv_score = cross_val_score(g_boost, df_tweets, y ,cv=cv, scoring='roc_auc')\n",
    "print(cv_score)\n",
    "print('CV Mean Score: {}'.format(cv_score.mean()))"
   ]
  },
  {
   "cell_type": "code",
   "execution_count": 61,
   "metadata": {},
   "outputs": [
    {
     "name": "stdout",
     "output_type": "stream",
     "text": [
      "Requirement already satisfied: mglearn in d:\\othersoftware\\anaconda3\\lib\\site-packages (0.1.9)\n",
      "Requirement already satisfied: pillow in d:\\othersoftware\\anaconda3\\lib\\site-packages (from mglearn) (8.0.1)\n",
      "Requirement already satisfied: matplotlib in d:\\othersoftware\\anaconda3\\lib\\site-packages (from mglearn) (3.3.2)\n",
      "Requirement already satisfied: cycler in d:\\othersoftware\\anaconda3\\lib\\site-packages (from mglearn) (0.10.0)\n",
      "Requirement already satisfied: numpy in d:\\othersoftware\\anaconda3\\lib\\site-packages (from mglearn) (1.19.2)\n",
      "Requirement already satisfied: joblib in d:\\othersoftware\\anaconda3\\lib\\site-packages (from mglearn) (0.17.0)\n",
      "Requirement already satisfied: scikit-learn in d:\\othersoftware\\anaconda3\\lib\\site-packages (from mglearn) (0.23.2)\n",
      "Requirement already satisfied: pandas in d:\\othersoftware\\anaconda3\\lib\\site-packages (from mglearn) (1.1.3)\n",
      "Requirement already satisfied: imageio in d:\\othersoftware\\anaconda3\\lib\\site-packages (from mglearn) (2.9.0)\n",
      "Requirement already satisfied: kiwisolver>=1.0.1 in d:\\othersoftware\\anaconda3\\lib\\site-packages (from matplotlib->mglearn) (1.3.0)\n",
      "Requirement already satisfied: python-dateutil>=2.1 in d:\\othersoftware\\anaconda3\\lib\\site-packages (from matplotlib->mglearn) (2.8.1)\n",
      "Requirement already satisfied: pyparsing!=2.0.4,!=2.1.2,!=2.1.6,>=2.0.3 in d:\\othersoftware\\anaconda3\\lib\\site-packages (from matplotlib->mglearn) (2.4.7)\n",
      "Requirement already satisfied: certifi>=2020.06.20 in d:\\othersoftware\\anaconda3\\lib\\site-packages (from matplotlib->mglearn) (2020.12.5)\n",
      "Requirement already satisfied: six in d:\\othersoftware\\anaconda3\\lib\\site-packages (from cycler->mglearn) (1.15.0)\n",
      "Requirement already satisfied: threadpoolctl>=2.0.0 in d:\\othersoftware\\anaconda3\\lib\\site-packages (from scikit-learn->mglearn) (2.1.0)\n",
      "Requirement already satisfied: scipy>=0.19.1 in d:\\othersoftware\\anaconda3\\lib\\site-packages (from scikit-learn->mglearn) (1.5.2)\n",
      "Requirement already satisfied: pytz>=2017.2 in d:\\othersoftware\\anaconda3\\lib\\site-packages (from pandas->mglearn) (2020.1)\n",
      "Requirement already satisfied: lmfit in d:\\othersoftware\\anaconda3\\lib\\site-packages (1.0.1)\n",
      "Requirement already satisfied: scipy>=1.2 in d:\\othersoftware\\anaconda3\\lib\\site-packages (from lmfit) (1.5.2)\n",
      "Requirement already satisfied: uncertainties>=3.0.1 in d:\\othersoftware\\anaconda3\\lib\\site-packages (from lmfit) (3.1.5)\n",
      "Requirement already satisfied: asteval>=0.9.16 in d:\\othersoftware\\anaconda3\\lib\\site-packages (from lmfit) (0.9.21)\n",
      "Requirement already satisfied: numpy>=1.16 in d:\\othersoftware\\anaconda3\\lib\\site-packages (from lmfit) (1.19.2)\n",
      "Requirement already satisfied: future in d:\\othersoftware\\anaconda3\\lib\\site-packages (from uncertainties>=3.0.1->lmfit) (0.18.2)\n"
     ]
    }
   ],
   "source": [
    "# Importing Classifier Modules\n",
    "from sklearn.linear_model import LogisticRegression\n",
    "from sklearn.neighbors import KNeighborsClassifier\n",
    "from sklearn.tree import DecisionTreeClassifier\n",
    "from sklearn.ensemble import RandomForestClassifier\n",
    "from sklearn.naive_bayes import GaussianNB\n",
    "from sklearn.svm import SVC\n",
    "\n",
    "import numpy as np\n",
    "import matplotlib.pyplot as plt\n",
    "!pip install mglearn\n",
    "import mglearn\n",
    "import pandas as pd\n",
    "import pylab as plot\n",
    "!pip install lmfit\n",
    "import lmfit as lf\n",
    "import seaborn as sns\n",
    "import random\n",
    "import os\n",
    "import time\n",
    "from pandas import Series\n",
    "from math import sqrt\n",
    "%matplotlib inline\n",
    "\n",
    "from sklearn.linear_model import LinearRegression, LogisticRegression, Lasso, Ridge\n",
    "from sklearn.neighbors import KNeighborsRegressor, KNeighborsClassifier\n",
    "from sklearn.svm import SVR, SVC, LinearSVC, LinearSVR\n",
    "from sklearn.naive_bayes import GaussianNB, BernoulliNB, MultinomialNB\n",
    "\n",
    "from sklearn.model_selection import train_test_split\n",
    "from sklearn.tree import DecisionTreeRegressor\n",
    "from sklearn.ensemble import RandomForestClassifier, GradientBoostingClassifier\n",
    "from sklearn.preprocessing import MinMaxScaler, StandardScaler\n",
    "from sklearn.model_selection import GridSearchCV, cross_val_score\n",
    "from sklearn.metrics import mean_squared_error, r2_score\n",
    "\n",
    "from sklearn.model_selection import KFold, StratifiedKFold\n",
    "from sklearn.model_selection import cross_val_score\n",
    "k_fold = KFold(n_splits=10, shuffle=True, random_state=0)\n",
    "stratk_fold = StratifiedKFold(n_splits=10, shuffle=True, random_state=0)\n",
    "\n",
    "from sklearn.model_selection import GridSearchCV\n",
    "param_grids = {'learning_rate': [.2, 0.1, 0.01, 0.05, 0.02, 0.01],\n",
    "              'max_depth': [3, 4, 6, 10, 14, 16, 18, 20, 40, 60, 80, 100],\n",
    "              'min_samples_leaf': [2, 3, 4],\n",
    "              'n_estimators': [100, 200, 300, 400, 500],\n",
    "              'max_features': [.5,.3, .2] \n",
    "}   "
   ]
  },
  {
   "cell_type": "code",
   "execution_count": 62,
   "metadata": {},
   "outputs": [],
   "source": [
    "#new_df = classification(df_tweets, y)\n",
    "new_df = pd.read_csv('word2vec_optimized.csv', index_col=0)\n",
    "new_df = new_df.drop(columns=['f1', 'precision', 'recall'])"
   ]
  },
  {
   "cell_type": "code",
   "execution_count": 63,
   "metadata": {},
   "outputs": [],
   "source": [
    "import ast \n",
    "knn_c = KNeighborsClassifier(n_jobs=-1)\n",
    "log_res_l1 = LogisticRegression(penalty='l1', max_iter=1000, solver='liblinear', n_jobs=-1)\n",
    "log_res_l2 = LogisticRegression(penalty='l2', max_iter=1000, solver='lbfgs', n_jobs=-1)\n",
    "lin_svc_l1 = LinearSVC(penalty='l1', dual=False, max_iter=10000)\n",
    "lin_svc_l2 = LinearSVC(penalty='l2', max_iter=10000)\n",
    "nsvm_rbf = SVC(kernel='rbf')\n",
    "d_tree = DecisionTreeClassifier(random_state=0)\n",
    "r_forest = RandomForestClassifier(random_state=0)\n",
    "g_boost = GradientBoostingClassifier(random_state=0)\n",
    "    \n",
    "\n",
    "model_dict = {\n",
    "    'KNN': knn_c,\n",
    "    'Logistic Regression (L1)': log_res_l1,\n",
    "    'Logistic Regression (L2)': log_res_l2,\n",
    "    'Linear SVM (L1)': lin_svc_l1,\n",
    "    'Linear SVM (L2)': lin_svc_l2,\n",
    "    'NonLinear SVM (RBF)': nsvm_rbf,\n",
    "    'Decision Tree': d_tree,\n",
    "    'Random Forest': r_forest,\n",
    "    'XGBoost': g_boost\n",
    "}\n",
    "\n",
    "X_train, X_test, y_train, y_test = train_test_split(df_tweets, y, stratify=y, test_size=0.2, random_state=0)\n",
    "from sklearn.metrics import f1_score, accuracy_score, precision_score, recall_score\n",
    "import ast\n",
    "\n",
    "def calculate_scores(row):\n",
    "    current_model = model_dict[row['Model']]\n",
    "    current_model.set_params(**ast.literal_eval(row['Best Parameters']))\n",
    "    current_model.fit(X_train, y_train)\n",
    "    predictions = current_model.predict(X_test)\n",
    "    row['f1 weighted'] = f1_score(y_test, predictions, average='weighted')\n",
    "    row['f1 micro'] = f1_score(y_test, predictions, average='micro')\n",
    "    row['f1 macro'] = f1_score(y_test, predictions, average='macro')\n",
    "    \n",
    "\n",
    "    df_cm = pd.DataFrame(confusion_matrix(y_test, predictions), index = ['Predicted positive', 'Predicted negative'],\n",
    "                  columns = ['Actual positive', 'Actual negative'])\n",
    "    colors = sns.color_palette('YlOrBr')\n",
    "    plt.figure(figsize = (24,12))\n",
    "    sns.heatmap(df_cm, annot=True, cmap=colors)\n",
    "    plt.title('Confusion Matrix for ' + row['Model'])\n",
    "    plt.show()\n",
    "    plt.savefig('images/' + row['Model'] + ' ' + 'confusion_matrix.png')\n",
    "    return row\n",
    "    "
   ]
  },
  {
   "cell_type": "code",
   "execution_count": 64,
   "metadata": {
    "scrolled": true
   },
   "outputs": [
    {
     "data": {
      "image/png": "[encoded data removed]",
      "text/plain": [
       "<Figure size 1728x864 with 2 Axes>"
      ]
     },
     "metadata": {
      "needs_background": "light"
     },
     "output_type": "display_data"
    },
    {
     "name": "stderr",
     "output_type": "stream",
     "text": [
      "D:\\OtherSoftware\\Anaconda3\\lib\\site-packages\\sklearn\\linear_model\\_logistic.py:1353: UserWarning: 'n_jobs' > 1 does not have any effect when 'solver' is set to 'liblinear'. Got 'n_jobs' = 4.\n",
      "  warnings.warn(\"'n_jobs' > 1 does not have any effect when\"\n"
     ]
    },
    {
     "data": {
      "text/plain": [
       "<Figure size 432x288 with 0 Axes>"
      ]
     },
     "metadata": {},
     "output_type": "display_data"
    },
    {
     "data": {
      "image/png": "[encoded data removed]",
      "text/plain": [
       "<Figure size 1728x864 with 2 Axes>"
      ]
     },
     "metadata": {
      "needs_background": "light"
     },
     "output_type": "display_data"
    },
    {
     "data": {
      "text/plain": [
       "<Figure size 432x288 with 0 Axes>"
      ]
     },
     "metadata": {},
     "output_type": "display_data"
    },
    {
     "data": {
      "image/png": "[encoded data removed]",
      "text/plain": [
       "<Figure size 1728x864 with 2 Axes>"
      ]
     },
     "metadata": {
      "needs_background": "light"
     },
     "output_type": "display_data"
    },
    {
     "name": "stderr",
     "output_type": "stream",
     "text": [
      "D:\\OtherSoftware\\Anaconda3\\lib\\site-packages\\sklearn\\svm\\_base.py:976: ConvergenceWarning: Liblinear failed to converge, increase the number of iterations.\n",
      "  warnings.warn(\"Liblinear failed to converge, increase \"\n"
     ]
    },
    {
     "data": {
      "text/plain": [
       "<Figure size 432x288 with 0 Axes>"
      ]
     },
     "metadata": {},
     "output_type": "display_data"
    },
    {
     "data": {
      "image/png": "[encoded data removed]",
      "text/plain": [
       "<Figure size 1728x864 with 2 Axes>"
      ]
     },
     "metadata": {
      "needs_background": "light"
     },
     "output_type": "display_data"
    },
    {
     "name": "stderr",
     "output_type": "stream",
     "text": [
      "D:\\OtherSoftware\\Anaconda3\\lib\\site-packages\\sklearn\\svm\\_base.py:976: ConvergenceWarning: Liblinear failed to converge, increase the number of iterations.\n",
      "  warnings.warn(\"Liblinear failed to converge, increase \"\n"
     ]
    },
    {
     "data": {
      "text/plain": [
       "<Figure size 432x288 with 0 Axes>"
      ]
     },
     "metadata": {},
     "output_type": "display_data"
    },
    {
     "data": {
      "image/png": "[encoded data removed]",
      "text/plain": [
       "<Figure size 1728x864 with 2 Axes>"
      ]
     },
     "metadata": {
      "needs_background": "light"
     },
     "output_type": "display_data"
    },
    {
     "data": {
      "text/plain": [
       "<Figure size 432x288 with 0 Axes>"
      ]
     },
     "metadata": {},
     "output_type": "display_data"
    },
    {
     "data": {
      "image/png": "[encoded data removed]",
      "text/plain": [
       "<Figure size 1728x864 with 2 Axes>"
      ]
     },
     "metadata": {
      "needs_background": "light"
     },
     "output_type": "display_data"
    },
    {
     "data": {
      "text/plain": [
       "<Figure size 432x288 with 0 Axes>"
      ]
     },
     "metadata": {},
     "output_type": "display_data"
    },
    {
     "data": {
      "image/png": "[encoded data removed]",
      "text/plain": [
       "<Figure size 1728x864 with 2 Axes>"
      ]
     },
     "metadata": {
      "needs_background": "light"
     },
     "output_type": "display_data"
    },
    {
     "data": {
      "text/plain": [
       "<Figure size 432x288 with 0 Axes>"
      ]
     },
     "metadata": {},
     "output_type": "display_data"
    },
    {
     "data": {
      "image/png": "[encoded data removed]",
      "text/plain": [
       "<Figure size 1728x864 with 2 Axes>"
      ]
     },
     "metadata": {
      "needs_background": "light"
     },
     "output_type": "display_data"
    },
    {
     "data": {
      "text/plain": [
       "<Figure size 432x288 with 0 Axes>"
      ]
     },
     "metadata": {},
     "output_type": "display_data"
    },
    {
     "data": {
      "image/png": "[encoded data removed]",
      "text/plain": [
       "<Figure size 1728x864 with 2 Axes>"
      ]
     },
     "metadata": {
      "needs_background": "light"
     },
     "output_type": "display_data"
    },
    {
     "data": {
      "text/plain": [
       "<Figure size 432x288 with 0 Axes>"
      ]
     },
     "metadata": {},
     "output_type": "display_data"
    }
   ],
   "source": [
    "new_df['Model'] = new_df.index\n",
    "stats_df = new_df.apply(lambda row: calculate_scores(row), axis=1)"
   ]
  },
  {
   "cell_type": "code",
   "execution_count": 65,
   "metadata": {},
   "outputs": [
    {
     "data": {
      "text/html": [
       "<div>\n",
       "<style scoped>\n",
       "    .dataframe tbody tr th:only-of-type {\n",
       "        vertical-align: middle;\n",
       "    }\n",
       "\n",
       "    .dataframe tbody tr th {\n",
       "        vertical-align: top;\n",
       "    }\n",
       "\n",
       "    .dataframe thead th {\n",
       "        text-align: right;\n",
       "    }\n",
       "</style>\n",
       "<table border=\"1\" class=\"dataframe\">\n",
       "  <thead>\n",
       "    <tr style=\"text-align: right;\">\n",
       "      <th></th>\n",
       "      <th>Test Accuracy</th>\n",
       "      <th>Training Accuracy</th>\n",
       "      <th>Best Parameters</th>\n",
       "      <th>Run Time</th>\n",
       "      <th>percent of PCC</th>\n",
       "      <th>Model</th>\n",
       "      <th>f1 weighted</th>\n",
       "      <th>f1 micro</th>\n",
       "      <th>f1 macro</th>\n",
       "    </tr>\n",
       "  </thead>\n",
       "  <tbody>\n",
       "    <tr>\n",
       "      <th>KNN</th>\n",
       "      <td>0.720930</td>\n",
       "      <td>0.761628</td>\n",
       "      <td>{'n_neighbors': 4}</td>\n",
       "      <td>5.382352</td>\n",
       "      <td>1.246960</td>\n",
       "      <td>KNN</td>\n",
       "      <td>0.670204</td>\n",
       "      <td>0.744186</td>\n",
       "      <td>0.555869</td>\n",
       "    </tr>\n",
       "    <tr>\n",
       "      <th>Logistic Regression (L1)</th>\n",
       "      <td>0.697674</td>\n",
       "      <td>0.697674</td>\n",
       "      <td>{'C': 1e-10}</td>\n",
       "      <td>1.886265</td>\n",
       "      <td>1.206735</td>\n",
       "      <td>Logistic Regression (L1)</td>\n",
       "      <td>0.573431</td>\n",
       "      <td>0.697674</td>\n",
       "      <td>0.410959</td>\n",
       "    </tr>\n",
       "    <tr>\n",
       "      <th>Logistic Regression (L2)</th>\n",
       "      <td>0.837209</td>\n",
       "      <td>0.848837</td>\n",
       "      <td>{'C': 54555.947811685146}</td>\n",
       "      <td>1.935442</td>\n",
       "      <td>1.448082</td>\n",
       "      <td>Logistic Regression (L2)</td>\n",
       "      <td>0.794503</td>\n",
       "      <td>0.813953</td>\n",
       "      <td>0.739394</td>\n",
       "    </tr>\n",
       "    <tr>\n",
       "      <th>Linear SVM (L1)</th>\n",
       "      <td>0.813953</td>\n",
       "      <td>0.970930</td>\n",
       "      <td>{'C': 428.13323987193957}</td>\n",
       "      <td>5.957663</td>\n",
       "      <td>1.407858</td>\n",
       "      <td>Linear SVM (L1)</td>\n",
       "      <td>0.694106</td>\n",
       "      <td>0.697674</td>\n",
       "      <td>0.633443</td>\n",
       "    </tr>\n",
       "    <tr>\n",
       "      <th>Linear SVM (L2)</th>\n",
       "      <td>0.790698</td>\n",
       "      <td>0.784884</td>\n",
       "      <td>{'C': 4832.930238571752}</td>\n",
       "      <td>7.937805</td>\n",
       "      <td>1.367633</td>\n",
       "      <td>Linear SVM (L2)</td>\n",
       "      <td>0.815726</td>\n",
       "      <td>0.837209</td>\n",
       "      <td>0.763551</td>\n",
       "    </tr>\n",
       "    <tr>\n",
       "      <th>NonLinear SVM (RBF)</th>\n",
       "      <td>0.674419</td>\n",
       "      <td>0.994186</td>\n",
       "      <td>{'C': 37.92690190732238, 'gamma': 4832.9302385...</td>\n",
       "      <td>6.377883</td>\n",
       "      <td>1.166511</td>\n",
       "      <td>NonLinear SVM (RBF)</td>\n",
       "      <td>0.674419</td>\n",
       "      <td>0.674419</td>\n",
       "      <td>0.614103</td>\n",
       "    </tr>\n",
       "    <tr>\n",
       "      <th>Decision Tree</th>\n",
       "      <td>-0.145191</td>\n",
       "      <td>0.137483</td>\n",
       "      <td>{'max_depth': 1}</td>\n",
       "      <td>2.241006</td>\n",
       "      <td>-0.251131</td>\n",
       "      <td>Decision Tree</td>\n",
       "      <td>0.610241</td>\n",
       "      <td>0.697674</td>\n",
       "      <td>0.475117</td>\n",
       "    </tr>\n",
       "    <tr>\n",
       "      <th>Random Forest</th>\n",
       "      <td>0.767442</td>\n",
       "      <td>0.994186</td>\n",
       "      <td>{'max_depth': 7, 'n_estimators': 100}</td>\n",
       "      <td>342.197690</td>\n",
       "      <td>1.327409</td>\n",
       "      <td>Random Forest</td>\n",
       "      <td>0.763076</td>\n",
       "      <td>0.790698</td>\n",
       "      <td>0.695994</td>\n",
       "    </tr>\n",
       "    <tr>\n",
       "      <th>XGBoost</th>\n",
       "      <td>0.744186</td>\n",
       "      <td>0.994186</td>\n",
       "      <td>{'learning_rate': 0.1, 'max_depth': 2, 'n_esti...</td>\n",
       "      <td>5370.757274</td>\n",
       "      <td>1.287184</td>\n",
       "      <td>XGBoost</td>\n",
       "      <td>0.581395</td>\n",
       "      <td>0.581395</td>\n",
       "      <td>0.503846</td>\n",
       "    </tr>\n",
       "  </tbody>\n",
       "</table>\n",
       "</div>"
      ],
      "text/plain": [
       "                          Test Accuracy  Training Accuracy  \\\n",
       "KNN                            0.720930           0.761628   \n",
       "Logistic Regression (L1)       0.697674           0.697674   \n",
       "Logistic Regression (L2)       0.837209           0.848837   \n",
       "Linear SVM (L1)                0.813953           0.970930   \n",
       "Linear SVM (L2)                0.790698           0.784884   \n",
       "NonLinear SVM (RBF)            0.674419           0.994186   \n",
       "Decision Tree                 -0.145191           0.137483   \n",
       "Random Forest                  0.767442           0.994186   \n",
       "XGBoost                        0.744186           0.994186   \n",
       "\n",
       "                                                            Best Parameters  \\\n",
       "KNN                                                      {'n_neighbors': 4}   \n",
       "Logistic Regression (L1)                                       {'C': 1e-10}   \n",
       "Logistic Regression (L2)                          {'C': 54555.947811685146}   \n",
       "Linear SVM (L1)                                   {'C': 428.13323987193957}   \n",
       "Linear SVM (L2)                                    {'C': 4832.930238571752}   \n",
       "NonLinear SVM (RBF)       {'C': 37.92690190732238, 'gamma': 4832.9302385...   \n",
       "Decision Tree                                              {'max_depth': 1}   \n",
       "Random Forest                         {'max_depth': 7, 'n_estimators': 100}   \n",
       "XGBoost                   {'learning_rate': 0.1, 'max_depth': 2, 'n_esti...   \n",
       "\n",
       "                             Run Time  percent of PCC  \\\n",
       "KNN                          5.382352        1.246960   \n",
       "Logistic Regression (L1)     1.886265        1.206735   \n",
       "Logistic Regression (L2)     1.935442        1.448082   \n",
       "Linear SVM (L1)              5.957663        1.407858   \n",
       "Linear SVM (L2)              7.937805        1.367633   \n",
       "NonLinear SVM (RBF)          6.377883        1.166511   \n",
       "Decision Tree                2.241006       -0.251131   \n",
       "Random Forest              342.197690        1.327409   \n",
       "XGBoost                   5370.757274        1.287184   \n",
       "\n",
       "                                             Model  f1 weighted  f1 micro  \\\n",
       "KNN                                            KNN     0.670204  0.744186   \n",
       "Logistic Regression (L1)  Logistic Regression (L1)     0.573431  0.697674   \n",
       "Logistic Regression (L2)  Logistic Regression (L2)     0.794503  0.813953   \n",
       "Linear SVM (L1)                    Linear SVM (L1)     0.694106  0.697674   \n",
       "Linear SVM (L2)                    Linear SVM (L2)     0.815726  0.837209   \n",
       "NonLinear SVM (RBF)            NonLinear SVM (RBF)     0.674419  0.674419   \n",
       "Decision Tree                        Decision Tree     0.610241  0.697674   \n",
       "Random Forest                        Random Forest     0.763076  0.790698   \n",
       "XGBoost                                    XGBoost     0.581395  0.581395   \n",
       "\n",
       "                          f1 macro  \n",
       "KNN                       0.555869  \n",
       "Logistic Regression (L1)  0.410959  \n",
       "Logistic Regression (L2)  0.739394  \n",
       "Linear SVM (L1)           0.633443  \n",
       "Linear SVM (L2)           0.763551  \n",
       "NonLinear SVM (RBF)       0.614103  \n",
       "Decision Tree             0.475117  \n",
       "Random Forest             0.695994  \n",
       "XGBoost                   0.503846  "
      ]
     },
     "execution_count": 65,
     "metadata": {},
     "output_type": "execute_result"
    }
   ],
   "source": [
    "stats_df"
   ]
  },
  {
   "cell_type": "code",
   "execution_count": 66,
   "metadata": {},
   "outputs": [],
   "source": [
    "#stats_df.to_csv('word2vec_optimized.csv')"
   ]
  },
  {
   "cell_type": "code",
   "execution_count": 67,
   "metadata": {},
   "outputs": [
    {
     "name": "stdout",
     "output_type": "stream",
     "text": [
      "KNeighborsClassifier(n_jobs=-1)\n",
      "LogisticRegression(max_iter=1000, n_jobs=-1, penalty='l1', solver='liblinear')\n",
      "LogisticRegression(max_iter=1000, n_jobs=-1)\n"
     ]
    },
    {
     "name": "stderr",
     "output_type": "stream",
     "text": [
      "D:\\OtherSoftware\\Anaconda3\\lib\\site-packages\\sklearn\\linear_model\\_logistic.py:1353: UserWarning: 'n_jobs' > 1 does not have any effect when 'solver' is set to 'liblinear'. Got 'n_jobs' = 4.\n",
      "  warnings.warn(\"'n_jobs' > 1 does not have any effect when\"\n",
      "D:\\OtherSoftware\\Anaconda3\\lib\\site-packages\\sklearn\\metrics\\_classification.py:1221: UndefinedMetricWarning: Recall is ill-defined and being set to 0.0 in labels with no true samples. Use `zero_division` parameter to control this behavior.\n",
      "  _warn_prf(average, modifier, msg_start, len(result))\n"
     ]
    },
    {
     "name": "stdout",
     "output_type": "stream",
     "text": [
      "LinearSVC(dual=False, max_iter=10000, penalty='l1')\n"
     ]
    },
    {
     "name": "stderr",
     "output_type": "stream",
     "text": [
      "D:\\OtherSoftware\\Anaconda3\\lib\\site-packages\\sklearn\\svm\\_base.py:976: ConvergenceWarning: Liblinear failed to converge, increase the number of iterations.\n",
      "  warnings.warn(\"Liblinear failed to converge, increase \"\n"
     ]
    },
    {
     "name": "stdout",
     "output_type": "stream",
     "text": [
      "LinearSVC(max_iter=10000)\n"
     ]
    },
    {
     "name": "stderr",
     "output_type": "stream",
     "text": [
      "D:\\OtherSoftware\\Anaconda3\\lib\\site-packages\\sklearn\\svm\\_base.py:976: ConvergenceWarning: Liblinear failed to converge, increase the number of iterations.\n",
      "  warnings.warn(\"Liblinear failed to converge, increase \"\n"
     ]
    },
    {
     "name": "stdout",
     "output_type": "stream",
     "text": [
      "SVC()\n",
      "DecisionTreeClassifier(max_depth=range(1, 15), random_state=0)\n",
      "RandomForestClassifier(max_depth=range(1, 15), random_state=0)\n",
      "XGBClassifier(base_score=None, booster=None, colsample_bylevel=None,\n",
      "              colsample_bynode=None, colsample_bytree=None, gamma=None,\n",
      "              gpu_id=None, importance_type='gain', interaction_constraints=None,\n",
      "              learning_rate=0.01, max_delta_step=None, max_depth=range(1, 15),\n",
      "              min_child_weight=None, missing=nan, monotone_constraints=None,\n",
      "              n_estimators=100, n_jobs=None, num_parallel_tree=None,\n",
      "              random_state=0, reg_alpha=None, reg_lambda=None,\n",
      "              scale_pos_weight=None, subsample=None, tree_method=None,\n",
      "              validate_parameters=None, verbosity=None)\n",
      "[16:20:37] WARNING: C:/Users/Administrator/workspace/xgboost-win64_release_1.3.0/src/learner.cc:1061: Starting in XGBoost 1.3.0, the default evaluation metric used with the objective 'binary:logistic' was changed from 'error' to 'logloss'. Explicitly set eval_metric if you'd like to restore the old behavior.\n"
     ]
    },
    {
     "name": "stderr",
     "output_type": "stream",
     "text": [
      "D:\\OtherSoftware\\Anaconda3\\lib\\site-packages\\xgboost\\sklearn.py:888: UserWarning: The use of label encoder in XGBClassifier is deprecated and will be removed in a future release. To remove this warning, do the following: 1) Pass option use_label_encoder=False when constructing XGBClassifier object; and 2) Encode your labels (y) as integers starting with 0, i.e. 0, 1, 2, ..., [num_class - 1].\n",
      "  warnings.warn(label_encoder_deprecation_msg, UserWarning)\n"
     ]
    }
   ],
   "source": [
    "from sklearn.metrics import f1_score\n",
    "from sklearn.metrics import precision_score\n",
    "from sklearn.metrics import recall_score\n",
    "from sklearn.ensemble import GradientBoostingClassifier\n",
    "import xgboost as XGBClassifier\n",
    "\n",
    "knn_c = KNeighborsClassifier(n_jobs=-1)\n",
    "log_res_l1 = LogisticRegression(penalty='l1', max_iter=1000, solver='liblinear', n_jobs=-1)\n",
    "log_res_l2 = LogisticRegression(penalty='l2', max_iter=1000, n_jobs=-1)\n",
    "lin_svc_l1 = LinearSVC(penalty='l1', dual=False, max_iter=10000)\n",
    "lin_svc_l2 = LinearSVC(penalty='l2', max_iter=10000)\n",
    "# cl7 = SVC(kernel='poly', degree=3)\n",
    "depth_settings = range(1, 15)\n",
    "nsvm_rbf = SVC(kernel='rbf')\n",
    "d_tree = DecisionTreeClassifier(random_state=0, max_depth=depth_settings)\n",
    "r_forest = RandomForestClassifier(max_depth=depth_settings, random_state=0)\n",
    "xg_boost = XGBClassifier.XGBClassifier(random_state=0, max_depth=depth_settings, learning_rate=0.01)\n",
    "\n",
    "model_list = [knn_c, log_res_l1, log_res_l2, lin_svc_l1, lin_svc_l2, nsvm_rbf, d_tree, r_forest, xg_boost]\n",
    "model_dict = {}\n",
    "\n",
    "f1_scores_micro = []\n",
    "f1_scores_macro = []\n",
    "f1_scores_weighted = []\n",
    "\n",
    "precision_scores_micro = []\n",
    "precision_scores_macro = []\n",
    "precision_scores_weighted = []\n",
    "\n",
    "recall_scores_micro = []\n",
    "recall_scores_macro = []\n",
    "recall_scores_weighted = []\n",
    "\n",
    "counter = 0\n",
    "model_predict_df = pd.DataFrame()\n",
    "for index, row in stats_df.iterrows():\n",
    "    model_dict[index] = model_list[counter]\n",
    "    curr_model = model_list[counter]\n",
    "    print(curr_model)\n",
    "    curr_model.set_params(**ast.literal_eval(row['Best Parameters']))\n",
    "    trained_curr_model = curr_model.fit(X_train, y_train)\n",
    "    predictions = trained_curr_model.predict(X_test)\n",
    "    \n",
    "    f1_scores_micro.append(f1_score(predictions, y_test, average='micro'))\n",
    "    f1_scores_macro.append(f1_score(predictions, y_test, average='macro'))\n",
    "    f1_scores_weighted.append(f1_score(predictions, y_test, average='weighted'))\n",
    "    \n",
    "    precision_scores_micro.append(precision_score(predictions, y_test, average='micro'))\n",
    "    precision_scores_macro.append(precision_score(predictions, y_test, average='macro'))\n",
    "    precision_scores_weighted.append(precision_score(predictions, y_test, average='weighted'))\n",
    "    \n",
    "    recall_scores_micro.append(recall_score(predictions, y_test, average='micro'))\n",
    "    recall_scores_macro.append(recall_score(predictions, y_test, average='macro'))\n",
    "    recall_scores_weighted.append(recall_score(predictions, y_test, average='weighted'))\n",
    "    \n",
    "    model_predict_df[index] = predictions\n",
    "    counter += 1"
   ]
  },
  {
   "cell_type": "code",
   "execution_count": 68,
   "metadata": {},
   "outputs": [
    {
     "data": {
      "text/html": [
       "<div>\n",
       "<style scoped>\n",
       "    .dataframe tbody tr th:only-of-type {\n",
       "        vertical-align: middle;\n",
       "    }\n",
       "\n",
       "    .dataframe tbody tr th {\n",
       "        vertical-align: top;\n",
       "    }\n",
       "\n",
       "    .dataframe thead th {\n",
       "        text-align: right;\n",
       "    }\n",
       "</style>\n",
       "<table border=\"1\" class=\"dataframe\">\n",
       "  <thead>\n",
       "    <tr style=\"text-align: right;\">\n",
       "      <th></th>\n",
       "      <th>KNN</th>\n",
       "      <th>Logistic Regression (L1)</th>\n",
       "      <th>Logistic Regression (L2)</th>\n",
       "      <th>Linear SVM (L1)</th>\n",
       "      <th>Linear SVM (L2)</th>\n",
       "      <th>NonLinear SVM (RBF)</th>\n",
       "      <th>Decision Tree</th>\n",
       "      <th>Random Forest</th>\n",
       "      <th>XGBoost</th>\n",
       "    </tr>\n",
       "  </thead>\n",
       "  <tbody>\n",
       "    <tr>\n",
       "      <th>0</th>\n",
       "      <td>-1</td>\n",
       "      <td>-1</td>\n",
       "      <td>-1</td>\n",
       "      <td>1</td>\n",
       "      <td>-1</td>\n",
       "      <td>1</td>\n",
       "      <td>-1</td>\n",
       "      <td>-1</td>\n",
       "      <td>1</td>\n",
       "    </tr>\n",
       "    <tr>\n",
       "      <th>1</th>\n",
       "      <td>-1</td>\n",
       "      <td>-1</td>\n",
       "      <td>-1</td>\n",
       "      <td>-1</td>\n",
       "      <td>-1</td>\n",
       "      <td>-1</td>\n",
       "      <td>-1</td>\n",
       "      <td>-1</td>\n",
       "      <td>-1</td>\n",
       "    </tr>\n",
       "    <tr>\n",
       "      <th>2</th>\n",
       "      <td>1</td>\n",
       "      <td>-1</td>\n",
       "      <td>1</td>\n",
       "      <td>1</td>\n",
       "      <td>1</td>\n",
       "      <td>1</td>\n",
       "      <td>-1</td>\n",
       "      <td>1</td>\n",
       "      <td>1</td>\n",
       "    </tr>\n",
       "    <tr>\n",
       "      <th>3</th>\n",
       "      <td>-1</td>\n",
       "      <td>-1</td>\n",
       "      <td>-1</td>\n",
       "      <td>-1</td>\n",
       "      <td>-1</td>\n",
       "      <td>-1</td>\n",
       "      <td>-1</td>\n",
       "      <td>-1</td>\n",
       "      <td>-1</td>\n",
       "    </tr>\n",
       "    <tr>\n",
       "      <th>4</th>\n",
       "      <td>-1</td>\n",
       "      <td>-1</td>\n",
       "      <td>-1</td>\n",
       "      <td>1</td>\n",
       "      <td>-1</td>\n",
       "      <td>-1</td>\n",
       "      <td>-1</td>\n",
       "      <td>-1</td>\n",
       "      <td>-1</td>\n",
       "    </tr>\n",
       "    <tr>\n",
       "      <th>5</th>\n",
       "      <td>-1</td>\n",
       "      <td>-1</td>\n",
       "      <td>-1</td>\n",
       "      <td>-1</td>\n",
       "      <td>-1</td>\n",
       "      <td>-1</td>\n",
       "      <td>-1</td>\n",
       "      <td>-1</td>\n",
       "      <td>-1</td>\n",
       "    </tr>\n",
       "    <tr>\n",
       "      <th>6</th>\n",
       "      <td>-1</td>\n",
       "      <td>-1</td>\n",
       "      <td>-1</td>\n",
       "      <td>1</td>\n",
       "      <td>-1</td>\n",
       "      <td>1</td>\n",
       "      <td>-1</td>\n",
       "      <td>-1</td>\n",
       "      <td>-1</td>\n",
       "    </tr>\n",
       "    <tr>\n",
       "      <th>7</th>\n",
       "      <td>-1</td>\n",
       "      <td>-1</td>\n",
       "      <td>-1</td>\n",
       "      <td>-1</td>\n",
       "      <td>-1</td>\n",
       "      <td>1</td>\n",
       "      <td>-1</td>\n",
       "      <td>-1</td>\n",
       "      <td>-1</td>\n",
       "    </tr>\n",
       "    <tr>\n",
       "      <th>8</th>\n",
       "      <td>-1</td>\n",
       "      <td>-1</td>\n",
       "      <td>-1</td>\n",
       "      <td>1</td>\n",
       "      <td>-1</td>\n",
       "      <td>-1</td>\n",
       "      <td>-1</td>\n",
       "      <td>-1</td>\n",
       "      <td>-1</td>\n",
       "    </tr>\n",
       "    <tr>\n",
       "      <th>9</th>\n",
       "      <td>-1</td>\n",
       "      <td>-1</td>\n",
       "      <td>-1</td>\n",
       "      <td>-1</td>\n",
       "      <td>-1</td>\n",
       "      <td>-1</td>\n",
       "      <td>-1</td>\n",
       "      <td>-1</td>\n",
       "      <td>-1</td>\n",
       "    </tr>\n",
       "    <tr>\n",
       "      <th>10</th>\n",
       "      <td>-1</td>\n",
       "      <td>-1</td>\n",
       "      <td>-1</td>\n",
       "      <td>-1</td>\n",
       "      <td>-1</td>\n",
       "      <td>1</td>\n",
       "      <td>-1</td>\n",
       "      <td>-1</td>\n",
       "      <td>-1</td>\n",
       "    </tr>\n",
       "    <tr>\n",
       "      <th>11</th>\n",
       "      <td>-1</td>\n",
       "      <td>-1</td>\n",
       "      <td>1</td>\n",
       "      <td>1</td>\n",
       "      <td>1</td>\n",
       "      <td>-1</td>\n",
       "      <td>-1</td>\n",
       "      <td>-1</td>\n",
       "      <td>1</td>\n",
       "    </tr>\n",
       "    <tr>\n",
       "      <th>12</th>\n",
       "      <td>-1</td>\n",
       "      <td>-1</td>\n",
       "      <td>1</td>\n",
       "      <td>1</td>\n",
       "      <td>1</td>\n",
       "      <td>1</td>\n",
       "      <td>-1</td>\n",
       "      <td>1</td>\n",
       "      <td>1</td>\n",
       "    </tr>\n",
       "    <tr>\n",
       "      <th>13</th>\n",
       "      <td>-1</td>\n",
       "      <td>-1</td>\n",
       "      <td>-1</td>\n",
       "      <td>-1</td>\n",
       "      <td>-1</td>\n",
       "      <td>-1</td>\n",
       "      <td>-1</td>\n",
       "      <td>-1</td>\n",
       "      <td>-1</td>\n",
       "    </tr>\n",
       "    <tr>\n",
       "      <th>14</th>\n",
       "      <td>-1</td>\n",
       "      <td>-1</td>\n",
       "      <td>-1</td>\n",
       "      <td>-1</td>\n",
       "      <td>-1</td>\n",
       "      <td>-1</td>\n",
       "      <td>-1</td>\n",
       "      <td>-1</td>\n",
       "      <td>-1</td>\n",
       "    </tr>\n",
       "    <tr>\n",
       "      <th>15</th>\n",
       "      <td>-1</td>\n",
       "      <td>-1</td>\n",
       "      <td>-1</td>\n",
       "      <td>-1</td>\n",
       "      <td>-1</td>\n",
       "      <td>-1</td>\n",
       "      <td>-1</td>\n",
       "      <td>-1</td>\n",
       "      <td>-1</td>\n",
       "    </tr>\n",
       "    <tr>\n",
       "      <th>16</th>\n",
       "      <td>-1</td>\n",
       "      <td>-1</td>\n",
       "      <td>-1</td>\n",
       "      <td>1</td>\n",
       "      <td>-1</td>\n",
       "      <td>1</td>\n",
       "      <td>-1</td>\n",
       "      <td>-1</td>\n",
       "      <td>1</td>\n",
       "    </tr>\n",
       "    <tr>\n",
       "      <th>17</th>\n",
       "      <td>-1</td>\n",
       "      <td>-1</td>\n",
       "      <td>-1</td>\n",
       "      <td>-1</td>\n",
       "      <td>-1</td>\n",
       "      <td>-1</td>\n",
       "      <td>-1</td>\n",
       "      <td>-1</td>\n",
       "      <td>-1</td>\n",
       "    </tr>\n",
       "    <tr>\n",
       "      <th>18</th>\n",
       "      <td>-1</td>\n",
       "      <td>-1</td>\n",
       "      <td>-1</td>\n",
       "      <td>-1</td>\n",
       "      <td>-1</td>\n",
       "      <td>-1</td>\n",
       "      <td>-1</td>\n",
       "      <td>-1</td>\n",
       "      <td>-1</td>\n",
       "    </tr>\n",
       "    <tr>\n",
       "      <th>19</th>\n",
       "      <td>-1</td>\n",
       "      <td>-1</td>\n",
       "      <td>-1</td>\n",
       "      <td>-1</td>\n",
       "      <td>-1</td>\n",
       "      <td>-1</td>\n",
       "      <td>-1</td>\n",
       "      <td>-1</td>\n",
       "      <td>-1</td>\n",
       "    </tr>\n",
       "    <tr>\n",
       "      <th>20</th>\n",
       "      <td>-1</td>\n",
       "      <td>-1</td>\n",
       "      <td>-1</td>\n",
       "      <td>-1</td>\n",
       "      <td>-1</td>\n",
       "      <td>-1</td>\n",
       "      <td>-1</td>\n",
       "      <td>-1</td>\n",
       "      <td>-1</td>\n",
       "    </tr>\n",
       "    <tr>\n",
       "      <th>21</th>\n",
       "      <td>-1</td>\n",
       "      <td>-1</td>\n",
       "      <td>-1</td>\n",
       "      <td>-1</td>\n",
       "      <td>-1</td>\n",
       "      <td>-1</td>\n",
       "      <td>-1</td>\n",
       "      <td>-1</td>\n",
       "      <td>-1</td>\n",
       "    </tr>\n",
       "    <tr>\n",
       "      <th>22</th>\n",
       "      <td>-1</td>\n",
       "      <td>-1</td>\n",
       "      <td>-1</td>\n",
       "      <td>-1</td>\n",
       "      <td>-1</td>\n",
       "      <td>-1</td>\n",
       "      <td>-1</td>\n",
       "      <td>-1</td>\n",
       "      <td>-1</td>\n",
       "    </tr>\n",
       "    <tr>\n",
       "      <th>23</th>\n",
       "      <td>-1</td>\n",
       "      <td>-1</td>\n",
       "      <td>-1</td>\n",
       "      <td>-1</td>\n",
       "      <td>-1</td>\n",
       "      <td>-1</td>\n",
       "      <td>-1</td>\n",
       "      <td>-1</td>\n",
       "      <td>-1</td>\n",
       "    </tr>\n",
       "    <tr>\n",
       "      <th>24</th>\n",
       "      <td>-1</td>\n",
       "      <td>-1</td>\n",
       "      <td>-1</td>\n",
       "      <td>-1</td>\n",
       "      <td>-1</td>\n",
       "      <td>-1</td>\n",
       "      <td>-1</td>\n",
       "      <td>-1</td>\n",
       "      <td>1</td>\n",
       "    </tr>\n",
       "    <tr>\n",
       "      <th>25</th>\n",
       "      <td>-1</td>\n",
       "      <td>-1</td>\n",
       "      <td>1</td>\n",
       "      <td>1</td>\n",
       "      <td>-1</td>\n",
       "      <td>1</td>\n",
       "      <td>-1</td>\n",
       "      <td>-1</td>\n",
       "      <td>1</td>\n",
       "    </tr>\n",
       "    <tr>\n",
       "      <th>26</th>\n",
       "      <td>-1</td>\n",
       "      <td>-1</td>\n",
       "      <td>1</td>\n",
       "      <td>-1</td>\n",
       "      <td>1</td>\n",
       "      <td>1</td>\n",
       "      <td>-1</td>\n",
       "      <td>1</td>\n",
       "      <td>-1</td>\n",
       "    </tr>\n",
       "    <tr>\n",
       "      <th>27</th>\n",
       "      <td>-1</td>\n",
       "      <td>-1</td>\n",
       "      <td>-1</td>\n",
       "      <td>-1</td>\n",
       "      <td>-1</td>\n",
       "      <td>-1</td>\n",
       "      <td>-1</td>\n",
       "      <td>1</td>\n",
       "      <td>1</td>\n",
       "    </tr>\n",
       "    <tr>\n",
       "      <th>28</th>\n",
       "      <td>-1</td>\n",
       "      <td>-1</td>\n",
       "      <td>-1</td>\n",
       "      <td>-1</td>\n",
       "      <td>-1</td>\n",
       "      <td>1</td>\n",
       "      <td>-1</td>\n",
       "      <td>-1</td>\n",
       "      <td>-1</td>\n",
       "    </tr>\n",
       "    <tr>\n",
       "      <th>29</th>\n",
       "      <td>-1</td>\n",
       "      <td>-1</td>\n",
       "      <td>-1</td>\n",
       "      <td>-1</td>\n",
       "      <td>-1</td>\n",
       "      <td>-1</td>\n",
       "      <td>-1</td>\n",
       "      <td>-1</td>\n",
       "      <td>-1</td>\n",
       "    </tr>\n",
       "    <tr>\n",
       "      <th>30</th>\n",
       "      <td>-1</td>\n",
       "      <td>-1</td>\n",
       "      <td>-1</td>\n",
       "      <td>-1</td>\n",
       "      <td>-1</td>\n",
       "      <td>-1</td>\n",
       "      <td>-1</td>\n",
       "      <td>-1</td>\n",
       "      <td>-1</td>\n",
       "    </tr>\n",
       "    <tr>\n",
       "      <th>31</th>\n",
       "      <td>-1</td>\n",
       "      <td>-1</td>\n",
       "      <td>-1</td>\n",
       "      <td>-1</td>\n",
       "      <td>-1</td>\n",
       "      <td>-1</td>\n",
       "      <td>-1</td>\n",
       "      <td>-1</td>\n",
       "      <td>-1</td>\n",
       "    </tr>\n",
       "    <tr>\n",
       "      <th>32</th>\n",
       "      <td>-1</td>\n",
       "      <td>-1</td>\n",
       "      <td>1</td>\n",
       "      <td>1</td>\n",
       "      <td>1</td>\n",
       "      <td>1</td>\n",
       "      <td>1</td>\n",
       "      <td>1</td>\n",
       "      <td>1</td>\n",
       "    </tr>\n",
       "    <tr>\n",
       "      <th>33</th>\n",
       "      <td>-1</td>\n",
       "      <td>-1</td>\n",
       "      <td>-1</td>\n",
       "      <td>-1</td>\n",
       "      <td>-1</td>\n",
       "      <td>-1</td>\n",
       "      <td>-1</td>\n",
       "      <td>-1</td>\n",
       "      <td>-1</td>\n",
       "    </tr>\n",
       "    <tr>\n",
       "      <th>34</th>\n",
       "      <td>-1</td>\n",
       "      <td>-1</td>\n",
       "      <td>-1</td>\n",
       "      <td>-1</td>\n",
       "      <td>-1</td>\n",
       "      <td>1</td>\n",
       "      <td>-1</td>\n",
       "      <td>-1</td>\n",
       "      <td>-1</td>\n",
       "    </tr>\n",
       "    <tr>\n",
       "      <th>35</th>\n",
       "      <td>-1</td>\n",
       "      <td>-1</td>\n",
       "      <td>-1</td>\n",
       "      <td>-1</td>\n",
       "      <td>-1</td>\n",
       "      <td>-1</td>\n",
       "      <td>-1</td>\n",
       "      <td>-1</td>\n",
       "      <td>-1</td>\n",
       "    </tr>\n",
       "    <tr>\n",
       "      <th>36</th>\n",
       "      <td>1</td>\n",
       "      <td>-1</td>\n",
       "      <td>1</td>\n",
       "      <td>1</td>\n",
       "      <td>1</td>\n",
       "      <td>1</td>\n",
       "      <td>-1</td>\n",
       "      <td>1</td>\n",
       "      <td>1</td>\n",
       "    </tr>\n",
       "    <tr>\n",
       "      <th>37</th>\n",
       "      <td>-1</td>\n",
       "      <td>-1</td>\n",
       "      <td>-1</td>\n",
       "      <td>-1</td>\n",
       "      <td>-1</td>\n",
       "      <td>-1</td>\n",
       "      <td>-1</td>\n",
       "      <td>-1</td>\n",
       "      <td>-1</td>\n",
       "    </tr>\n",
       "    <tr>\n",
       "      <th>38</th>\n",
       "      <td>-1</td>\n",
       "      <td>-1</td>\n",
       "      <td>-1</td>\n",
       "      <td>-1</td>\n",
       "      <td>-1</td>\n",
       "      <td>-1</td>\n",
       "      <td>-1</td>\n",
       "      <td>-1</td>\n",
       "      <td>-1</td>\n",
       "    </tr>\n",
       "    <tr>\n",
       "      <th>39</th>\n",
       "      <td>-1</td>\n",
       "      <td>-1</td>\n",
       "      <td>-1</td>\n",
       "      <td>1</td>\n",
       "      <td>-1</td>\n",
       "      <td>-1</td>\n",
       "      <td>1</td>\n",
       "      <td>-1</td>\n",
       "      <td>-1</td>\n",
       "    </tr>\n",
       "    <tr>\n",
       "      <th>40</th>\n",
       "      <td>-1</td>\n",
       "      <td>-1</td>\n",
       "      <td>-1</td>\n",
       "      <td>-1</td>\n",
       "      <td>-1</td>\n",
       "      <td>-1</td>\n",
       "      <td>-1</td>\n",
       "      <td>-1</td>\n",
       "      <td>-1</td>\n",
       "    </tr>\n",
       "    <tr>\n",
       "      <th>41</th>\n",
       "      <td>-1</td>\n",
       "      <td>-1</td>\n",
       "      <td>-1</td>\n",
       "      <td>-1</td>\n",
       "      <td>-1</td>\n",
       "      <td>-1</td>\n",
       "      <td>-1</td>\n",
       "      <td>-1</td>\n",
       "      <td>-1</td>\n",
       "    </tr>\n",
       "    <tr>\n",
       "      <th>42</th>\n",
       "      <td>-1</td>\n",
       "      <td>-1</td>\n",
       "      <td>-1</td>\n",
       "      <td>-1</td>\n",
       "      <td>-1</td>\n",
       "      <td>-1</td>\n",
       "      <td>-1</td>\n",
       "      <td>-1</td>\n",
       "      <td>-1</td>\n",
       "    </tr>\n",
       "  </tbody>\n",
       "</table>\n",
       "</div>"
      ],
      "text/plain": [
       "    KNN  Logistic Regression (L1)  Logistic Regression (L2)  Linear SVM (L1)  \\\n",
       "0    -1                        -1                        -1                1   \n",
       "1    -1                        -1                        -1               -1   \n",
       "2     1                        -1                         1                1   \n",
       "3    -1                        -1                        -1               -1   \n",
       "4    -1                        -1                        -1                1   \n",
       "5    -1                        -1                        -1               -1   \n",
       "6    -1                        -1                        -1                1   \n",
       "7    -1                        -1                        -1               -1   \n",
       "8    -1                        -1                        -1                1   \n",
       "9    -1                        -1                        -1               -1   \n",
       "10   -1                        -1                        -1               -1   \n",
       "11   -1                        -1                         1                1   \n",
       "12   -1                        -1                         1                1   \n",
       "13   -1                        -1                        -1               -1   \n",
       "14   -1                        -1                        -1               -1   \n",
       "15   -1                        -1                        -1               -1   \n",
       "16   -1                        -1                        -1                1   \n",
       "17   -1                        -1                        -1               -1   \n",
       "18   -1                        -1                        -1               -1   \n",
       "19   -1                        -1                        -1               -1   \n",
       "20   -1                        -1                        -1               -1   \n",
       "21   -1                        -1                        -1               -1   \n",
       "22   -1                        -1                        -1               -1   \n",
       "23   -1                        -1                        -1               -1   \n",
       "24   -1                        -1                        -1               -1   \n",
       "25   -1                        -1                         1                1   \n",
       "26   -1                        -1                         1               -1   \n",
       "27   -1                        -1                        -1               -1   \n",
       "28   -1                        -1                        -1               -1   \n",
       "29   -1                        -1                        -1               -1   \n",
       "30   -1                        -1                        -1               -1   \n",
       "31   -1                        -1                        -1               -1   \n",
       "32   -1                        -1                         1                1   \n",
       "33   -1                        -1                        -1               -1   \n",
       "34   -1                        -1                        -1               -1   \n",
       "35   -1                        -1                        -1               -1   \n",
       "36    1                        -1                         1                1   \n",
       "37   -1                        -1                        -1               -1   \n",
       "38   -1                        -1                        -1               -1   \n",
       "39   -1                        -1                        -1                1   \n",
       "40   -1                        -1                        -1               -1   \n",
       "41   -1                        -1                        -1               -1   \n",
       "42   -1                        -1                        -1               -1   \n",
       "\n",
       "    Linear SVM (L2)  NonLinear SVM (RBF)  Decision Tree  Random Forest  \\\n",
       "0                -1                    1             -1             -1   \n",
       "1                -1                   -1             -1             -1   \n",
       "2                 1                    1             -1              1   \n",
       "3                -1                   -1             -1             -1   \n",
       "4                -1                   -1             -1             -1   \n",
       "5                -1                   -1             -1             -1   \n",
       "6                -1                    1             -1             -1   \n",
       "7                -1                    1             -1             -1   \n",
       "8                -1                   -1             -1             -1   \n",
       "9                -1                   -1             -1             -1   \n",
       "10               -1                    1             -1             -1   \n",
       "11                1                   -1             -1             -1   \n",
       "12                1                    1             -1              1   \n",
       "13               -1                   -1             -1             -1   \n",
       "14               -1                   -1             -1             -1   \n",
       "15               -1                   -1             -1             -1   \n",
       "16               -1                    1             -1             -1   \n",
       "17               -1                   -1             -1             -1   \n",
       "18               -1                   -1             -1             -1   \n",
       "19               -1                   -1             -1             -1   \n",
       "20               -1                   -1             -1             -1   \n",
       "21               -1                   -1             -1             -1   \n",
       "22               -1                   -1             -1             -1   \n",
       "23               -1                   -1             -1             -1   \n",
       "24               -1                   -1             -1             -1   \n",
       "25               -1                    1             -1             -1   \n",
       "26                1                    1             -1              1   \n",
       "27               -1                   -1             -1              1   \n",
       "28               -1                    1             -1             -1   \n",
       "29               -1                   -1             -1             -1   \n",
       "30               -1                   -1             -1             -1   \n",
       "31               -1                   -1             -1             -1   \n",
       "32                1                    1              1              1   \n",
       "33               -1                   -1             -1             -1   \n",
       "34               -1                    1             -1             -1   \n",
       "35               -1                   -1             -1             -1   \n",
       "36                1                    1             -1              1   \n",
       "37               -1                   -1             -1             -1   \n",
       "38               -1                   -1             -1             -1   \n",
       "39               -1                   -1              1             -1   \n",
       "40               -1                   -1             -1             -1   \n",
       "41               -1                   -1             -1             -1   \n",
       "42               -1                   -1             -1             -1   \n",
       "\n",
       "    XGBoost  \n",
       "0         1  \n",
       "1        -1  \n",
       "2         1  \n",
       "3        -1  \n",
       "4        -1  \n",
       "5        -1  \n",
       "6        -1  \n",
       "7        -1  \n",
       "8        -1  \n",
       "9        -1  \n",
       "10       -1  \n",
       "11        1  \n",
       "12        1  \n",
       "13       -1  \n",
       "14       -1  \n",
       "15       -1  \n",
       "16        1  \n",
       "17       -1  \n",
       "18       -1  \n",
       "19       -1  \n",
       "20       -1  \n",
       "21       -1  \n",
       "22       -1  \n",
       "23       -1  \n",
       "24        1  \n",
       "25        1  \n",
       "26       -1  \n",
       "27        1  \n",
       "28       -1  \n",
       "29       -1  \n",
       "30       -1  \n",
       "31       -1  \n",
       "32        1  \n",
       "33       -1  \n",
       "34       -1  \n",
       "35       -1  \n",
       "36        1  \n",
       "37       -1  \n",
       "38       -1  \n",
       "39       -1  \n",
       "40       -1  \n",
       "41       -1  \n",
       "42       -1  "
      ]
     },
     "execution_count": 68,
     "metadata": {},
     "output_type": "execute_result"
    }
   ],
   "source": [
    "model_predict_df"
   ]
  },
  {
   "cell_type": "code",
   "execution_count": 69,
   "metadata": {},
   "outputs": [],
   "source": [
    "model_predict_df.to_csv('all_model_predictions.csv')"
   ]
  },
  {
   "cell_type": "code",
   "execution_count": null,
   "metadata": {},
   "outputs": [],
   "source": []
  },
  {
   "cell_type": "code",
   "execution_count": null,
   "metadata": {},
   "outputs": [],
   "source": []
  },
  {
   "cell_type": "code",
   "execution_count": 70,
   "metadata": {},
   "outputs": [],
   "source": [
    "#new_df"
   ]
  },
  {
   "cell_type": "code",
   "execution_count": 71,
   "metadata": {},
   "outputs": [
    {
     "name": "stdout",
     "output_type": "stream",
     "text": [
      "Testing accuracy 0.6744186046511628\n",
      "Testing F1 score: 0.6549947145877378\n"
     ]
    }
   ],
   "source": [
    "from sklearn.ensemble import GradientBoostingClassifier\n",
    "g_boost = GradientBoostingClassifier()\n",
    "g_boost.fit(X_train, y_train)\n",
    "y_pred = g_boost.predict(X_test)\n",
    "from sklearn.metrics import accuracy_score, f1_score\n",
    "print('Testing accuracy %s' % accuracy_score(y_test, y_pred))\n",
    "print('Testing F1 score: {}'.format(f1_score(y_test, y_pred, average='weighted')))"
   ]
  },
  {
   "cell_type": "code",
   "execution_count": 72,
   "metadata": {},
   "outputs": [
    {
     "name": "stdout",
     "output_type": "stream",
     "text": [
      "Testing accuracy 0.7441860465116279\n",
      "Testing F1 score: 0.6702041707610001\n"
     ]
    }
   ],
   "source": [
    "knn_model = model_dict['KNN']\n",
    "knn_model.fit(X_train, y_train)\n",
    "y_pred = knn_model.predict(X_test)\n",
    "from sklearn.metrics import accuracy_score, f1_score\n",
    "print('Testing accuracy %s' % accuracy_score(y_test, y_pred))\n",
    "print('Testing F1 score: {}'.format(f1_score(y_test, y_pred, average='weighted')))"
   ]
  },
  {
   "cell_type": "code",
   "execution_count": 88,
   "metadata": {},
   "outputs": [
    {
     "data": {
      "image/png": "[encoded data removed]",
      "text/plain": [
       "<Figure size 1440x576 with 1 Axes>"
      ]
     },
     "metadata": {
      "needs_background": "light"
     },
     "output_type": "display_data"
    }
   ],
   "source": [
    "import pandas as pd\n",
    "import seaborn as sns\n",
    "import matplotlib.pyplot as plt\n",
    "\n",
    "df = pd.DataFrame()\n",
    "data = {'Models': ['KNN', 'Logistic Regression (L1)', 'Logistic Regression (L2)', 'Linear SVM (L1)', 'Linear SVM (L2)',\n",
    "'Non Linear SVM (RBF)', 'Decision Tree', 'Random Forest', 'XGBoost'],\n",
    "'F1 Micro Scores': [0.744186, 0.697674, 0.837209, 0.720930, 0.767442, 0.697674, 0.697674, 0.790698, 0.767442]}\n",
    "df = pd.DataFrame(data)\n",
    "#sns.barplot(x=’Models’, y=’F1 Micro Scores’, data=df, order=df.sort_values(‘F1 Micro Scores’, ascending=False).Models)\n",
    "#labels = np.array(df.Name)\n",
    "#values = np.array(df.Score)\n",
    "test_palette\n",
    "clrs = ['orange' if (x < max(df['F1 Micro Scores'])) else 'brown' for x in df['F1 Micro Scores'] ]\n",
    "#Configure the size\n",
    "plt.figure(figsize=(20,8))\n",
    "#barplot\n",
    "sns.barplot(x=df['Models'], y=df['F1 Micro Scores'], data=df, palette=clrs) # color=clrs)\n",
    "#Rotate x-labels\n",
    "plt.xticks(rotation=40)\n",
    "#plt.title(‘F1 Micro Scores of Models’)\n",
    "plt.show()"
   ]
  },
  {
   "cell_type": "code",
   "execution_count": 90,
   "metadata": {},
   "outputs": [
    {
     "data": {
      "text/plain": [
       "0    -1\n",
       "1    -1\n",
       "2     1\n",
       "3    -1\n",
       "4    -1\n",
       "5    -1\n",
       "6    -1\n",
       "7    -1\n",
       "8    -1\n",
       "9    -1\n",
       "10   -1\n",
       "11    1\n",
       "12    1\n",
       "13   -1\n",
       "14   -1\n",
       "15   -1\n",
       "16   -1\n",
       "17   -1\n",
       "18   -1\n",
       "19   -1\n",
       "20   -1\n",
       "21   -1\n",
       "22   -1\n",
       "23   -1\n",
       "24   -1\n",
       "25    1\n",
       "26    1\n",
       "27   -1\n",
       "28   -1\n",
       "29   -1\n",
       "30   -1\n",
       "31   -1\n",
       "32    1\n",
       "33   -1\n",
       "34   -1\n",
       "35   -1\n",
       "36    1\n",
       "37   -1\n",
       "38   -1\n",
       "39   -1\n",
       "40   -1\n",
       "41   -1\n",
       "42   -1\n",
       "Name: Logistic Regression (L2), dtype: int64"
      ]
     },
     "execution_count": 90,
     "metadata": {},
     "output_type": "execute_result"
    }
   ],
   "source": [
    "model_predict_df['Logistic Regression (L2)']"
   ]
  },
  {
   "cell_type": "code",
   "execution_count": 122,
   "metadata": {},
   "outputs": [],
   "source": [
    "l2_predicted_positive = len([val for val in model_predict_df['Logistic Regression (L2)'] if val == 1])\n",
    "l2_predicted_negative = len([val for val in model_predict_df['Logistic Regression (L2)'] if val == -1])"
   ]
  },
  {
   "cell_type": "code",
   "execution_count": 123,
   "metadata": {},
   "outputs": [],
   "source": [
    "actual_values_positive = len([val for val in y_test if val == 1])\n",
    "actual_values_negative = len([val for val in y_test if val == -1])"
   ]
  },
  {
   "cell_type": "code",
   "execution_count": 126,
   "metadata": {},
   "outputs": [
    {
     "data": {
      "text/html": [
       "<div>\n",
       "<style scoped>\n",
       "    .dataframe tbody tr th:only-of-type {\n",
       "        vertical-align: middle;\n",
       "    }\n",
       "\n",
       "    .dataframe tbody tr th {\n",
       "        vertical-align: top;\n",
       "    }\n",
       "\n",
       "    .dataframe thead th {\n",
       "        text-align: right;\n",
       "    }\n",
       "</style>\n",
       "<table border=\"1\" class=\"dataframe\">\n",
       "  <thead>\n",
       "    <tr style=\"text-align: right;\">\n",
       "      <th></th>\n",
       "      <th>tweet_count</th>\n",
       "      <th>data_type</th>\n",
       "      <th>sentiment</th>\n",
       "    </tr>\n",
       "  </thead>\n",
       "  <tbody>\n",
       "    <tr>\n",
       "      <th>0</th>\n",
       "      <td>13</td>\n",
       "      <td>actual</td>\n",
       "      <td>positive</td>\n",
       "    </tr>\n",
       "    <tr>\n",
       "      <th>1</th>\n",
       "      <td>7</td>\n",
       "      <td>predicted</td>\n",
       "      <td>positive</td>\n",
       "    </tr>\n",
       "    <tr>\n",
       "      <th>2</th>\n",
       "      <td>30</td>\n",
       "      <td>actual</td>\n",
       "      <td>negative</td>\n",
       "    </tr>\n",
       "    <tr>\n",
       "      <th>3</th>\n",
       "      <td>36</td>\n",
       "      <td>predicted</td>\n",
       "      <td>negative</td>\n",
       "    </tr>\n",
       "  </tbody>\n",
       "</table>\n",
       "</div>"
      ],
      "text/plain": [
       "   tweet_count  data_type sentiment\n",
       "0           13     actual  positive\n",
       "1            7  predicted  positive\n",
       "2           30     actual  negative\n",
       "3           36  predicted  negative"
      ]
     },
     "execution_count": 126,
     "metadata": {},
     "output_type": "execute_result"
    }
   ],
   "source": [
    "df_data = {'tweet_count': [actual_values_positive, l2_predicted_positive, actual_values_negative, l2_predicted_negative],\n",
    "           'data_type': ['actual', 'predicted', 'actual', 'predicted'],\n",
    "           'sentiment': ['positive', 'positive', 'negative', 'negative']\n",
    "          }\n",
    "prediction_comparison = pd.DataFrame(df_data)\n",
    "prediction_comparison"
   ]
  },
  {
   "cell_type": "code",
   "execution_count": 140,
   "metadata": {},
   "outputs": [
    {
     "data": {
      "image/png": "[encoded data removed]",
      "text/plain": [
       "<Figure size 720x720 with 1 Axes>"
      ]
     },
     "metadata": {},
     "output_type": "display_data"
    }
   ],
   "source": [
    "sns.barplot(data=prediction_comparison, x=\"sentiment\", y=\"tweet_count\", hue='data_type').set_title('Actual vs Predicted Tweets')\n",
    "sns.set(rc={'figure.figsize':(1,10)})"
   ]
  }
 ],
 "metadata": {
  "kernelspec": {
   "display_name": "Python 3",
   "language": "python",
   "name": "python3"
  },
  "language_info": {
   "codemirror_mode": {
    "name": "ipython",
    "version": 3
   },
   "file_extension": ".py",
   "mimetype": "text/x-python",
   "name": "python",
   "nbconvert_exporter": "python",
   "pygments_lexer": "ipython3",
   "version": "3.8.5"
  }
 },
 "nbformat": 4,
 "nbformat_minor": 4
}
