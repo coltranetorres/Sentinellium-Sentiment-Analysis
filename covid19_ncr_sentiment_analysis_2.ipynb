{
 "cells": [
  {
   "cell_type": "code",
   "execution_count": 22,
   "metadata": {},
   "outputs": [],
   "source": [
    "import pandas as pd\n",
    "import numpy as np\n",
    "import re\n",
    "from re import sub\n",
    "import multiprocessing\n",
    "from unidecode import unidecode\n",
    "import re\n",
    "from emot.emo_unicode import UNICODE_EMO, EMOTICONS\n",
    "import nltk\n",
    "#nltk.download('stopwords')\n",
    "from nltk.corpus import stopwords\n",
    "#stopwords.words('english')\n",
    "\n",
    "from gensim.models.phrases import Phrases, Phraser\n",
    "from gensim.models import Word2Vec\n",
    "from gensim.test.utils import get_tmpfile\n",
    "from gensim.models import KeyedVectors\n",
    "\n",
    "\n",
    "from time import time \n",
    "from collections import defaultdict\n",
    "\n",
    "import logging  # Setting up the loggings to monitor gensim\n",
    "logging.basicConfig(format=\"%(levelname)s - %(asctime)s: %(message)s\", datefmt= '%H:%M:%S', level=logging.INFO)"
   ]
  },
  {
   "cell_type": "code",
   "execution_count": 23,
   "metadata": {},
   "outputs": [],
   "source": [
    "df_tweets = pd.read_csv(\"ncr_moretweets.csv\", encoding='utf-8')\n",
    "df_tweets = df_tweets[df_tweets['label'] != 0]"
   ]
  },
  {
   "cell_type": "code",
   "execution_count": 24,
   "metadata": {},
   "outputs": [],
   "source": [
    "def text_to_word_list(text, tagalog_letters):\n",
    "    ''' Pre process and convert texts to a list of words \n",
    "    method inspired by method from eliorc github repo: https://github.com/eliorc/Medium/blob/master/MaLSTM.ipynb'''\n",
    "    text = tagalog_letters(text)\n",
    "    text = str(text)\n",
    "    text = text.lower()\n",
    "\n",
    "    # Clean the text\n",
    "    text = sub(r\"[^A-Za-z0-9^,!?.\\/'+]\", \" \", text)\n",
    "    text = sub(r\"http\\S.*$\",\" \", text) # removing twitter urls\n",
    "    text = sub(r\"\\+\", \" plus \", text)\n",
    "    text = sub(r\",\", \" \", text)\n",
    "    text = sub(r\"\\.\", \" \", text)\n",
    "    text = sub(r\"!\", \" ! \", text)\n",
    "    text = sub(r\"\\?\", \" ? \", text)\n",
    "    text = sub(r\"'\", \"\", text)\n",
    "    text = sub(r\":\", \" : \", text)\n",
    "    text = sub(r\"\\s{2,}\", \" \", text)\n",
    "    \n",
    "    for emot in EMOTICONS:\n",
    "        text = re.sub(u'('+emot+')', \"_\".join(EMOTICONS[emot].replace(\",\",\"\").split()), text)\n",
    "        \n",
    "    for emot in UNICODE_EMO:\n",
    "        text = text.replace(emot, \"_\".join(UNICODE_EMO[emot].replace(\",\",\"\").replace(\":\",\"\").split()))\n",
    "        \n",
    "    text = [word for word in text.split(' ') if word not in stopwords.words('english')]\n",
    "    text = ' '.join(text)\n",
    "    \n",
    "    return text"
   ]
  },
  {
   "cell_type": "code",
   "execution_count": 25,
   "metadata": {},
   "outputs": [],
   "source": [
    "df_tweets.tweets = df_tweets.tweets.apply(lambda x: text_to_word_list(x, unidecode))"
   ]
  },
  {
   "cell_type": "code",
   "execution_count": 26,
   "metadata": {},
   "outputs": [
    {
     "name": "stderr",
     "output_type": "stream",
     "text": [
      "[nltk_data] Downloading package punkt to\n",
      "[nltk_data]     C:\\Users\\Intel\\AppData\\Roaming\\nltk_data...\n",
      "[nltk_data]   Package punkt is already up-to-date!\n"
     ]
    }
   ],
   "source": [
    "import nltk\n",
    "nltk.download('punkt')\n",
    "\n",
    "def preprocess(df_tweets):\n",
    "    df_tweets['document_sentences'] = df_tweets.tweets.str.split('.') \n",
    "    df_tweets['tokenized_sentences'] = list(map(lambda sentences: list(map(nltk.word_tokenize, sentences)), df_tweets.document_sentences))  \n",
    "    df_tweets['tokenized_sentences'] = list(map(lambda sentences: list(filter(lambda lst: lst, sentences)), df_tweets.tokenized_sentences))\n",
    "\n",
    "preprocess(df_tweets)"
   ]
  },
  {
   "cell_type": "code",
   "execution_count": 27,
   "metadata": {},
   "outputs": [
    {
     "data": {
      "text/html": [
       "<div>\n",
       "<style scoped>\n",
       "    .dataframe tbody tr th:only-of-type {\n",
       "        vertical-align: middle;\n",
       "    }\n",
       "\n",
       "    .dataframe tbody tr th {\n",
       "        vertical-align: top;\n",
       "    }\n",
       "\n",
       "    .dataframe thead th {\n",
       "        text-align: right;\n",
       "    }\n",
       "</style>\n",
       "<table border=\"1\" class=\"dataframe\">\n",
       "  <thead>\n",
       "    <tr style=\"text-align: right;\">\n",
       "      <th></th>\n",
       "      <th>tweets</th>\n",
       "      <th>label</th>\n",
       "      <th>document_sentences</th>\n",
       "      <th>tokenized_sentences</th>\n",
       "    </tr>\n",
       "  </thead>\n",
       "  <tbody>\n",
       "    <tr>\n",
       "      <th>0</th>\n",
       "      <td>awit sa kilala kong nag positive sa covid tas ...</td>\n",
       "      <td>-1</td>\n",
       "      <td>[awit sa kilala kong nag positive sa covid tas...</td>\n",
       "      <td>[[awit, sa, kilala, kong, nag, positive, sa, c...</td>\n",
       "    </tr>\n",
       "    <tr>\n",
       "      <th>2</th>\n",
       "      <td>yung dinaan na lang sa pagkain yung pagkamiss ...</td>\n",
       "      <td>-1</td>\n",
       "      <td>[yung dinaan na lang sa pagkain yung pagkamiss...</td>\n",
       "      <td>[[yung, dinaan, na, lang, sa, pagkain, yung, p...</td>\n",
       "    </tr>\n",
       "    <tr>\n",
       "      <th>5</th>\n",
       "      <td>literally miss going without using facemask sh...</td>\n",
       "      <td>-1</td>\n",
       "      <td>[literally miss going without using facemask s...</td>\n",
       "      <td>[[literally, miss, going, without, using, face...</td>\n",
       "    </tr>\n",
       "    <tr>\n",
       "      <th>6</th>\n",
       "      <td>goddamn covid rip sekou smith influence writin...</td>\n",
       "      <td>-1</td>\n",
       "      <td>[goddamn covid rip sekou smith influence writi...</td>\n",
       "      <td>[[goddamn, covid, rip, sekou, smith, influence...</td>\n",
       "    </tr>\n",
       "    <tr>\n",
       "      <th>8</th>\n",
       "      <td>sobrang delikado ng ginawa mo kahit saang band...</td>\n",
       "      <td>-1</td>\n",
       "      <td>[sobrang delikado ng ginawa mo kahit saang ban...</td>\n",
       "      <td>[[sobrang, delikado, ng, ginawa, mo, kahit, sa...</td>\n",
       "    </tr>\n",
       "  </tbody>\n",
       "</table>\n",
       "</div>"
      ],
      "text/plain": [
       "                                              tweets  label  \\\n",
       "0  awit sa kilala kong nag positive sa covid tas ...     -1   \n",
       "2  yung dinaan na lang sa pagkain yung pagkamiss ...     -1   \n",
       "5  literally miss going without using facemask sh...     -1   \n",
       "6  goddamn covid rip sekou smith influence writin...     -1   \n",
       "8  sobrang delikado ng ginawa mo kahit saang band...     -1   \n",
       "\n",
       "                                  document_sentences  \\\n",
       "0  [awit sa kilala kong nag positive sa covid tas...   \n",
       "2  [yung dinaan na lang sa pagkain yung pagkamiss...   \n",
       "5  [literally miss going without using facemask s...   \n",
       "6  [goddamn covid rip sekou smith influence writi...   \n",
       "8  [sobrang delikado ng ginawa mo kahit saang ban...   \n",
       "\n",
       "                                 tokenized_sentences  \n",
       "0  [[awit, sa, kilala, kong, nag, positive, sa, c...  \n",
       "2  [[yung, dinaan, na, lang, sa, pagkain, yung, p...  \n",
       "5  [[literally, miss, going, without, using, face...  \n",
       "6  [[goddamn, covid, rip, sekou, smith, influence...  \n",
       "8  [[sobrang, delikado, ng, ginawa, mo, kahit, sa...  "
      ]
     },
     "execution_count": 27,
     "metadata": {},
     "output_type": "execute_result"
    }
   ],
   "source": [
    "df_tweets.head()"
   ]
  },
  {
   "cell_type": "code",
   "execution_count": 28,
   "metadata": {},
   "outputs": [],
   "source": [
    "from sklearn.model_selection import train_test_split\n",
    "train, test, y_train, y_test = train_test_split(df_tweets.drop(columns='label'), df_tweets['label'], test_size=.2)"
   ]
  },
  {
   "cell_type": "code",
   "execution_count": 29,
   "metadata": {},
   "outputs": [
    {
     "name": "stdout",
     "output_type": "stream",
     "text": [
      "Number of sentences: 172.\n",
      "Number of rows: 172.\n"
     ]
    }
   ],
   "source": [
    "#Collecting a vocabulary\n",
    "voc = []\n",
    "for sentence in train.tokenized_sentences:\n",
    "    voc.extend(sentence)\n",
    "\n",
    "print(\"Number of sentences: {}.\".format(len(voc)))\n",
    "print(\"Number of rows: {}.\".format(len(train)))"
   ]
  },
  {
   "cell_type": "code",
   "execution_count": 30,
   "metadata": {},
   "outputs": [
    {
     "name": "stderr",
     "output_type": "stream",
     "text": [
      "INFO - 21:16:34: collecting all words and their counts\n",
      "INFO - 21:16:34: PROGRESS: at sentence #0, processed 0 words, keeping 0 word types\n",
      "INFO - 21:16:34: collected 1131 word types from a corpus of 2265 raw words and 172 sentences\n",
      "INFO - 21:16:34: Loading a fresh vocabulary\n",
      "INFO - 21:16:34: effective_min_count=3 retains 138 unique words (12% of original 1131, drops 993)\n",
      "INFO - 21:16:34: effective_min_count=3 leaves 1115 word corpus (49% of original 2265, drops 1150)\n",
      "INFO - 21:16:34: deleting the raw counts dictionary of 1131 items\n",
      "INFO - 21:16:34: sample=0.001 downsamples 138 most-common words\n",
      "INFO - 21:16:34: downsampling leaves estimated 513 word corpus (46.1% of prior 1115)\n",
      "INFO - 21:16:34: estimated required memory for 138 words and 300 dimensions: 400200 bytes\n",
      "INFO - 21:16:34: resetting layer weights\n",
      "INFO - 21:16:34: training model with 4 workers on 138 vocabulary and 300 features, using sg=1 hs=0 sample=0.001 negative=5 window=8\n",
      "INFO - 21:16:34: worker thread finished; awaiting finish of 3 more threads\n",
      "INFO - 21:16:34: worker thread finished; awaiting finish of 2 more threads\n",
      "INFO - 21:16:34: worker thread finished; awaiting finish of 1 more threads\n",
      "INFO - 21:16:34: worker thread finished; awaiting finish of 0 more threads\n",
      "INFO - 21:16:34: EPOCH - 1 : training on 2265 raw words (515 effective words) took 0.0s, 93761 effective words/s\n",
      "INFO - 21:16:34: worker thread finished; awaiting finish of 3 more threads\n",
      "INFO - 21:16:34: worker thread finished; awaiting finish of 2 more threads\n",
      "INFO - 21:16:34: worker thread finished; awaiting finish of 1 more threads\n",
      "INFO - 21:16:34: worker thread finished; awaiting finish of 0 more threads\n",
      "INFO - 21:16:34: EPOCH - 2 : training on 2265 raw words (505 effective words) took 0.0s, 122546 effective words/s\n",
      "INFO - 21:16:34: worker thread finished; awaiting finish of 3 more threads\n",
      "INFO - 21:16:34: worker thread finished; awaiting finish of 2 more threads\n",
      "INFO - 21:16:34: worker thread finished; awaiting finish of 1 more threads\n",
      "INFO - 21:16:34: worker thread finished; awaiting finish of 0 more threads\n",
      "INFO - 21:16:34: EPOCH - 3 : training on 2265 raw words (523 effective words) took 0.0s, 98873 effective words/s\n",
      "INFO - 21:16:34: worker thread finished; awaiting finish of 3 more threads\n",
      "INFO - 21:16:34: worker thread finished; awaiting finish of 2 more threads\n",
      "INFO - 21:16:34: worker thread finished; awaiting finish of 1 more threads\n",
      "INFO - 21:16:34: worker thread finished; awaiting finish of 0 more threads\n",
      "INFO - 21:16:34: EPOCH - 4 : training on 2265 raw words (517 effective words) took 0.0s, 73440 effective words/s\n",
      "INFO - 21:16:34: worker thread finished; awaiting finish of 3 more threads\n",
      "INFO - 21:16:34: worker thread finished; awaiting finish of 2 more threads\n",
      "INFO - 21:16:34: worker thread finished; awaiting finish of 1 more threads\n",
      "INFO - 21:16:34: worker thread finished; awaiting finish of 0 more threads\n",
      "INFO - 21:16:34: EPOCH - 5 : training on 2265 raw words (496 effective words) took 0.0s, 111979 effective words/s\n",
      "INFO - 21:16:34: worker thread finished; awaiting finish of 3 more threads\n",
      "INFO - 21:16:34: worker thread finished; awaiting finish of 2 more threads\n",
      "INFO - 21:16:34: worker thread finished; awaiting finish of 1 more threads\n",
      "INFO - 21:16:34: worker thread finished; awaiting finish of 0 more threads\n",
      "INFO - 21:16:34: EPOCH - 6 : training on 2265 raw words (501 effective words) took 0.0s, 126266 effective words/s\n",
      "INFO - 21:16:34: training on a 13590 raw words (3057 effective words) took 0.1s, 57482 effective words/s\n",
      "WARNING - 21:16:34: under 10 jobs per worker: consider setting a smaller `batch_words' for smoother alpha decay\n"
     ]
    }
   ],
   "source": [
    "from gensim.models import word2vec, Word2Vec\n",
    "\n",
    "num_features = 300    \n",
    "min_word_count = 3    \n",
    "num_workers = 4       \n",
    "context = 8           \n",
    "downsampling = 1e-3   \n",
    "\n",
    "# Initialize and train the model\n",
    "W2Vmodel = Word2Vec(sentences=voc, sg=1, hs=0, workers=num_workers, size=num_features, min_count=min_word_count, window=context,\n",
    "                    sample=downsampling, negative=5, iter=6)"
   ]
  },
  {
   "cell_type": "code",
   "execution_count": 31,
   "metadata": {},
   "outputs": [
    {
     "name": "stdout",
     "output_type": "stream",
     "text": [
      "Wall time: 0 ns\n"
     ]
    }
   ],
   "source": [
    "%%time\n",
    "def sentence_vectors(model, sentence):\n",
    "    #Collecting all words in the text\n",
    "#     print(sentence)\n",
    "    sent_vector = np.zeros(model.vector_size, dtype=\"float32\")\n",
    "    if sentence == [[]] or sentence == []  :\n",
    "        return sent_vector\n",
    "    words=np.concatenate(sentence)\n",
    "#     words = sentence\n",
    "    #Collecting words that are known to the model\n",
    "    model_voc = set(model.wv.vocab.keys()) \n",
    "#     print(len(model_voc))\n",
    "\n",
    "    # Use a counter variable for number of words in a text\n",
    "    nwords = 0\n",
    "    # Sum up all words vectors that are know to the model\n",
    "    for word in words:\n",
    "        if word in model_voc: \n",
    "            sent_vector += model[word]\n",
    "            nwords += 1.\n",
    "    # Now get the average\n",
    "    if nwords > 0:\n",
    "        sent_vector /= nwords\n",
    "    return sent_vector"
   ]
  },
  {
   "cell_type": "code",
   "execution_count": 32,
   "metadata": {},
   "outputs": [
    {
     "name": "stderr",
     "output_type": "stream",
     "text": [
      "<timed exec>:18: DeprecationWarning: Call to deprecated `__getitem__` (Method will be removed in 4.0.0, use self.wv.__getitem__() instead).\n"
     ]
    }
   ],
   "source": [
    "train['sentence_vectors'] = list(map(lambda sen_group:\n",
    "                                      sentence_vectors(W2Vmodel, sen_group),\n",
    "                                      train.tokenized_sentences))\n",
    "test['sentence_vectors'] = list(map(lambda sen_group:\n",
    "                                    sentence_vectors(W2Vmodel, sen_group), \n",
    "                                    test.tokenized_sentences))"
   ]
  },
  {
   "cell_type": "code",
   "execution_count": 33,
   "metadata": {},
   "outputs": [
    {
     "data": {
      "text/html": [
       "<div>\n",
       "<style scoped>\n",
       "    .dataframe tbody tr th:only-of-type {\n",
       "        vertical-align: middle;\n",
       "    }\n",
       "\n",
       "    .dataframe tbody tr th {\n",
       "        vertical-align: top;\n",
       "    }\n",
       "\n",
       "    .dataframe thead th {\n",
       "        text-align: right;\n",
       "    }\n",
       "</style>\n",
       "<table border=\"1\" class=\"dataframe\">\n",
       "  <thead>\n",
       "    <tr style=\"text-align: right;\">\n",
       "      <th></th>\n",
       "      <th>w2v_0</th>\n",
       "      <th>w2v_1</th>\n",
       "      <th>w2v_2</th>\n",
       "      <th>w2v_3</th>\n",
       "      <th>w2v_4</th>\n",
       "      <th>w2v_5</th>\n",
       "      <th>w2v_6</th>\n",
       "      <th>w2v_7</th>\n",
       "      <th>w2v_8</th>\n",
       "      <th>w2v_9</th>\n",
       "      <th>...</th>\n",
       "      <th>w2v_290</th>\n",
       "      <th>w2v_291</th>\n",
       "      <th>w2v_292</th>\n",
       "      <th>w2v_293</th>\n",
       "      <th>w2v_294</th>\n",
       "      <th>w2v_295</th>\n",
       "      <th>w2v_296</th>\n",
       "      <th>w2v_297</th>\n",
       "      <th>w2v_298</th>\n",
       "      <th>w2v_299</th>\n",
       "    </tr>\n",
       "  </thead>\n",
       "  <tbody>\n",
       "    <tr>\n",
       "      <th>220</th>\n",
       "      <td>0.001662</td>\n",
       "      <td>-0.000558</td>\n",
       "      <td>-0.001580</td>\n",
       "      <td>0.002575</td>\n",
       "      <td>0.001074</td>\n",
       "      <td>0.001473</td>\n",
       "      <td>-0.001629</td>\n",
       "      <td>0.001627</td>\n",
       "      <td>-0.001247</td>\n",
       "      <td>-0.000145</td>\n",
       "      <td>...</td>\n",
       "      <td>-0.002064</td>\n",
       "      <td>-0.000671</td>\n",
       "      <td>-0.000789</td>\n",
       "      <td>0.002318</td>\n",
       "      <td>-0.000751</td>\n",
       "      <td>0.000884</td>\n",
       "      <td>-0.001356</td>\n",
       "      <td>-0.003034</td>\n",
       "      <td>-0.002209</td>\n",
       "      <td>-0.000175</td>\n",
       "    </tr>\n",
       "    <tr>\n",
       "      <th>17</th>\n",
       "      <td>0.000640</td>\n",
       "      <td>-0.000352</td>\n",
       "      <td>-0.001446</td>\n",
       "      <td>0.002784</td>\n",
       "      <td>0.000367</td>\n",
       "      <td>0.002807</td>\n",
       "      <td>-0.001788</td>\n",
       "      <td>0.001167</td>\n",
       "      <td>-0.001169</td>\n",
       "      <td>-0.000922</td>\n",
       "      <td>...</td>\n",
       "      <td>-0.002205</td>\n",
       "      <td>-0.000836</td>\n",
       "      <td>-0.000339</td>\n",
       "      <td>0.002824</td>\n",
       "      <td>-0.000612</td>\n",
       "      <td>0.000716</td>\n",
       "      <td>-0.001917</td>\n",
       "      <td>-0.002921</td>\n",
       "      <td>-0.001949</td>\n",
       "      <td>-0.000975</td>\n",
       "    </tr>\n",
       "    <tr>\n",
       "      <th>64</th>\n",
       "      <td>0.001413</td>\n",
       "      <td>-0.000302</td>\n",
       "      <td>-0.002147</td>\n",
       "      <td>0.002583</td>\n",
       "      <td>0.000463</td>\n",
       "      <td>0.002643</td>\n",
       "      <td>-0.002090</td>\n",
       "      <td>0.001400</td>\n",
       "      <td>-0.001509</td>\n",
       "      <td>-0.000107</td>\n",
       "      <td>...</td>\n",
       "      <td>-0.002253</td>\n",
       "      <td>-0.000593</td>\n",
       "      <td>-0.000611</td>\n",
       "      <td>0.003172</td>\n",
       "      <td>-0.001022</td>\n",
       "      <td>0.000790</td>\n",
       "      <td>-0.001601</td>\n",
       "      <td>-0.003197</td>\n",
       "      <td>-0.002047</td>\n",
       "      <td>-0.000613</td>\n",
       "    </tr>\n",
       "    <tr>\n",
       "      <th>310</th>\n",
       "      <td>0.001517</td>\n",
       "      <td>-0.000693</td>\n",
       "      <td>-0.002178</td>\n",
       "      <td>0.003019</td>\n",
       "      <td>0.000395</td>\n",
       "      <td>0.003253</td>\n",
       "      <td>-0.002250</td>\n",
       "      <td>0.001414</td>\n",
       "      <td>-0.001535</td>\n",
       "      <td>0.000343</td>\n",
       "      <td>...</td>\n",
       "      <td>-0.002636</td>\n",
       "      <td>-0.000814</td>\n",
       "      <td>-0.000029</td>\n",
       "      <td>0.003228</td>\n",
       "      <td>-0.000951</td>\n",
       "      <td>0.000914</td>\n",
       "      <td>-0.001656</td>\n",
       "      <td>-0.003794</td>\n",
       "      <td>-0.001811</td>\n",
       "      <td>-0.000512</td>\n",
       "    </tr>\n",
       "    <tr>\n",
       "      <th>194</th>\n",
       "      <td>0.000732</td>\n",
       "      <td>-0.000574</td>\n",
       "      <td>-0.001334</td>\n",
       "      <td>0.002810</td>\n",
       "      <td>0.000332</td>\n",
       "      <td>0.002180</td>\n",
       "      <td>-0.001844</td>\n",
       "      <td>0.000858</td>\n",
       "      <td>-0.001429</td>\n",
       "      <td>-0.000287</td>\n",
       "      <td>...</td>\n",
       "      <td>-0.002410</td>\n",
       "      <td>-0.000215</td>\n",
       "      <td>-0.000531</td>\n",
       "      <td>0.002910</td>\n",
       "      <td>-0.001138</td>\n",
       "      <td>0.001919</td>\n",
       "      <td>-0.001333</td>\n",
       "      <td>-0.002621</td>\n",
       "      <td>-0.001941</td>\n",
       "      <td>-0.000677</td>\n",
       "    </tr>\n",
       "  </tbody>\n",
       "</table>\n",
       "<p>5 rows × 300 columns</p>\n",
       "</div>"
      ],
      "text/plain": [
       "        w2v_0     w2v_1     w2v_2     w2v_3     w2v_4     w2v_5     w2v_6  \\\n",
       "220  0.001662 -0.000558 -0.001580  0.002575  0.001074  0.001473 -0.001629   \n",
       "17   0.000640 -0.000352 -0.001446  0.002784  0.000367  0.002807 -0.001788   \n",
       "64   0.001413 -0.000302 -0.002147  0.002583  0.000463  0.002643 -0.002090   \n",
       "310  0.001517 -0.000693 -0.002178  0.003019  0.000395  0.003253 -0.002250   \n",
       "194  0.000732 -0.000574 -0.001334  0.002810  0.000332  0.002180 -0.001844   \n",
       "\n",
       "        w2v_7     w2v_8     w2v_9  ...   w2v_290   w2v_291   w2v_292  \\\n",
       "220  0.001627 -0.001247 -0.000145  ... -0.002064 -0.000671 -0.000789   \n",
       "17   0.001167 -0.001169 -0.000922  ... -0.002205 -0.000836 -0.000339   \n",
       "64   0.001400 -0.001509 -0.000107  ... -0.002253 -0.000593 -0.000611   \n",
       "310  0.001414 -0.001535  0.000343  ... -0.002636 -0.000814 -0.000029   \n",
       "194  0.000858 -0.001429 -0.000287  ... -0.002410 -0.000215 -0.000531   \n",
       "\n",
       "      w2v_293   w2v_294   w2v_295   w2v_296   w2v_297   w2v_298   w2v_299  \n",
       "220  0.002318 -0.000751  0.000884 -0.001356 -0.003034 -0.002209 -0.000175  \n",
       "17   0.002824 -0.000612  0.000716 -0.001917 -0.002921 -0.001949 -0.000975  \n",
       "64   0.003172 -0.001022  0.000790 -0.001601 -0.003197 -0.002047 -0.000613  \n",
       "310  0.003228 -0.000951  0.000914 -0.001656 -0.003794 -0.001811 -0.000512  \n",
       "194  0.002910 -0.001138  0.001919 -0.001333 -0.002621 -0.001941 -0.000677  \n",
       "\n",
       "[5 rows x 300 columns]"
      ]
     },
     "execution_count": 33,
     "metadata": {},
     "output_type": "execute_result"
    }
   ],
   "source": [
    "def vectors_to_feats(df, ndim):\n",
    "    index=[]\n",
    "    for i in range(ndim):\n",
    "        df[f'w2v_{i}'] = df['sentence_vectors'].apply(lambda x: x[i])\n",
    "        index.append(f'w2v_{i}')\n",
    "    return df[index]\n",
    "X_train = vectors_to_feats(train, 300)\n",
    "X_train.head()"
   ]
  },
  {
   "cell_type": "code",
   "execution_count": 34,
   "metadata": {},
   "outputs": [
    {
     "name": "stderr",
     "output_type": "stream",
     "text": [
      "<timed exec>:18: DeprecationWarning: Call to deprecated `__getitem__` (Method will be removed in 4.0.0, use self.wv.__getitem__() instead).\n"
     ]
    },
    {
     "name": "stdout",
     "output_type": "stream",
     "text": [
      "Wall time: 189 ms\n"
     ]
    }
   ],
   "source": [
    "%%time\n",
    "test['sentence_vectors'] = list(map(lambda sen_group:sentence_vectors(W2Vmodel, sen_group), test.tokenized_sentences))\n",
    "X_test=vectors_to_feats(test, 300)"
   ]
  },
  {
   "cell_type": "code",
   "execution_count": 35,
   "metadata": {},
   "outputs": [
    {
     "name": "stdout",
     "output_type": "stream",
     "text": [
      "Testing accuracy 0.6976744186046512\n",
      "Testing F1 score: 0.6507662721306925\n"
     ]
    }
   ],
   "source": [
    "from sklearn.ensemble import GradientBoostingClassifier\n",
    "g_boost = GradientBoostingClassifier()\n",
    "g_boost.fit(X_train, y_train)\n",
    "y_pred = g_boost.predict(X_test)\n",
    "from sklearn.metrics import accuracy_score, f1_score\n",
    "print('Testing accuracy %s' % accuracy_score(y_test, y_pred))\n",
    "print('Testing F1 score: {}'.format(f1_score(y_test, y_pred, average='weighted')))"
   ]
  },
  {
   "cell_type": "code",
   "execution_count": 36,
   "metadata": {},
   "outputs": [
    {
     "data": {
      "text/plain": [
       "0.571236559139785"
      ]
     },
     "execution_count": 36,
     "metadata": {},
     "output_type": "execute_result"
    }
   ],
   "source": [
    "from sklearn.metrics import roc_auc_score, confusion_matrix\n",
    "roc_auc_score(y_test,g_boost.predict_proba(X_test)[:,1])"
   ]
  },
  {
   "cell_type": "code",
   "execution_count": 89,
   "metadata": {},
   "outputs": [
    {
     "data": {
      "image/png": "[encoded data removed]",
      "text/plain": [
       "<Figure size 720x504 with 2 Axes>"
      ]
     },
     "metadata": {
      "needs_background": "light"
     },
     "output_type": "display_data"
    }
   ],
   "source": [
    "import seaborn as sns\n",
    "import matplotlib.pyplot as plt\n",
    "df_cm = pd.DataFrame(confusion_matrix(y_test,g_boost.predict(X_test)), index = ['Predicted positive', 'Predicted negative'],\n",
    "                  columns = ['Actual positive', 'Actual negative'])\n",
    "test= sns.color_palette('YlOrBr')\n",
    "plt.figure(figsize = (10,7))\n",
    "sns.heatmap(df_cm, annot=True, cmap=test)\n",
    "plt.title('Confusion Matrix')\n",
    "plt.show()"
   ]
  },
  {
   "cell_type": "code",
   "execution_count": 38,
   "metadata": {},
   "outputs": [
    {
     "name": "stdout",
     "output_type": "stream",
     "text": [
      "Number of sentences: 215.\n",
      "Number of texts: 215.\n"
     ]
    }
   ],
   "source": [
    "voc_df = []\n",
    "for sentence_group in df_tweets.tokenized_sentences:\n",
    "    voc_df.extend(sentence_group)\n",
    "\n",
    "print(\"Number of sentences: {}.\".format(len(voc_df)))\n",
    "print(\"Number of texts: {}.\".format(len(df_tweets)))"
   ]
  },
  {
   "cell_type": "code",
   "execution_count": 39,
   "metadata": {},
   "outputs": [
    {
     "name": "stderr",
     "output_type": "stream",
     "text": [
      "INFO - 21:16:37: collecting all words and their counts\n",
      "INFO - 21:16:37: PROGRESS: at sentence #0, processed 0 words, keeping 0 word types\n",
      "INFO - 21:16:37: collected 1356 word types from a corpus of 2879 raw words and 215 sentences\n",
      "INFO - 21:16:37: Loading a fresh vocabulary\n",
      "INFO - 21:16:37: effective_min_count=3 retains 181 unique words (13% of original 1356, drops 1175)\n",
      "INFO - 21:16:37: effective_min_count=3 leaves 1535 word corpus (53% of original 2879, drops 1344)\n",
      "INFO - 21:16:37: deleting the raw counts dictionary of 1356 items\n",
      "INFO - 21:16:37: sample=0.001 downsamples 79 most-common words\n",
      "INFO - 21:16:37: downsampling leaves estimated 794 word corpus (51.8% of prior 1535)\n",
      "INFO - 21:16:37: estimated required memory for 181 words and 300 dimensions: 524900 bytes\n",
      "INFO - 21:16:37: resetting layer weights\n",
      "INFO - 21:16:37: training model with 4 workers on 181 vocabulary and 300 features, using sg=1 hs=0 sample=0.001 negative=5 window=8\n",
      "INFO - 21:16:37: worker thread finished; awaiting finish of 3 more threads\n",
      "INFO - 21:16:37: worker thread finished; awaiting finish of 2 more threads\n",
      "INFO - 21:16:37: worker thread finished; awaiting finish of 1 more threads\n",
      "INFO - 21:16:37: worker thread finished; awaiting finish of 0 more threads\n",
      "INFO - 21:16:37: EPOCH - 1 : training on 2879 raw words (774 effective words) took 0.0s, 137183 effective words/s\n",
      "INFO - 21:16:37: worker thread finished; awaiting finish of 3 more threads\n",
      "INFO - 21:16:37: worker thread finished; awaiting finish of 2 more threads\n",
      "INFO - 21:16:37: worker thread finished; awaiting finish of 1 more threads\n",
      "INFO - 21:16:37: worker thread finished; awaiting finish of 0 more threads\n",
      "INFO - 21:16:37: EPOCH - 2 : training on 2879 raw words (797 effective words) took 0.0s, 89225 effective words/s\n",
      "INFO - 21:16:37: worker thread finished; awaiting finish of 3 more threads\n",
      "INFO - 21:16:37: worker thread finished; awaiting finish of 2 more threads\n",
      "INFO - 21:16:37: worker thread finished; awaiting finish of 1 more threads\n",
      "INFO - 21:16:37: worker thread finished; awaiting finish of 0 more threads\n",
      "INFO - 21:16:37: EPOCH - 3 : training on 2879 raw words (802 effective words) took 0.0s, 113460 effective words/s\n",
      "INFO - 21:16:37: worker thread finished; awaiting finish of 3 more threads\n",
      "INFO - 21:16:37: worker thread finished; awaiting finish of 2 more threads\n",
      "INFO - 21:16:37: worker thread finished; awaiting finish of 1 more threads\n",
      "INFO - 21:16:37: worker thread finished; awaiting finish of 0 more threads\n",
      "INFO - 21:16:37: EPOCH - 4 : training on 2879 raw words (788 effective words) took 0.0s, 127171 effective words/s\n",
      "INFO - 21:16:37: worker thread finished; awaiting finish of 3 more threads\n",
      "INFO - 21:16:37: worker thread finished; awaiting finish of 2 more threads\n",
      "INFO - 21:16:37: worker thread finished; awaiting finish of 1 more threads\n",
      "INFO - 21:16:37: worker thread finished; awaiting finish of 0 more threads\n",
      "INFO - 21:16:37: EPOCH - 5 : training on 2879 raw words (808 effective words) took 0.0s, 83356 effective words/s\n",
      "INFO - 21:16:37: worker thread finished; awaiting finish of 3 more threads\n",
      "INFO - 21:16:37: worker thread finished; awaiting finish of 2 more threads\n",
      "INFO - 21:16:37: worker thread finished; awaiting finish of 1 more threads\n",
      "INFO - 21:16:37: worker thread finished; awaiting finish of 0 more threads\n",
      "INFO - 21:16:37: EPOCH - 6 : training on 2879 raw words (808 effective words) took 0.0s, 129493 effective words/s\n",
      "INFO - 21:16:37: training on a 17274 raw words (4777 effective words) took 0.1s, 71458 effective words/s\n",
      "WARNING - 21:16:37: under 10 jobs per worker: consider setting a smaller `batch_words' for smoother alpha decay\n"
     ]
    }
   ],
   "source": [
    "from gensim.models import word2vec, Word2Vec\n",
    "\n",
    "num_features = 300    \n",
    "min_word_count = 3    \n",
    "num_workers = 4       \n",
    "context = 8           \n",
    "downsampling = 1e-3   \n",
    "\n",
    "# Initialize and train the model\n",
    "W2Vmodel = Word2Vec(sentences=voc_df, sg=1, hs=0, workers=num_workers, size=num_features, min_count=min_word_count, window=context,\n",
    "                    sample=downsampling, negative=5, iter=6)"
   ]
  },
  {
   "cell_type": "code",
   "execution_count": 40,
   "metadata": {},
   "outputs": [
    {
     "name": "stderr",
     "output_type": "stream",
     "text": [
      "<timed exec>:18: DeprecationWarning: Call to deprecated `__getitem__` (Method will be removed in 4.0.0, use self.wv.__getitem__() instead).\n"
     ]
    },
    {
     "name": "stdout",
     "output_type": "stream",
     "text": [
      "Wall time: 218 ms\n"
     ]
    }
   ],
   "source": [
    "%%time\n",
    "df_tweets['sentence_vectors'] = list(map(lambda sen_group: sentence_vectors(W2Vmodel, sen_group), df_tweets.tokenized_sentences))\n",
    "df_tweets = vectors_to_feats(df_tweets, 300)\n",
    "y = pd.read_csv('ncr_moretweets.csv', encoding='utf-8')\n",
    "y = y[y['label'] != 0]\n",
    "y = y['label'].values"
   ]
  },
  {
   "cell_type": "code",
   "execution_count": 41,
   "metadata": {},
   "outputs": [
    {
     "name": "stdout",
     "output_type": "stream",
     "text": [
      "[0.80701754 0.52777778 0.4957265  0.60952381 0.46666667]\n",
      "0.5813424587108799\n"
     ]
    }
   ],
   "source": [
    "from sklearn.model_selection import ShuffleSplit, cross_val_score\n",
    "cv = ShuffleSplit(n_splits=5, random_state=1)\n",
    "\n",
    "cv_score = cross_val_score(g_boost, df_tweets, y ,cv=cv, scoring='roc_auc')\n",
    "print(cv_score)\n",
    "print(cv_score.mean())\n",
    "#df_tweets"
   ]
  },
  {
   "cell_type": "code",
   "execution_count": 42,
   "metadata": {},
   "outputs": [
    {
     "name": "stdout",
     "output_type": "stream",
     "text": [
      "Requirement already satisfied: mglearn in d:\\othersoftware\\anaconda3\\lib\\site-packages (0.1.9)\n",
      "Requirement already satisfied: imageio in d:\\othersoftware\\anaconda3\\lib\\site-packages (from mglearn) (2.9.0)\n",
      "Requirement already satisfied: pillow in d:\\othersoftware\\anaconda3\\lib\\site-packages (from mglearn) (8.0.1)\n",
      "Requirement already satisfied: scikit-learn in d:\\othersoftware\\anaconda3\\lib\\site-packages (from mglearn) (0.23.2)\n",
      "Requirement already satisfied: numpy in d:\\othersoftware\\anaconda3\\lib\\site-packages (from mglearn) (1.19.2)\n",
      "Requirement already satisfied: joblib in d:\\othersoftware\\anaconda3\\lib\\site-packages (from mglearn) (0.17.0)\n",
      "Requirement already satisfied: matplotlib in d:\\othersoftware\\anaconda3\\lib\\site-packages (from mglearn) (3.3.2)\n",
      "Requirement already satisfied: pandas in d:\\othersoftware\\anaconda3\\lib\\site-packages (from mglearn) (1.1.3)\n",
      "Requirement already satisfied: cycler in d:\\othersoftware\\anaconda3\\lib\\site-packages (from mglearn) (0.10.0)\n",
      "Requirement already satisfied: threadpoolctl>=2.0.0 in d:\\othersoftware\\anaconda3\\lib\\site-packages (from scikit-learn->mglearn) (2.1.0)\n",
      "Requirement already satisfied: scipy>=0.19.1 in d:\\othersoftware\\anaconda3\\lib\\site-packages (from scikit-learn->mglearn) (1.5.2)\n",
      "Requirement already satisfied: certifi>=2020.06.20 in d:\\othersoftware\\anaconda3\\lib\\site-packages (from matplotlib->mglearn) (2020.12.5)\n",
      "Requirement already satisfied: pyparsing!=2.0.4,!=2.1.2,!=2.1.6,>=2.0.3 in d:\\othersoftware\\anaconda3\\lib\\site-packages (from matplotlib->mglearn) (2.4.7)\n",
      "Requirement already satisfied: python-dateutil>=2.1 in d:\\othersoftware\\anaconda3\\lib\\site-packages (from matplotlib->mglearn) (2.8.1)\n",
      "Requirement already satisfied: kiwisolver>=1.0.1 in d:\\othersoftware\\anaconda3\\lib\\site-packages (from matplotlib->mglearn) (1.3.0)\n",
      "Requirement already satisfied: pytz>=2017.2 in d:\\othersoftware\\anaconda3\\lib\\site-packages (from pandas->mglearn) (2020.1)\n",
      "Requirement already satisfied: six in d:\\othersoftware\\anaconda3\\lib\\site-packages (from cycler->mglearn) (1.15.0)\n",
      "Requirement already satisfied: lmfit in d:\\othersoftware\\anaconda3\\lib\\site-packages (1.0.1)\n",
      "Requirement already satisfied: asteval>=0.9.16 in d:\\othersoftware\\anaconda3\\lib\\site-packages (from lmfit) (0.9.21)\n",
      "Requirement already satisfied: uncertainties>=3.0.1 in d:\\othersoftware\\anaconda3\\lib\\site-packages (from lmfit) (3.1.5)\n",
      "Requirement already satisfied: scipy>=1.2 in d:\\othersoftware\\anaconda3\\lib\\site-packages (from lmfit) (1.5.2)\n",
      "Requirement already satisfied: numpy>=1.16 in d:\\othersoftware\\anaconda3\\lib\\site-packages (from lmfit) (1.19.2)\n",
      "Requirement already satisfied: future in d:\\othersoftware\\anaconda3\\lib\\site-packages (from uncertainties>=3.0.1->lmfit) (0.18.2)\n"
     ]
    }
   ],
   "source": [
    "# Importing Classifier Modules\n",
    "from sklearn.linear_model import LogisticRegression\n",
    "from sklearn.neighbors import KNeighborsClassifier\n",
    "from sklearn.tree import DecisionTreeClassifier\n",
    "from sklearn.ensemble import RandomForestClassifier\n",
    "from sklearn.naive_bayes import GaussianNB\n",
    "from sklearn.svm import SVC\n",
    "\n",
    "import numpy as np\n",
    "import matplotlib.pyplot as plt\n",
    "!pip install mglearn\n",
    "import mglearn\n",
    "import pandas as pd\n",
    "import pylab as plot\n",
    "!pip install lmfit\n",
    "import lmfit as lf\n",
    "import seaborn as sns\n",
    "import random\n",
    "import os\n",
    "import time\n",
    "from pandas import Series\n",
    "from math import sqrt\n",
    "%matplotlib inline\n",
    "\n",
    "from sklearn.linear_model import LinearRegression, LogisticRegression, Lasso, Ridge\n",
    "from sklearn.neighbors import KNeighborsRegressor, KNeighborsClassifier\n",
    "from sklearn.svm import SVR, SVC, LinearSVC, LinearSVR\n",
    "from sklearn.naive_bayes import GaussianNB, BernoulliNB, MultinomialNB\n",
    "\n",
    "from sklearn.model_selection import train_test_split\n",
    "from sklearn.tree import DecisionTreeRegressor\n",
    "from sklearn.ensemble import RandomForestClassifier, GradientBoostingClassifier\n",
    "from sklearn.preprocessing import MinMaxScaler, StandardScaler\n",
    "from sklearn.model_selection import GridSearchCV, cross_val_score\n",
    "from sklearn.metrics import mean_squared_error, r2_score\n",
    "\n",
    "from statsmodels.tsa.arima_model import ARIMA\n",
    "from statsmodels.tsa.arima_model import ARIMAResults\n",
    "\n",
    "from sklearn.model_selection import KFold, StratifiedKFold\n",
    "from sklearn.model_selection import cross_val_score\n",
    "k_fold = KFold(n_splits=10, shuffle=True, random_state=0)\n",
    "stratk_fold = StratifiedKFold(n_splits=10, shuffle=True, random_state=0)\n",
    "\n",
    "from sklearn.model_selection import GridSearchCV\n",
    "param_grids = {'learning_rate': [.2, 0.1, 0.01, 0.05, 0.02, 0.01],\n",
    "              'max_depth': [3, 4, 6, 10, 14, 16, 18, 20, 40, 60, 80, 100],\n",
    "              'min_samples_leaf': [2, 3, 4],\n",
    "              'n_estimators': [100, 200, 300, 400, 500],\n",
    "              'max_features': [.5,.3, .2] \n",
    "}   "
   ]
  },
  {
   "cell_type": "code",
   "execution_count": 90,
   "metadata": {},
   "outputs": [],
   "source": [
    "#new_df = classification(df_tweets, y)\n",
    "new_df = pd.read_csv('word2vec_optimized.csv', index_col=0)\n",
    "new_df = new_df.drop(columns=['f1', 'precision', 'recall'])"
   ]
  },
  {
   "cell_type": "code",
   "execution_count": 126,
   "metadata": {},
   "outputs": [],
   "source": [
    "import ast \n",
    "knn_c = KNeighborsClassifier(n_jobs=-1)\n",
    "log_res_l1 = LogisticRegression(penalty='l1', max_iter=1000, solver='liblinear', n_jobs=-1)\n",
    "log_res_l2 = LogisticRegression(penalty='l2', max_iter=1000, solver='lbfgs', n_jobs=-1)\n",
    "lin_svc_l1 = LinearSVC(penalty='l1', dual=False, max_iter=10000)\n",
    "lin_svc_l2 = LinearSVC(penalty='l2', max_iter=10000)\n",
    "nsvm_rbf = SVC(kernel='rbf')\n",
    "d_tree = DecisionTreeClassifier(random_state=0)\n",
    "r_forest = RandomForestClassifier(random_state=0)\n",
    "g_boost = GradientBoostingClassifier(random_state=0)\n",
    "    \n",
    "\n",
    "model_dict = {\n",
    "    'KNN': knn_c,\n",
    "    'Logistic Regression (L1)': log_res_l1,\n",
    "    'Logistic Regression (L2)': log_res_l2,\n",
    "    'Linear SVM (L1)': lin_svc_l1,\n",
    "    'Linear SVM (L2)': lin_svc_l2,\n",
    "    'NonLinear SVM (RBF)': nsvm_rbf,\n",
    "    'Decision Tree': d_tree,\n",
    "    'Random Forest': r_forest,\n",
    "    'XGBoost': g_boost\n",
    "}\n",
    "\n",
    "X_train, X_test, y_train, y_test = train_test_split(df_tweets, y, stratify=y, test_size=0.2, random_state=0)\n",
    "from sklearn.metrics import f1_score, accuracy_score, precision_score, recall_score\n",
    "import ast\n",
    "\n",
    "def calculate_scores(row):\n",
    "    current_model = model_dict[row['Model']]\n",
    "    current_model.set_params(**ast.literal_eval(row['Best Parameters']))\n",
    "    current_model.fit(X_train, y_train)\n",
    "    predictions = current_model.predict(X_test)\n",
    "    row['f1 weighted'] = f1_score(y_test, predictions, average='weighted')\n",
    "    row['f1 micro'] = f1_score(y_test, predictions, average='micro')\n",
    "    row['f1 macro'] = f1_score(y_test, predictions, average='macro')\n",
    "    \n",
    "\n",
    "    df_cm = pd.DataFrame(confusion_matrix(y_test, predictions), index = ['Predicted positive', 'Predicted negative'],\n",
    "                  columns = ['Actual positive', 'Actual negative'])\n",
    "    colors = sns.color_palette('YlOrBr')\n",
    "    plt.figure(figsize = (24,12))\n",
    "    sns.heatmap(df_cm, annot=True, cmap=colors)\n",
    "    plt.title('Confusion Matrix for ' + row['Model'])\n",
    "    plt.show()\n",
    "    newplt.savefig('images/' + row['Model'] + ' ' + 'confusion_matrix.png')\n",
    "    return row\n",
    "    "
   ]
  },
  {
   "cell_type": "code",
   "execution_count": 127,
   "metadata": {},
   "outputs": [
    {
     "data": {
      "image/png": "[encoded data removed]",
      "text/plain": [
       "<Figure size 1728x864 with 2 Axes>"
      ]
     },
     "metadata": {
      "needs_background": "light"
     },
     "output_type": "display_data"
    },
    {
     "name": "stderr",
     "output_type": "stream",
     "text": [
      "D:\\OtherSoftware\\Anaconda3\\lib\\site-packages\\sklearn\\linear_model\\_logistic.py:1353: UserWarning: 'n_jobs' > 1 does not have any effect when 'solver' is set to 'liblinear'. Got 'n_jobs' = 4.\n",
      "  warnings.warn(\"'n_jobs' > 1 does not have any effect when\"\n"
     ]
    },
    {
     "data": {
      "text/plain": [
       "<Figure size 432x288 with 0 Axes>"
      ]
     },
     "metadata": {},
     "output_type": "display_data"
    },
    {
     "data": {
      "image/png": "[encoded data removed]",
      "text/plain": [
       "<Figure size 1728x864 with 2 Axes>"
      ]
     },
     "metadata": {
      "needs_background": "light"
     },
     "output_type": "display_data"
    },
    {
     "data": {
      "text/plain": [
       "<Figure size 432x288 with 0 Axes>"
      ]
     },
     "metadata": {},
     "output_type": "display_data"
    },
    {
     "data": {
      "image/png": "[encoded data removed]",
      "text/plain": [
       "<Figure size 1728x864 with 2 Axes>"
      ]
     },
     "metadata": {
      "needs_background": "light"
     },
     "output_type": "display_data"
    },
    {
     "name": "stderr",
     "output_type": "stream",
     "text": [
      "D:\\OtherSoftware\\Anaconda3\\lib\\site-packages\\sklearn\\svm\\_base.py:976: ConvergenceWarning: Liblinear failed to converge, increase the number of iterations.\n",
      "  warnings.warn(\"Liblinear failed to converge, increase \"\n"
     ]
    },
    {
     "data": {
      "text/plain": [
       "<Figure size 432x288 with 0 Axes>"
      ]
     },
     "metadata": {},
     "output_type": "display_data"
    },
    {
     "data": {
      "image/png": "[encoded data removed]",
      "text/plain": [
       "<Figure size 1728x864 with 2 Axes>"
      ]
     },
     "metadata": {
      "needs_background": "light"
     },
     "output_type": "display_data"
    },
    {
     "name": "stderr",
     "output_type": "stream",
     "text": [
      "D:\\OtherSoftware\\Anaconda3\\lib\\site-packages\\sklearn\\svm\\_base.py:976: ConvergenceWarning: Liblinear failed to converge, increase the number of iterations.\n",
      "  warnings.warn(\"Liblinear failed to converge, increase \"\n"
     ]
    },
    {
     "data": {
      "text/plain": [
       "<Figure size 432x288 with 0 Axes>"
      ]
     },
     "metadata": {},
     "output_type": "display_data"
    },
    {
     "data": {
      "image/png": "[encoded data removed]",
      "text/plain": [
       "<Figure size 1728x864 with 2 Axes>"
      ]
     },
     "metadata": {
      "needs_background": "light"
     },
     "output_type": "display_data"
    },
    {
     "data": {
      "text/plain": [
       "<Figure size 432x288 with 0 Axes>"
      ]
     },
     "metadata": {},
     "output_type": "display_data"
    },
    {
     "data": {
      "image/png": "[encoded data removed]",
      "text/plain": [
       "<Figure size 1728x864 with 2 Axes>"
      ]
     },
     "metadata": {
      "needs_background": "light"
     },
     "output_type": "display_data"
    },
    {
     "data": {
      "text/plain": [
       "<Figure size 432x288 with 0 Axes>"
      ]
     },
     "metadata": {},
     "output_type": "display_data"
    },
    {
     "data": {
      "image/png": "[encoded data removed]",
      "text/plain": [
       "<Figure size 1728x864 with 2 Axes>"
      ]
     },
     "metadata": {
      "needs_background": "light"
     },
     "output_type": "display_data"
    },
    {
     "data": {
      "text/plain": [
       "<Figure size 432x288 with 0 Axes>"
      ]
     },
     "metadata": {},
     "output_type": "display_data"
    },
    {
     "data": {
      "image/png": "[encoded data removed]",
      "text/plain": [
       "<Figure size 1728x864 with 2 Axes>"
      ]
     },
     "metadata": {
      "needs_background": "light"
     },
     "output_type": "display_data"
    },
    {
     "data": {
      "text/plain": [
       "<Figure size 432x288 with 0 Axes>"
      ]
     },
     "metadata": {},
     "output_type": "display_data"
    },
    {
     "data": {
      "image/png": "[encoded data removed]",
      "text/plain": [
       "<Figure size 1728x864 with 2 Axes>"
      ]
     },
     "metadata": {
      "needs_background": "light"
     },
     "output_type": "display_data"
    },
    {
     "data": {
      "text/plain": [
       "<Figure size 432x288 with 0 Axes>"
      ]
     },
     "metadata": {},
     "output_type": "display_data"
    }
   ],
   "source": [
    "new_df['Model'] = new_df.index\n",
    "stats_df = new_df.apply(lambda row: calculate_scores(row), axis=1)"
   ]
  },
  {
   "cell_type": "code",
   "execution_count": 117,
   "metadata": {},
   "outputs": [
    {
     "data": {
      "text/html": [
       "<div>\n",
       "<style scoped>\n",
       "    .dataframe tbody tr th:only-of-type {\n",
       "        vertical-align: middle;\n",
       "    }\n",
       "\n",
       "    .dataframe tbody tr th {\n",
       "        vertical-align: top;\n",
       "    }\n",
       "\n",
       "    .dataframe thead th {\n",
       "        text-align: right;\n",
       "    }\n",
       "</style>\n",
       "<table border=\"1\" class=\"dataframe\">\n",
       "  <thead>\n",
       "    <tr style=\"text-align: right;\">\n",
       "      <th></th>\n",
       "      <th>Test Accuracy</th>\n",
       "      <th>Training Accuracy</th>\n",
       "      <th>Best Parameters</th>\n",
       "      <th>Run Time</th>\n",
       "      <th>percent of PCC</th>\n",
       "      <th>Model</th>\n",
       "      <th>f1 weighted</th>\n",
       "      <th>f1 micro</th>\n",
       "      <th>f1 macro</th>\n",
       "      <th>Figures</th>\n",
       "    </tr>\n",
       "  </thead>\n",
       "  <tbody>\n",
       "    <tr>\n",
       "      <th>KNN</th>\n",
       "      <td>0.720930</td>\n",
       "      <td>0.761628</td>\n",
       "      <td>{'n_neighbors': 4}</td>\n",
       "      <td>5.382352</td>\n",
       "      <td>1.246960</td>\n",
       "      <td>KNN</td>\n",
       "      <td>0.624585</td>\n",
       "      <td>0.720930</td>\n",
       "      <td>0.488095</td>\n",
       "      <td>&lt;module 'matplotlib.pyplot' from 'D:\\\\OtherSof...</td>\n",
       "    </tr>\n",
       "    <tr>\n",
       "      <th>Logistic Regression (L1)</th>\n",
       "      <td>0.697674</td>\n",
       "      <td>0.697674</td>\n",
       "      <td>{'C': 1e-10}</td>\n",
       "      <td>1.886265</td>\n",
       "      <td>1.206735</td>\n",
       "      <td>Logistic Regression (L1)</td>\n",
       "      <td>0.573431</td>\n",
       "      <td>0.697674</td>\n",
       "      <td>0.410959</td>\n",
       "      <td>&lt;module 'matplotlib.pyplot' from 'D:\\\\OtherSof...</td>\n",
       "    </tr>\n",
       "    <tr>\n",
       "      <th>Logistic Regression (L2)</th>\n",
       "      <td>0.837209</td>\n",
       "      <td>0.848837</td>\n",
       "      <td>{'C': 54555.947811685146}</td>\n",
       "      <td>1.935442</td>\n",
       "      <td>1.448082</td>\n",
       "      <td>Logistic Regression (L2)</td>\n",
       "      <td>0.845877</td>\n",
       "      <td>0.860465</td>\n",
       "      <td>0.804545</td>\n",
       "      <td>&lt;module 'matplotlib.pyplot' from 'D:\\\\OtherSof...</td>\n",
       "    </tr>\n",
       "    <tr>\n",
       "      <th>Linear SVM (L1)</th>\n",
       "      <td>0.813953</td>\n",
       "      <td>0.970930</td>\n",
       "      <td>{'C': 428.13323987193957}</td>\n",
       "      <td>5.957663</td>\n",
       "      <td>1.407858</td>\n",
       "      <td>Linear SVM (L1)</td>\n",
       "      <td>0.753568</td>\n",
       "      <td>0.767442</td>\n",
       "      <td>0.694602</td>\n",
       "      <td>&lt;module 'matplotlib.pyplot' from 'D:\\\\OtherSof...</td>\n",
       "    </tr>\n",
       "    <tr>\n",
       "      <th>Linear SVM (L2)</th>\n",
       "      <td>0.790698</td>\n",
       "      <td>0.784884</td>\n",
       "      <td>{'C': 4832.930238571752}</td>\n",
       "      <td>7.937805</td>\n",
       "      <td>1.367633</td>\n",
       "      <td>Linear SVM (L2)</td>\n",
       "      <td>0.845877</td>\n",
       "      <td>0.860465</td>\n",
       "      <td>0.804545</td>\n",
       "      <td>&lt;module 'matplotlib.pyplot' from 'D:\\\\OtherSof...</td>\n",
       "    </tr>\n",
       "    <tr>\n",
       "      <th>NonLinear SVM (RBF)</th>\n",
       "      <td>0.674419</td>\n",
       "      <td>0.994186</td>\n",
       "      <td>{'C': 37.92690190732238, 'gamma': 4832.9302385...</td>\n",
       "      <td>6.377883</td>\n",
       "      <td>1.166511</td>\n",
       "      <td>NonLinear SVM (RBF)</td>\n",
       "      <td>0.713803</td>\n",
       "      <td>0.720930</td>\n",
       "      <td>0.653226</td>\n",
       "      <td>&lt;module 'matplotlib.pyplot' from 'D:\\\\OtherSof...</td>\n",
       "    </tr>\n",
       "    <tr>\n",
       "      <th>Decision Tree</th>\n",
       "      <td>-0.145191</td>\n",
       "      <td>0.137483</td>\n",
       "      <td>{'max_depth': 1}</td>\n",
       "      <td>2.241006</td>\n",
       "      <td>-0.251131</td>\n",
       "      <td>Decision Tree</td>\n",
       "      <td>0.624585</td>\n",
       "      <td>0.720930</td>\n",
       "      <td>0.488095</td>\n",
       "      <td>&lt;module 'matplotlib.pyplot' from 'D:\\\\OtherSof...</td>\n",
       "    </tr>\n",
       "    <tr>\n",
       "      <th>Random Forest</th>\n",
       "      <td>0.767442</td>\n",
       "      <td>0.994186</td>\n",
       "      <td>{'max_depth': 7, 'n_estimators': 100}</td>\n",
       "      <td>342.197690</td>\n",
       "      <td>1.327409</td>\n",
       "      <td>Random Forest</td>\n",
       "      <td>0.783554</td>\n",
       "      <td>0.813953</td>\n",
       "      <td>0.718954</td>\n",
       "      <td>&lt;module 'matplotlib.pyplot' from 'D:\\\\OtherSof...</td>\n",
       "    </tr>\n",
       "    <tr>\n",
       "      <th>XGBoost</th>\n",
       "      <td>0.744186</td>\n",
       "      <td>0.994186</td>\n",
       "      <td>{'learning_rate': 0.1, 'max_depth': 2, 'n_esti...</td>\n",
       "      <td>5370.757274</td>\n",
       "      <td>1.287184</td>\n",
       "      <td>XGBoost</td>\n",
       "      <td>0.763076</td>\n",
       "      <td>0.790698</td>\n",
       "      <td>0.695994</td>\n",
       "      <td>&lt;module 'matplotlib.pyplot' from 'D:\\\\OtherSof...</td>\n",
       "    </tr>\n",
       "  </tbody>\n",
       "</table>\n",
       "</div>"
      ],
      "text/plain": [
       "                          Test Accuracy  Training Accuracy  \\\n",
       "KNN                            0.720930           0.761628   \n",
       "Logistic Regression (L1)       0.697674           0.697674   \n",
       "Logistic Regression (L2)       0.837209           0.848837   \n",
       "Linear SVM (L1)                0.813953           0.970930   \n",
       "Linear SVM (L2)                0.790698           0.784884   \n",
       "NonLinear SVM (RBF)            0.674419           0.994186   \n",
       "Decision Tree                 -0.145191           0.137483   \n",
       "Random Forest                  0.767442           0.994186   \n",
       "XGBoost                        0.744186           0.994186   \n",
       "\n",
       "                                                            Best Parameters  \\\n",
       "KNN                                                      {'n_neighbors': 4}   \n",
       "Logistic Regression (L1)                                       {'C': 1e-10}   \n",
       "Logistic Regression (L2)                          {'C': 54555.947811685146}   \n",
       "Linear SVM (L1)                                   {'C': 428.13323987193957}   \n",
       "Linear SVM (L2)                                    {'C': 4832.930238571752}   \n",
       "NonLinear SVM (RBF)       {'C': 37.92690190732238, 'gamma': 4832.9302385...   \n",
       "Decision Tree                                              {'max_depth': 1}   \n",
       "Random Forest                         {'max_depth': 7, 'n_estimators': 100}   \n",
       "XGBoost                   {'learning_rate': 0.1, 'max_depth': 2, 'n_esti...   \n",
       "\n",
       "                             Run Time  percent of PCC  \\\n",
       "KNN                          5.382352        1.246960   \n",
       "Logistic Regression (L1)     1.886265        1.206735   \n",
       "Logistic Regression (L2)     1.935442        1.448082   \n",
       "Linear SVM (L1)              5.957663        1.407858   \n",
       "Linear SVM (L2)              7.937805        1.367633   \n",
       "NonLinear SVM (RBF)          6.377883        1.166511   \n",
       "Decision Tree                2.241006       -0.251131   \n",
       "Random Forest              342.197690        1.327409   \n",
       "XGBoost                   5370.757274        1.287184   \n",
       "\n",
       "                                             Model  f1 weighted  f1 micro  \\\n",
       "KNN                                            KNN     0.624585  0.720930   \n",
       "Logistic Regression (L1)  Logistic Regression (L1)     0.573431  0.697674   \n",
       "Logistic Regression (L2)  Logistic Regression (L2)     0.845877  0.860465   \n",
       "Linear SVM (L1)                    Linear SVM (L1)     0.753568  0.767442   \n",
       "Linear SVM (L2)                    Linear SVM (L2)     0.845877  0.860465   \n",
       "NonLinear SVM (RBF)            NonLinear SVM (RBF)     0.713803  0.720930   \n",
       "Decision Tree                        Decision Tree     0.624585  0.720930   \n",
       "Random Forest                        Random Forest     0.783554  0.813953   \n",
       "XGBoost                                    XGBoost     0.763076  0.790698   \n",
       "\n",
       "                          f1 macro  \\\n",
       "KNN                       0.488095   \n",
       "Logistic Regression (L1)  0.410959   \n",
       "Logistic Regression (L2)  0.804545   \n",
       "Linear SVM (L1)           0.694602   \n",
       "Linear SVM (L2)           0.804545   \n",
       "NonLinear SVM (RBF)       0.653226   \n",
       "Decision Tree             0.488095   \n",
       "Random Forest             0.718954   \n",
       "XGBoost                   0.695994   \n",
       "\n",
       "                                                                    Figures  \n",
       "KNN                       <module 'matplotlib.pyplot' from 'D:\\\\OtherSof...  \n",
       "Logistic Regression (L1)  <module 'matplotlib.pyplot' from 'D:\\\\OtherSof...  \n",
       "Logistic Regression (L2)  <module 'matplotlib.pyplot' from 'D:\\\\OtherSof...  \n",
       "Linear SVM (L1)           <module 'matplotlib.pyplot' from 'D:\\\\OtherSof...  \n",
       "Linear SVM (L2)           <module 'matplotlib.pyplot' from 'D:\\\\OtherSof...  \n",
       "NonLinear SVM (RBF)       <module 'matplotlib.pyplot' from 'D:\\\\OtherSof...  \n",
       "Decision Tree             <module 'matplotlib.pyplot' from 'D:\\\\OtherSof...  \n",
       "Random Forest             <module 'matplotlib.pyplot' from 'D:\\\\OtherSof...  \n",
       "XGBoost                   <module 'matplotlib.pyplot' from 'D:\\\\OtherSof...  "
      ]
     },
     "execution_count": 117,
     "metadata": {},
     "output_type": "execute_result"
    }
   ],
   "source": [
    "stats_df"
   ]
  },
  {
   "cell_type": "code",
   "execution_count": 47,
   "metadata": {},
   "outputs": [],
   "source": [
    "#stats_df.to_csv('word2vec_optimized.csv')"
   ]
  },
  {
   "cell_type": "code",
   "execution_count": 48,
   "metadata": {},
   "outputs": [
    {
     "data": {
      "text/html": [
       "<div>\n",
       "<style scoped>\n",
       "    .dataframe tbody tr th:only-of-type {\n",
       "        vertical-align: middle;\n",
       "    }\n",
       "\n",
       "    .dataframe tbody tr th {\n",
       "        vertical-align: top;\n",
       "    }\n",
       "\n",
       "    .dataframe thead th {\n",
       "        text-align: right;\n",
       "    }\n",
       "</style>\n",
       "<table border=\"1\" class=\"dataframe\">\n",
       "  <thead>\n",
       "    <tr style=\"text-align: right;\">\n",
       "      <th></th>\n",
       "      <th>Test Accuracy</th>\n",
       "      <th>Training Accuracy</th>\n",
       "      <th>Best Parameters</th>\n",
       "      <th>Run Time</th>\n",
       "      <th>percent of PCC</th>\n",
       "      <th>Model</th>\n",
       "    </tr>\n",
       "  </thead>\n",
       "  <tbody>\n",
       "    <tr>\n",
       "      <th>KNN</th>\n",
       "      <td>0.720930</td>\n",
       "      <td>0.761628</td>\n",
       "      <td>{'n_neighbors': 4}</td>\n",
       "      <td>5.382352</td>\n",
       "      <td>1.246960</td>\n",
       "      <td>KNN</td>\n",
       "    </tr>\n",
       "    <tr>\n",
       "      <th>Logistic Regression (L1)</th>\n",
       "      <td>0.697674</td>\n",
       "      <td>0.697674</td>\n",
       "      <td>{'C': 1e-10}</td>\n",
       "      <td>1.886265</td>\n",
       "      <td>1.206735</td>\n",
       "      <td>Logistic Regression (L1)</td>\n",
       "    </tr>\n",
       "    <tr>\n",
       "      <th>Logistic Regression (L2)</th>\n",
       "      <td>0.837209</td>\n",
       "      <td>0.848837</td>\n",
       "      <td>{'C': 54555.947811685146}</td>\n",
       "      <td>1.935442</td>\n",
       "      <td>1.448082</td>\n",
       "      <td>Logistic Regression (L2)</td>\n",
       "    </tr>\n",
       "    <tr>\n",
       "      <th>Linear SVM (L1)</th>\n",
       "      <td>0.813953</td>\n",
       "      <td>0.970930</td>\n",
       "      <td>{'C': 428.13323987193957}</td>\n",
       "      <td>5.957663</td>\n",
       "      <td>1.407858</td>\n",
       "      <td>Linear SVM (L1)</td>\n",
       "    </tr>\n",
       "    <tr>\n",
       "      <th>Linear SVM (L2)</th>\n",
       "      <td>0.790698</td>\n",
       "      <td>0.784884</td>\n",
       "      <td>{'C': 4832.930238571752}</td>\n",
       "      <td>7.937805</td>\n",
       "      <td>1.367633</td>\n",
       "      <td>Linear SVM (L2)</td>\n",
       "    </tr>\n",
       "    <tr>\n",
       "      <th>NonLinear SVM (RBF)</th>\n",
       "      <td>0.674419</td>\n",
       "      <td>0.994186</td>\n",
       "      <td>{'C': 37.92690190732238, 'gamma': 4832.9302385...</td>\n",
       "      <td>6.377883</td>\n",
       "      <td>1.166511</td>\n",
       "      <td>NonLinear SVM (RBF)</td>\n",
       "    </tr>\n",
       "    <tr>\n",
       "      <th>Decision Tree</th>\n",
       "      <td>-0.145191</td>\n",
       "      <td>0.137483</td>\n",
       "      <td>{'max_depth': 1}</td>\n",
       "      <td>2.241006</td>\n",
       "      <td>-0.251131</td>\n",
       "      <td>Decision Tree</td>\n",
       "    </tr>\n",
       "    <tr>\n",
       "      <th>Random Forest</th>\n",
       "      <td>0.767442</td>\n",
       "      <td>0.994186</td>\n",
       "      <td>{'max_depth': 7, 'n_estimators': 100}</td>\n",
       "      <td>342.197690</td>\n",
       "      <td>1.327409</td>\n",
       "      <td>Random Forest</td>\n",
       "    </tr>\n",
       "    <tr>\n",
       "      <th>XGBoost</th>\n",
       "      <td>0.744186</td>\n",
       "      <td>0.994186</td>\n",
       "      <td>{'learning_rate': 0.1, 'max_depth': 2, 'n_esti...</td>\n",
       "      <td>5370.757274</td>\n",
       "      <td>1.287184</td>\n",
       "      <td>XGBoost</td>\n",
       "    </tr>\n",
       "  </tbody>\n",
       "</table>\n",
       "</div>"
      ],
      "text/plain": [
       "                          Test Accuracy  Training Accuracy  \\\n",
       "KNN                            0.720930           0.761628   \n",
       "Logistic Regression (L1)       0.697674           0.697674   \n",
       "Logistic Regression (L2)       0.837209           0.848837   \n",
       "Linear SVM (L1)                0.813953           0.970930   \n",
       "Linear SVM (L2)                0.790698           0.784884   \n",
       "NonLinear SVM (RBF)            0.674419           0.994186   \n",
       "Decision Tree                 -0.145191           0.137483   \n",
       "Random Forest                  0.767442           0.994186   \n",
       "XGBoost                        0.744186           0.994186   \n",
       "\n",
       "                                                            Best Parameters  \\\n",
       "KNN                                                      {'n_neighbors': 4}   \n",
       "Logistic Regression (L1)                                       {'C': 1e-10}   \n",
       "Logistic Regression (L2)                          {'C': 54555.947811685146}   \n",
       "Linear SVM (L1)                                   {'C': 428.13323987193957}   \n",
       "Linear SVM (L2)                                    {'C': 4832.930238571752}   \n",
       "NonLinear SVM (RBF)       {'C': 37.92690190732238, 'gamma': 4832.9302385...   \n",
       "Decision Tree                                              {'max_depth': 1}   \n",
       "Random Forest                         {'max_depth': 7, 'n_estimators': 100}   \n",
       "XGBoost                   {'learning_rate': 0.1, 'max_depth': 2, 'n_esti...   \n",
       "\n",
       "                             Run Time  percent of PCC  \\\n",
       "KNN                          5.382352        1.246960   \n",
       "Logistic Regression (L1)     1.886265        1.206735   \n",
       "Logistic Regression (L2)     1.935442        1.448082   \n",
       "Linear SVM (L1)              5.957663        1.407858   \n",
       "Linear SVM (L2)              7.937805        1.367633   \n",
       "NonLinear SVM (RBF)          6.377883        1.166511   \n",
       "Decision Tree                2.241006       -0.251131   \n",
       "Random Forest              342.197690        1.327409   \n",
       "XGBoost                   5370.757274        1.287184   \n",
       "\n",
       "                                             Model  \n",
       "KNN                                            KNN  \n",
       "Logistic Regression (L1)  Logistic Regression (L1)  \n",
       "Logistic Regression (L2)  Logistic Regression (L2)  \n",
       "Linear SVM (L1)                    Linear SVM (L1)  \n",
       "Linear SVM (L2)                    Linear SVM (L2)  \n",
       "NonLinear SVM (RBF)            NonLinear SVM (RBF)  \n",
       "Decision Tree                        Decision Tree  \n",
       "Random Forest                        Random Forest  \n",
       "XGBoost                                    XGBoost  "
      ]
     },
     "execution_count": 48,
     "metadata": {},
     "output_type": "execute_result"
    }
   ],
   "source": [
    "new_df"
   ]
  },
  {
   "cell_type": "code",
   "execution_count": 49,
   "metadata": {},
   "outputs": [
    {
     "name": "stdout",
     "output_type": "stream",
     "text": [
      "Testing accuracy 0.7674418604651163\n",
      "Testing F1 score: 0.7294421644626844\n"
     ]
    }
   ],
   "source": [
    "from sklearn.ensemble import GradientBoostingClassifier\n",
    "g_boost = GradientBoostingClassifier()\n",
    "g_boost.fit(X_train, y_train)\n",
    "y_pred = g_boost.predict(X_test)\n",
    "from sklearn.metrics import accuracy_score, f1_score\n",
    "print('Testing accuracy %s' % accuracy_score(y_test, y_pred))\n",
    "print('Testing F1 score: {}'.format(f1_score(y_test, y_pred, average='weighted')))"
   ]
  },
  {
   "cell_type": "code",
   "execution_count": 50,
   "metadata": {},
   "outputs": [
    {
     "name": "stdout",
     "output_type": "stream",
     "text": [
      "Testing accuracy 0.7209302325581395\n",
      "Testing F1 score: 0.6245847176079734\n"
     ]
    }
   ],
   "source": [
    "knn_model = model_dict['KNN']\n",
    "knn_model.fit(X_train, y_train)\n",
    "y_pred = knn_model.predict(X_test)\n",
    "from sklearn.metrics import accuracy_score, f1_score\n",
    "print('Testing accuracy %s' % accuracy_score(y_test, y_pred))\n",
    "print('Testing F1 score: {}'.format(f1_score(y_test, y_pred, average='weighted')))"
   ]
  },
  {
   "cell_type": "code",
   "execution_count": null,
   "metadata": {},
   "outputs": [],
   "source": []
  }
 ],
 "metadata": {
  "kernelspec": {
   "display_name": "Python 3",
   "language": "python",
   "name": "python3"
  },
  "language_info": {
   "codemirror_mode": {
    "name": "ipython",
    "version": 3
   },
   "file_extension": ".py",
   "mimetype": "text/x-python",
   "name": "python",
   "nbconvert_exporter": "python",
   "pygments_lexer": "ipython3",
   "version": "3.7.7"
  }
 },
 "nbformat": 4,
 "nbformat_minor": 4
}
