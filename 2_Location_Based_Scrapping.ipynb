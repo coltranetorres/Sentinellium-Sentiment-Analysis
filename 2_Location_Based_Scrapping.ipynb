{
 "cells": [
  {
   "cell_type": "markdown",
   "metadata": {
    "id": "zkASMTZeFZdz"
   },
   "source": [
    "# **Setup**\n",
    "\n",
    "Install, import, and stuff!"
   ]
  },
  {
   "cell_type": "code",
   "execution_count": null,
   "metadata": {
    "colab": {
     "base_uri": "https://localhost:8080/"
    },
    "id": "NxbkIOi8FOEN",
    "outputId": "817b500c-d3b8-431c-8157-cf1783e6aedb"
   },
   "outputs": [
    {
     "name": "stdout",
     "output_type": "stream",
     "text": [
      "Requirement already satisfied: tweepy in /usr/local/lib/python3.6/dist-packages (3.6.0)\n",
      "Requirement already satisfied: requests>=2.11.1 in /usr/local/lib/python3.6/dist-packages (from tweepy) (2.23.0)\n",
      "Requirement already satisfied: PySocks>=1.5.7 in /usr/local/lib/python3.6/dist-packages (from tweepy) (1.7.1)\n",
      "Requirement already satisfied: requests-oauthlib>=0.7.0 in /usr/local/lib/python3.6/dist-packages (from tweepy) (1.3.0)\n",
      "Requirement already satisfied: six>=1.10.0 in /usr/local/lib/python3.6/dist-packages (from tweepy) (1.15.0)\n",
      "Requirement already satisfied: certifi>=2017.4.17 in /usr/local/lib/python3.6/dist-packages (from requests>=2.11.1->tweepy) (2020.12.5)\n",
      "Requirement already satisfied: chardet<4,>=3.0.2 in /usr/local/lib/python3.6/dist-packages (from requests>=2.11.1->tweepy) (3.0.4)\n",
      "Requirement already satisfied: idna<3,>=2.5 in /usr/local/lib/python3.6/dist-packages (from requests>=2.11.1->tweepy) (2.10)\n",
      "Requirement already satisfied: urllib3!=1.25.0,!=1.25.1,<1.26,>=1.21.1 in /usr/local/lib/python3.6/dist-packages (from requests>=2.11.1->tweepy) (1.24.3)\n",
      "Requirement already satisfied: oauthlib>=3.0.0 in /usr/local/lib/python3.6/dist-packages (from requests-oauthlib>=0.7.0->tweepy) (3.1.0)\n"
     ]
    }
   ],
   "source": [
    "!pip install tweepy"
   ]
  },
  {
   "cell_type": "code",
   "execution_count": null,
   "metadata": {
    "colab": {
     "base_uri": "https://localhost:8080/"
    },
    "id": "Sb_kox47FdFB",
    "outputId": "0a15d80d-7baf-4287-a42f-b1639eecce52"
   },
   "outputs": [
    {
     "name": "stdout",
     "output_type": "stream",
     "text": [
      "Collecting geopandas\n",
      "\u001b[?25l  Downloading https://files.pythonhosted.org/packages/f7/a4/e66aafbefcbb717813bf3a355c8c4fc3ed04ea1dd7feb2920f2f4f868921/geopandas-0.8.1-py2.py3-none-any.whl (962kB)\n",
      "\u001b[K     |████████████████████████████████| 972kB 4.3MB/s \n",
      "\u001b[?25hCollecting pyproj>=2.2.0\n",
      "\u001b[?25l  Downloading https://files.pythonhosted.org/packages/e4/ab/280e80a67cfc109d15428c0ec56391fc03a65857b7727cf4e6e6f99a4204/pyproj-3.0.0.post1-cp36-cp36m-manylinux2010_x86_64.whl (6.4MB)\n",
      "\u001b[K     |████████████████████████████████| 6.5MB 8.6MB/s \n",
      "\u001b[?25hCollecting fiona\n",
      "\u001b[?25l  Downloading https://files.pythonhosted.org/packages/37/94/4910fd55246c1d963727b03885ead6ef1cd3748a465f7b0239ab25dfc9a3/Fiona-1.8.18-cp36-cp36m-manylinux1_x86_64.whl (14.8MB)\n",
      "\u001b[K     |████████████████████████████████| 14.8MB 304kB/s \n",
      "\u001b[?25hRequirement already satisfied: pandas>=0.23.0 in /usr/local/lib/python3.6/dist-packages (from geopandas) (1.1.5)\n",
      "Requirement already satisfied: shapely in /usr/local/lib/python3.6/dist-packages (from geopandas) (1.7.1)\n",
      "Requirement already satisfied: certifi in /usr/local/lib/python3.6/dist-packages (from pyproj>=2.2.0->geopandas) (2020.12.5)\n",
      "Requirement already satisfied: attrs>=17 in /usr/local/lib/python3.6/dist-packages (from fiona->geopandas) (20.3.0)\n",
      "Collecting munch\n",
      "  Downloading https://files.pythonhosted.org/packages/cc/ab/85d8da5c9a45e072301beb37ad7f833cd344e04c817d97e0cc75681d248f/munch-2.5.0-py2.py3-none-any.whl\n",
      "Collecting click-plugins>=1.0\n",
      "  Downloading https://files.pythonhosted.org/packages/e9/da/824b92d9942f4e472702488857914bdd50f73021efea15b4cad9aca8ecef/click_plugins-1.1.1-py2.py3-none-any.whl\n",
      "Requirement already satisfied: click<8,>=4.0 in /usr/local/lib/python3.6/dist-packages (from fiona->geopandas) (7.1.2)\n",
      "Requirement already satisfied: six>=1.7 in /usr/local/lib/python3.6/dist-packages (from fiona->geopandas) (1.15.0)\n",
      "Collecting cligj>=0.5\n",
      "  Downloading https://files.pythonhosted.org/packages/42/1e/947eadf10d6804bf276eb8a038bd5307996dceaaa41cfd21b7a15ec62f5d/cligj-0.7.1-py3-none-any.whl\n",
      "Requirement already satisfied: numpy>=1.15.4 in /usr/local/lib/python3.6/dist-packages (from pandas>=0.23.0->geopandas) (1.19.5)\n",
      "Requirement already satisfied: python-dateutil>=2.7.3 in /usr/local/lib/python3.6/dist-packages (from pandas>=0.23.0->geopandas) (2.8.1)\n",
      "Requirement already satisfied: pytz>=2017.2 in /usr/local/lib/python3.6/dist-packages (from pandas>=0.23.0->geopandas) (2018.9)\n",
      "Installing collected packages: pyproj, munch, click-plugins, cligj, fiona, geopandas\n",
      "Successfully installed click-plugins-1.1.1 cligj-0.7.1 fiona-1.8.18 geopandas-0.8.1 munch-2.5.0 pyproj-3.0.0.post1\n"
     ]
    }
   ],
   "source": [
    "!pip install geopandas"
   ]
  },
  {
   "cell_type": "code",
   "execution_count": null,
   "metadata": {
    "colab": {
     "base_uri": "https://localhost:8080/"
    },
    "id": "FqcG-hk-FekE",
    "outputId": "d9714b1c-4f87-4f7d-f1fa-e8c0733d52b7"
   },
   "outputs": [
    {
     "name": "stdout",
     "output_type": "stream",
     "text": [
      "Done!\n"
     ]
    }
   ],
   "source": [
    "import os\n",
    "import time\n",
    "import tweepy as tw\n",
    "import pandas as pd\n",
    "from tweepy import OAuthHandler\n",
    "import geopandas as gpd\n",
    "from tqdm import tqdm\n",
    "\n",
    "print('Done!')"
   ]
  },
  {
   "cell_type": "code",
   "execution_count": null,
   "metadata": {
    "colab": {
     "base_uri": "https://localhost:8080/"
    },
    "id": "1QNYMSYrFf4J",
    "outputId": "f85a5dcb-5bfd-4a79-df2d-408a256ee241"
   },
   "outputs": [
    {
     "name": "stdout",
     "output_type": "stream",
     "text": [
      "Ready!\n"
     ]
    }
   ],
   "source": [
    "consumer_key = 'fvV6AhveqaohFKFEU4ik3b37v'\n",
    "consumer_secret = 'DIQ6eGUgXk6uVEuHl42HDy9C3VWa0RW88F02wJzQ7oR4XgL6dn'\n",
    "access_token = '1388594064-YEpdPT7nJZAKrirFJMUaLT4574BYcS2afwWrU7c'\n",
    "access_token_secret = 'AIHeAkZlmSsc3wTupKOOZ8Jn4iFhrSLfiKlKmIDmDrw1m'\n",
    "\n",
    "auth = tw.OAuthHandler(consumer_key, consumer_secret)\n",
    "auth.set_access_token(access_token, access_token_secret)\n",
    "api = tw.API(auth,wait_on_rate_limit=True)\n",
    "\n",
    "print('Ready!')"
   ]
  },
  {
   "cell_type": "markdown",
   "metadata": {
    "id": "PjsRBGZWFlkR"
   },
   "source": [
    "# **Reading Data for Query Limits**\n",
    "\n",
    "The agreed upon methodology for scraping tweets from Twitter would be to define a radius of geographic coverage for each barangay (measured from the center of all barangays). The centroid of each barangay, and the corresponding radius is defined in the following dataset:"
   ]
  },
  {
   "cell_type": "code",
   "execution_count": null,
   "metadata": {
    "colab": {
     "base_uri": "https://localhost:8080/",
     "height": 391
    },
    "id": "hgixgtRvFj6i",
    "outputId": "b94f31b1-af17-42af-b6d4-e472efeb0b60"
   },
   "outputs": [
    {
     "name": "stdout",
     "output_type": "stream",
     "text": [
      "(1691, 17)\n"
     ]
    },
    {
     "data": {
      "text/html": [
       "<div>\n",
       "<style scoped>\n",
       "    .dataframe tbody tr th:only-of-type {\n",
       "        vertical-align: middle;\n",
       "    }\n",
       "\n",
       "    .dataframe tbody tr th {\n",
       "        vertical-align: top;\n",
       "    }\n",
       "\n",
       "    .dataframe thead th {\n",
       "        text-align: right;\n",
       "    }\n",
       "</style>\n",
       "<table border=\"1\" class=\"dataframe\">\n",
       "  <thead>\n",
       "    <tr style=\"text-align: right;\">\n",
       "      <th></th>\n",
       "      <th>ID_0</th>\n",
       "      <th>ISO</th>\n",
       "      <th>NAME_0</th>\n",
       "      <th>ID_1</th>\n",
       "      <th>NAME_1</th>\n",
       "      <th>ID_2</th>\n",
       "      <th>NAME_2</th>\n",
       "      <th>ID_3</th>\n",
       "      <th>NAME_3</th>\n",
       "      <th>NL_NAME_3</th>\n",
       "      <th>VARNAME_3</th>\n",
       "      <th>TYPE_3</th>\n",
       "      <th>ENGTYPE_3</th>\n",
       "      <th>PROVINCE</th>\n",
       "      <th>REGION</th>\n",
       "      <th>radius</th>\n",
       "      <th>geometry</th>\n",
       "    </tr>\n",
       "  </thead>\n",
       "  <tbody>\n",
       "    <tr>\n",
       "      <th>559</th>\n",
       "      <td>177</td>\n",
       "      <td>PHL</td>\n",
       "      <td>Philippines</td>\n",
       "      <td>47</td>\n",
       "      <td>Metropolitan Manila</td>\n",
       "      <td>955</td>\n",
       "      <td>Manila</td>\n",
       "      <td>25157</td>\n",
       "      <td>Barangay 762</td>\n",
       "      <td>None</td>\n",
       "      <td>None</td>\n",
       "      <td>Barangay</td>\n",
       "      <td>Village</td>\n",
       "      <td>Metropolitan Manila</td>\n",
       "      <td>Metropolitan Manila</td>\n",
       "      <td>120.103594</td>\n",
       "      <td>POINT (120.99651 14.56664)</td>\n",
       "    </tr>\n",
       "    <tr>\n",
       "      <th>693</th>\n",
       "      <td>177</td>\n",
       "      <td>PHL</td>\n",
       "      <td>Philippines</td>\n",
       "      <td>47</td>\n",
       "      <td>Metropolitan Manila</td>\n",
       "      <td>955</td>\n",
       "      <td>Manila</td>\n",
       "      <td>24721</td>\n",
       "      <td>Barangay 372</td>\n",
       "      <td>None</td>\n",
       "      <td>None</td>\n",
       "      <td>Barangay</td>\n",
       "      <td>Village</td>\n",
       "      <td>Metropolitan Manila</td>\n",
       "      <td>Metropolitan Manila</td>\n",
       "      <td>155.320934</td>\n",
       "      <td>POINT (120.98503 14.62455)</td>\n",
       "    </tr>\n",
       "    <tr>\n",
       "      <th>59</th>\n",
       "      <td>177</td>\n",
       "      <td>PHL</td>\n",
       "      <td>Philippines</td>\n",
       "      <td>47</td>\n",
       "      <td>Metropolitan Manila</td>\n",
       "      <td>955</td>\n",
       "      <td>Manila</td>\n",
       "      <td>24892</td>\n",
       "      <td>Barangay 527</td>\n",
       "      <td>None</td>\n",
       "      <td>None</td>\n",
       "      <td>Barangay</td>\n",
       "      <td>Village</td>\n",
       "      <td>Metropolitan Manila</td>\n",
       "      <td>Metropolitan Manila</td>\n",
       "      <td>144.222559</td>\n",
       "      <td>POINT (120.99870 14.61419)</td>\n",
       "    </tr>\n",
       "    <tr>\n",
       "      <th>1217</th>\n",
       "      <td>177</td>\n",
       "      <td>PHL</td>\n",
       "      <td>Philippines</td>\n",
       "      <td>47</td>\n",
       "      <td>Metropolitan Manila</td>\n",
       "      <td>958</td>\n",
       "      <td>Navotas</td>\n",
       "      <td>25359</td>\n",
       "      <td>San Rafael Village</td>\n",
       "      <td>None</td>\n",
       "      <td>None</td>\n",
       "      <td>Barangay</td>\n",
       "      <td>Village</td>\n",
       "      <td>Metropolitan Manila</td>\n",
       "      <td>Metropolitan Manila</td>\n",
       "      <td>787.194825</td>\n",
       "      <td>POINT (120.96199 14.63737)</td>\n",
       "    </tr>\n",
       "    <tr>\n",
       "      <th>800</th>\n",
       "      <td>177</td>\n",
       "      <td>PHL</td>\n",
       "      <td>Philippines</td>\n",
       "      <td>47</td>\n",
       "      <td>Metropolitan Manila</td>\n",
       "      <td>955</td>\n",
       "      <td>Manila</td>\n",
       "      <td>24828</td>\n",
       "      <td>Barangay 47</td>\n",
       "      <td>None</td>\n",
       "      <td>None</td>\n",
       "      <td>Barangay</td>\n",
       "      <td>Village</td>\n",
       "      <td>Metropolitan Manila</td>\n",
       "      <td>Metropolitan Manila</td>\n",
       "      <td>101.274114</td>\n",
       "      <td>POINT (120.96341 14.60841)</td>\n",
       "    </tr>\n",
       "  </tbody>\n",
       "</table>\n",
       "</div>"
      ],
      "text/plain": [
       "      ID_0  ISO  ...      radius                    geometry\n",
       "559    177  PHL  ...  120.103594  POINT (120.99651 14.56664)\n",
       "693    177  PHL  ...  155.320934  POINT (120.98503 14.62455)\n",
       "59     177  PHL  ...  144.222559  POINT (120.99870 14.61419)\n",
       "1217   177  PHL  ...  787.194825  POINT (120.96199 14.63737)\n",
       "800    177  PHL  ...  101.274114  POINT (120.96341 14.60841)\n",
       "\n",
       "[5 rows x 17 columns]"
      ]
     },
     "execution_count": 4,
     "metadata": {
      "tags": []
     },
     "output_type": "execute_result"
    }
   ],
   "source": [
    "# Read Metro Manila Locations\n",
    "loc_gdf = gpd.read_file('/content/drive/MyDrive/Startups/Project Sentinellium/1. Departments/Data Scientists/1. Datasets/NLP Datasets/0. Centroid and Radius/Barangay/metro_manila_brgy.shp')\n",
    "print(loc_gdf.shape)\n",
    "loc_gdf.sample(5)"
   ]
  },
  {
   "cell_type": "code",
   "execution_count": null,
   "metadata": {
    "colab": {
     "base_uri": "https://localhost:8080/"
    },
    "id": "QGoFEZHUyNDr",
    "outputId": "571b66dd-de63-4f77-af8e-62a41b1365b3"
   },
   "outputs": [
    {
     "data": {
      "text/plain": [
       "0"
      ]
     },
     "execution_count": 5,
     "metadata": {
      "tags": []
     },
     "output_type": "execute_result"
    }
   ],
   "source": [
    "loc_gdf.duplicated().sum()"
   ]
  },
  {
   "cell_type": "code",
   "execution_count": null,
   "metadata": {
    "colab": {
     "base_uri": "https://localhost:8080/"
    },
    "id": "hHienc8r_nyN",
    "outputId": "3141962e-eb9b-457d-de84-937ee7c36b22"
   },
   "outputs": [
    {
     "data": {
      "text/plain": [
       "413"
      ]
     },
     "execution_count": 12,
     "metadata": {
      "tags": []
     },
     "output_type": "execute_result"
    }
   ],
   "source": [
    "loc_gdf['NAME_3'].duplicated().sum()"
   ]
  },
  {
   "cell_type": "code",
   "execution_count": null,
   "metadata": {
    "colab": {
     "base_uri": "https://localhost:8080/"
    },
    "id": "4rbjJrhy-7Ng",
    "outputId": "02a01d94-5367-438f-ab9d-1e447f2386eb"
   },
   "outputs": [
    {
     "data": {
      "text/plain": [
       "0"
      ]
     },
     "execution_count": 7,
     "metadata": {
      "tags": []
     },
     "output_type": "execute_result"
    }
   ],
   "source": [
    "loc_gdf[['NAME_3', 'NAME_2']].duplicated().sum()"
   ]
  },
  {
   "cell_type": "code",
   "execution_count": null,
   "metadata": {
    "colab": {
     "base_uri": "https://localhost:8080/",
     "height": 1000
    },
    "id": "6E-3VNqe_GNZ",
    "outputId": "6ca5d1b6-46b4-4474-a657-8c76208e7cce"
   },
   "outputs": [
    {
     "data": {
      "text/html": [
       "<div>\n",
       "<style scoped>\n",
       "    .dataframe tbody tr th:only-of-type {\n",
       "        vertical-align: middle;\n",
       "    }\n",
       "\n",
       "    .dataframe tbody tr th {\n",
       "        vertical-align: top;\n",
       "    }\n",
       "\n",
       "    .dataframe thead th {\n",
       "        text-align: right;\n",
       "    }\n",
       "</style>\n",
       "<table border=\"1\" class=\"dataframe\">\n",
       "  <thead>\n",
       "    <tr style=\"text-align: right;\">\n",
       "      <th></th>\n",
       "      <th>ID_0</th>\n",
       "      <th>ISO</th>\n",
       "      <th>NAME_0</th>\n",
       "      <th>ID_1</th>\n",
       "      <th>NAME_1</th>\n",
       "      <th>ID_2</th>\n",
       "      <th>NAME_2</th>\n",
       "      <th>ID_3</th>\n",
       "      <th>NAME_3</th>\n",
       "      <th>NL_NAME_3</th>\n",
       "      <th>VARNAME_3</th>\n",
       "      <th>TYPE_3</th>\n",
       "      <th>ENGTYPE_3</th>\n",
       "      <th>PROVINCE</th>\n",
       "      <th>REGION</th>\n",
       "      <th>radius</th>\n",
       "      <th>geometry</th>\n",
       "    </tr>\n",
       "  </thead>\n",
       "  <tbody>\n",
       "    <tr>\n",
       "      <th>1642</th>\n",
       "      <td>177</td>\n",
       "      <td>PHL</td>\n",
       "      <td>Philippines</td>\n",
       "      <td>47</td>\n",
       "      <td>Metropolitan Manila</td>\n",
       "      <td>965</td>\n",
       "      <td>Taguig</td>\n",
       "      <td>25784</td>\n",
       "      <td>Bagumbayan</td>\n",
       "      <td>None</td>\n",
       "      <td>None</td>\n",
       "      <td>Barangay</td>\n",
       "      <td>Village</td>\n",
       "      <td>Metropolitan Manila</td>\n",
       "      <td>Metropolitan Manila</td>\n",
       "      <td>1127.155821</td>\n",
       "      <td>POINT (121.05533 14.47768)</td>\n",
       "    </tr>\n",
       "    <tr>\n",
       "      <th>1643</th>\n",
       "      <td>177</td>\n",
       "      <td>PHL</td>\n",
       "      <td>Philippines</td>\n",
       "      <td>47</td>\n",
       "      <td>Metropolitan Manila</td>\n",
       "      <td>965</td>\n",
       "      <td>Taguig</td>\n",
       "      <td>25785</td>\n",
       "      <td>Bambang</td>\n",
       "      <td>None</td>\n",
       "      <td>None</td>\n",
       "      <td>Barangay</td>\n",
       "      <td>Village</td>\n",
       "      <td>Metropolitan Manila</td>\n",
       "      <td>Metropolitan Manila</td>\n",
       "      <td>1127.217288</td>\n",
       "      <td>POINT (121.06629 14.52562)</td>\n",
       "    </tr>\n",
       "    <tr>\n",
       "      <th>1238</th>\n",
       "      <td>177</td>\n",
       "      <td>PHL</td>\n",
       "      <td>Philippines</td>\n",
       "      <td>47</td>\n",
       "      <td>Metropolitan Manila</td>\n",
       "      <td>960</td>\n",
       "      <td>Pasay City</td>\n",
       "      <td>25380</td>\n",
       "      <td>Barangay 1</td>\n",
       "      <td>None</td>\n",
       "      <td>None</td>\n",
       "      <td>Barangay</td>\n",
       "      <td>Village</td>\n",
       "      <td>Metropolitan Manila</td>\n",
       "      <td>Metropolitan Manila</td>\n",
       "      <td>145.478464</td>\n",
       "      <td>POINT (120.98744 14.55985)</td>\n",
       "    </tr>\n",
       "    <tr>\n",
       "      <th>364</th>\n",
       "      <td>177</td>\n",
       "      <td>PHL</td>\n",
       "      <td>Philippines</td>\n",
       "      <td>47</td>\n",
       "      <td>Metropolitan Manila</td>\n",
       "      <td>955</td>\n",
       "      <td>Manila</td>\n",
       "      <td>24430</td>\n",
       "      <td>Barangay 1</td>\n",
       "      <td>None</td>\n",
       "      <td>None</td>\n",
       "      <td>Barangay</td>\n",
       "      <td>Village</td>\n",
       "      <td>Metropolitan Manila</td>\n",
       "      <td>Metropolitan Manila</td>\n",
       "      <td>252.578104</td>\n",
       "      <td>POINT (120.96564 14.60383)</td>\n",
       "    </tr>\n",
       "    <tr>\n",
       "      <th>365</th>\n",
       "      <td>177</td>\n",
       "      <td>PHL</td>\n",
       "      <td>Philippines</td>\n",
       "      <td>47</td>\n",
       "      <td>Metropolitan Manila</td>\n",
       "      <td>955</td>\n",
       "      <td>Manila</td>\n",
       "      <td>24431</td>\n",
       "      <td>Barangay 10</td>\n",
       "      <td>None</td>\n",
       "      <td>None</td>\n",
       "      <td>Barangay</td>\n",
       "      <td>Village</td>\n",
       "      <td>Metropolitan Manila</td>\n",
       "      <td>Metropolitan Manila</td>\n",
       "      <td>71.681403</td>\n",
       "      <td>POINT (120.96865 14.60606)</td>\n",
       "    </tr>\n",
       "    <tr>\n",
       "      <th>1239</th>\n",
       "      <td>177</td>\n",
       "      <td>PHL</td>\n",
       "      <td>Philippines</td>\n",
       "      <td>47</td>\n",
       "      <td>Metropolitan Manila</td>\n",
       "      <td>960</td>\n",
       "      <td>Pasay City</td>\n",
       "      <td>25381</td>\n",
       "      <td>Barangay 10</td>\n",
       "      <td>None</td>\n",
       "      <td>None</td>\n",
       "      <td>Barangay</td>\n",
       "      <td>Village</td>\n",
       "      <td>Metropolitan Manila</td>\n",
       "      <td>Metropolitan Manila</td>\n",
       "      <td>142.650089</td>\n",
       "      <td>POINT (120.99005 14.55403)</td>\n",
       "    </tr>\n",
       "    <tr>\n",
       "      <th>1240</th>\n",
       "      <td>177</td>\n",
       "      <td>PHL</td>\n",
       "      <td>Philippines</td>\n",
       "      <td>47</td>\n",
       "      <td>Metropolitan Manila</td>\n",
       "      <td>960</td>\n",
       "      <td>Pasay City</td>\n",
       "      <td>25382</td>\n",
       "      <td>Barangay 100</td>\n",
       "      <td>None</td>\n",
       "      <td>None</td>\n",
       "      <td>Barangay</td>\n",
       "      <td>Village</td>\n",
       "      <td>Metropolitan Manila</td>\n",
       "      <td>Metropolitan Manila</td>\n",
       "      <td>142.678451</td>\n",
       "      <td>POINT (121.00117 14.54424)</td>\n",
       "    </tr>\n",
       "    <tr>\n",
       "      <th>366</th>\n",
       "      <td>177</td>\n",
       "      <td>PHL</td>\n",
       "      <td>Philippines</td>\n",
       "      <td>47</td>\n",
       "      <td>Metropolitan Manila</td>\n",
       "      <td>955</td>\n",
       "      <td>Manila</td>\n",
       "      <td>24432</td>\n",
       "      <td>Barangay 100</td>\n",
       "      <td>None</td>\n",
       "      <td>None</td>\n",
       "      <td>Barangay</td>\n",
       "      <td>Village</td>\n",
       "      <td>Metropolitan Manila</td>\n",
       "      <td>Metropolitan Manila</td>\n",
       "      <td>183.807532</td>\n",
       "      <td>POINT (120.95920 14.62198)</td>\n",
       "    </tr>\n",
       "    <tr>\n",
       "      <th>1241</th>\n",
       "      <td>177</td>\n",
       "      <td>PHL</td>\n",
       "      <td>Philippines</td>\n",
       "      <td>47</td>\n",
       "      <td>Metropolitan Manila</td>\n",
       "      <td>960</td>\n",
       "      <td>Pasay City</td>\n",
       "      <td>25383</td>\n",
       "      <td>Barangay 101</td>\n",
       "      <td>None</td>\n",
       "      <td>None</td>\n",
       "      <td>Barangay</td>\n",
       "      <td>Village</td>\n",
       "      <td>Metropolitan Manila</td>\n",
       "      <td>Metropolitan Manila</td>\n",
       "      <td>85.696176</td>\n",
       "      <td>POINT (121.00103 14.54560)</td>\n",
       "    </tr>\n",
       "    <tr>\n",
       "      <th>367</th>\n",
       "      <td>177</td>\n",
       "      <td>PHL</td>\n",
       "      <td>Philippines</td>\n",
       "      <td>47</td>\n",
       "      <td>Metropolitan Manila</td>\n",
       "      <td>955</td>\n",
       "      <td>Manila</td>\n",
       "      <td>24433</td>\n",
       "      <td>Barangay 101</td>\n",
       "      <td>None</td>\n",
       "      <td>None</td>\n",
       "      <td>Barangay</td>\n",
       "      <td>Village</td>\n",
       "      <td>Metropolitan Manila</td>\n",
       "      <td>Metropolitan Manila</td>\n",
       "      <td>347.070368</td>\n",
       "      <td>POINT (120.95908 14.62504)</td>\n",
       "    </tr>\n",
       "    <tr>\n",
       "      <th>368</th>\n",
       "      <td>177</td>\n",
       "      <td>PHL</td>\n",
       "      <td>Philippines</td>\n",
       "      <td>47</td>\n",
       "      <td>Metropolitan Manila</td>\n",
       "      <td>955</td>\n",
       "      <td>Manila</td>\n",
       "      <td>24434</td>\n",
       "      <td>Barangay 102</td>\n",
       "      <td>None</td>\n",
       "      <td>None</td>\n",
       "      <td>Barangay</td>\n",
       "      <td>Village</td>\n",
       "      <td>Metropolitan Manila</td>\n",
       "      <td>Metropolitan Manila</td>\n",
       "      <td>111.680239</td>\n",
       "      <td>POINT (120.96059 14.62182)</td>\n",
       "    </tr>\n",
       "    <tr>\n",
       "      <th>1242</th>\n",
       "      <td>177</td>\n",
       "      <td>PHL</td>\n",
       "      <td>Philippines</td>\n",
       "      <td>47</td>\n",
       "      <td>Metropolitan Manila</td>\n",
       "      <td>960</td>\n",
       "      <td>Pasay City</td>\n",
       "      <td>25384</td>\n",
       "      <td>Barangay 102</td>\n",
       "      <td>None</td>\n",
       "      <td>None</td>\n",
       "      <td>Barangay</td>\n",
       "      <td>Village</td>\n",
       "      <td>Metropolitan Manila</td>\n",
       "      <td>Metropolitan Manila</td>\n",
       "      <td>86.535523</td>\n",
       "      <td>POINT (121.00097 14.54626)</td>\n",
       "    </tr>\n",
       "    <tr>\n",
       "      <th>1243</th>\n",
       "      <td>177</td>\n",
       "      <td>PHL</td>\n",
       "      <td>Philippines</td>\n",
       "      <td>47</td>\n",
       "      <td>Metropolitan Manila</td>\n",
       "      <td>960</td>\n",
       "      <td>Pasay City</td>\n",
       "      <td>25385</td>\n",
       "      <td>Barangay 103</td>\n",
       "      <td>None</td>\n",
       "      <td>None</td>\n",
       "      <td>Barangay</td>\n",
       "      <td>Village</td>\n",
       "      <td>Metropolitan Manila</td>\n",
       "      <td>Metropolitan Manila</td>\n",
       "      <td>97.174105</td>\n",
       "      <td>POINT (121.00083 14.54709)</td>\n",
       "    </tr>\n",
       "    <tr>\n",
       "      <th>369</th>\n",
       "      <td>177</td>\n",
       "      <td>PHL</td>\n",
       "      <td>Philippines</td>\n",
       "      <td>47</td>\n",
       "      <td>Metropolitan Manila</td>\n",
       "      <td>955</td>\n",
       "      <td>Manila</td>\n",
       "      <td>24435</td>\n",
       "      <td>Barangay 103</td>\n",
       "      <td>None</td>\n",
       "      <td>None</td>\n",
       "      <td>Barangay</td>\n",
       "      <td>Village</td>\n",
       "      <td>Metropolitan Manila</td>\n",
       "      <td>Metropolitan Manila</td>\n",
       "      <td>141.461420</td>\n",
       "      <td>POINT (120.96072 14.62047)</td>\n",
       "    </tr>\n",
       "    <tr>\n",
       "      <th>1244</th>\n",
       "      <td>177</td>\n",
       "      <td>PHL</td>\n",
       "      <td>Philippines</td>\n",
       "      <td>47</td>\n",
       "      <td>Metropolitan Manila</td>\n",
       "      <td>960</td>\n",
       "      <td>Pasay City</td>\n",
       "      <td>25386</td>\n",
       "      <td>Barangay 104</td>\n",
       "      <td>None</td>\n",
       "      <td>None</td>\n",
       "      <td>Barangay</td>\n",
       "      <td>Village</td>\n",
       "      <td>Metropolitan Manila</td>\n",
       "      <td>Metropolitan Manila</td>\n",
       "      <td>112.982174</td>\n",
       "      <td>POINT (121.00247 14.54724)</td>\n",
       "    </tr>\n",
       "    <tr>\n",
       "      <th>370</th>\n",
       "      <td>177</td>\n",
       "      <td>PHL</td>\n",
       "      <td>Philippines</td>\n",
       "      <td>47</td>\n",
       "      <td>Metropolitan Manila</td>\n",
       "      <td>955</td>\n",
       "      <td>Manila</td>\n",
       "      <td>24436</td>\n",
       "      <td>Barangay 104</td>\n",
       "      <td>None</td>\n",
       "      <td>None</td>\n",
       "      <td>Barangay</td>\n",
       "      <td>Village</td>\n",
       "      <td>Metropolitan Manila</td>\n",
       "      <td>Metropolitan Manila</td>\n",
       "      <td>167.111882</td>\n",
       "      <td>POINT (120.96136 14.61917)</td>\n",
       "    </tr>\n",
       "    <tr>\n",
       "      <th>1245</th>\n",
       "      <td>177</td>\n",
       "      <td>PHL</td>\n",
       "      <td>Philippines</td>\n",
       "      <td>47</td>\n",
       "      <td>Metropolitan Manila</td>\n",
       "      <td>960</td>\n",
       "      <td>Pasay City</td>\n",
       "      <td>25387</td>\n",
       "      <td>Barangay 105</td>\n",
       "      <td>None</td>\n",
       "      <td>None</td>\n",
       "      <td>Barangay</td>\n",
       "      <td>Village</td>\n",
       "      <td>Metropolitan Manila</td>\n",
       "      <td>Metropolitan Manila</td>\n",
       "      <td>86.482767</td>\n",
       "      <td>POINT (121.00073 14.54784)</td>\n",
       "    </tr>\n",
       "    <tr>\n",
       "      <th>371</th>\n",
       "      <td>177</td>\n",
       "      <td>PHL</td>\n",
       "      <td>Philippines</td>\n",
       "      <td>47</td>\n",
       "      <td>Metropolitan Manila</td>\n",
       "      <td>955</td>\n",
       "      <td>Manila</td>\n",
       "      <td>24437</td>\n",
       "      <td>Barangay 105</td>\n",
       "      <td>None</td>\n",
       "      <td>None</td>\n",
       "      <td>Barangay</td>\n",
       "      <td>Village</td>\n",
       "      <td>Metropolitan Manila</td>\n",
       "      <td>Metropolitan Manila</td>\n",
       "      <td>149.620694</td>\n",
       "      <td>POINT (120.95912 14.61981)</td>\n",
       "    </tr>\n",
       "    <tr>\n",
       "      <th>1246</th>\n",
       "      <td>177</td>\n",
       "      <td>PHL</td>\n",
       "      <td>Philippines</td>\n",
       "      <td>47</td>\n",
       "      <td>Metropolitan Manila</td>\n",
       "      <td>960</td>\n",
       "      <td>Pasay City</td>\n",
       "      <td>25388</td>\n",
       "      <td>Barangay 106</td>\n",
       "      <td>None</td>\n",
       "      <td>None</td>\n",
       "      <td>Barangay</td>\n",
       "      <td>Village</td>\n",
       "      <td>Metropolitan Manila</td>\n",
       "      <td>Metropolitan Manila</td>\n",
       "      <td>90.514776</td>\n",
       "      <td>POINT (121.00064 14.54839)</td>\n",
       "    </tr>\n",
       "    <tr>\n",
       "      <th>372</th>\n",
       "      <td>177</td>\n",
       "      <td>PHL</td>\n",
       "      <td>Philippines</td>\n",
       "      <td>47</td>\n",
       "      <td>Metropolitan Manila</td>\n",
       "      <td>955</td>\n",
       "      <td>Manila</td>\n",
       "      <td>24438</td>\n",
       "      <td>Barangay 106</td>\n",
       "      <td>None</td>\n",
       "      <td>None</td>\n",
       "      <td>Barangay</td>\n",
       "      <td>Village</td>\n",
       "      <td>Metropolitan Manila</td>\n",
       "      <td>Metropolitan Manila</td>\n",
       "      <td>72.775754</td>\n",
       "      <td>POINT (120.95890 14.62364)</td>\n",
       "    </tr>\n",
       "  </tbody>\n",
       "</table>\n",
       "</div>"
      ],
      "text/plain": [
       "      ID_0  ISO  ...       radius                    geometry\n",
       "1642   177  PHL  ...  1127.155821  POINT (121.05533 14.47768)\n",
       "1643   177  PHL  ...  1127.217288  POINT (121.06629 14.52562)\n",
       "1238   177  PHL  ...   145.478464  POINT (120.98744 14.55985)\n",
       "364    177  PHL  ...   252.578104  POINT (120.96564 14.60383)\n",
       "365    177  PHL  ...    71.681403  POINT (120.96865 14.60606)\n",
       "1239   177  PHL  ...   142.650089  POINT (120.99005 14.55403)\n",
       "1240   177  PHL  ...   142.678451  POINT (121.00117 14.54424)\n",
       "366    177  PHL  ...   183.807532  POINT (120.95920 14.62198)\n",
       "1241   177  PHL  ...    85.696176  POINT (121.00103 14.54560)\n",
       "367    177  PHL  ...   347.070368  POINT (120.95908 14.62504)\n",
       "368    177  PHL  ...   111.680239  POINT (120.96059 14.62182)\n",
       "1242   177  PHL  ...    86.535523  POINT (121.00097 14.54626)\n",
       "1243   177  PHL  ...    97.174105  POINT (121.00083 14.54709)\n",
       "369    177  PHL  ...   141.461420  POINT (120.96072 14.62047)\n",
       "1244   177  PHL  ...   112.982174  POINT (121.00247 14.54724)\n",
       "370    177  PHL  ...   167.111882  POINT (120.96136 14.61917)\n",
       "1245   177  PHL  ...    86.482767  POINT (121.00073 14.54784)\n",
       "371    177  PHL  ...   149.620694  POINT (120.95912 14.61981)\n",
       "1246   177  PHL  ...    90.514776  POINT (121.00064 14.54839)\n",
       "372    177  PHL  ...    72.775754  POINT (120.95890 14.62364)\n",
       "\n",
       "[20 rows x 17 columns]"
      ]
     },
     "execution_count": 13,
     "metadata": {
      "tags": []
     },
     "output_type": "execute_result"
    }
   ],
   "source": [
    "loc_gdf[loc_gdf['NAME_3'].duplicated()].sort_values(by=['NAME_3']).head(20)"
   ]
  },
  {
   "cell_type": "markdown",
   "metadata": {
    "id": "OB3ouaH9F0iH"
   },
   "source": [
    "# **Scrape by Location**\n",
    "\n",
    "Since barangay-attribution of the sentiment score is important, a methodology of knowing WHERE a tweet is associated should be devised. It is impossible to extract the exact ```lat,long``` coordinates of a tweet. However, it is possible to define a location from which tweets would be scraped. As such, we'll be using this capability from the ```Tweepy``` API."
   ]
  },
  {
   "cell_type": "markdown",
   "metadata": {
    "id": "lddQsANXF9hj"
   },
   "source": [
    "## **Structure of Scraped from API**\n",
    "\n",
    "To check how to create the stored version of the data, preferably in tabular form, I wanted to check what the API returns would be as I did not want to use the same implementation as the normal ```cursor``` implementations.\n",
    "\n",
    "As such, as implemented below, I am viewing the raw JSON data. For better viewing of the returned JSON file, use this beautifier:\n",
    "\n",
    "https://jsonformatter.curiousconcept.com/#\n",
    "\n",
    "Or whatever you can use."
   ]
  },
  {
   "cell_type": "code",
   "execution_count": null,
   "metadata": {
    "colab": {
     "base_uri": "https://localhost:8080/"
    },
    "id": "GY4eWIXnGQyC",
    "outputId": "5ea01b70-c27c-413d-b944-8f24186d661b"
   },
   "outputs": [
    {
     "data": {
      "text/plain": [
       "{'search_metadata': {'completed_in': 0.05,\n",
       "  'count': 2,\n",
       "  'max_id': 1348603754912706560,\n",
       "  'max_id_str': '1348603754912706560',\n",
       "  'next_results': '?max_id=1348603742707347455&q=covid&geocode=14.557894946251661%2C121.04647475317041%2C10mi&count=2&include_entities=1',\n",
       "  'query': 'covid',\n",
       "  'refresh_url': '?since_id=1348603754912706560&q=covid&geocode=14.557894946251661%2C121.04647475317041%2C10mi&include_entities=1',\n",
       "  'since_id': 0,\n",
       "  'since_id_str': '0'},\n",
       " 'statuses': [{'contributors': None,\n",
       "   'coordinates': None,\n",
       "   'created_at': 'Mon Jan 11 12:12:45 +0000 2021',\n",
       "   'entities': {'hashtags': [],\n",
       "    'symbols': [],\n",
       "    'urls': [],\n",
       "    'user_mentions': [{'id': 30162431,\n",
       "      'id_str': '30162431',\n",
       "      'indices': [3, 13],\n",
       "      'name': 'Vico Sotto',\n",
       "      'screen_name': 'VicoSotto'}]},\n",
       "   'favorite_count': 0,\n",
       "   'favorited': False,\n",
       "   'geo': None,\n",
       "   'id': 1348603754912706560,\n",
       "   'id_str': '1348603754912706560',\n",
       "   'in_reply_to_screen_name': None,\n",
       "   'in_reply_to_status_id': None,\n",
       "   'in_reply_to_status_id_str': None,\n",
       "   'in_reply_to_user_id': None,\n",
       "   'in_reply_to_user_id_str': None,\n",
       "   'is_quote_status': False,\n",
       "   'lang': 'en',\n",
       "   'metadata': {'iso_language_code': 'en', 'result_type': 'recent'},\n",
       "   'place': None,\n",
       "   'retweet_count': 534,\n",
       "   'retweeted': False,\n",
       "   'retweeted_status': {'contributors': None,\n",
       "    'coordinates': None,\n",
       "    'created_at': 'Sun Jan 10 22:55:40 +0000 2021',\n",
       "    'entities': {'hashtags': [],\n",
       "     'symbols': [],\n",
       "     'urls': [{'display_url': 'twitter.com/i/web/status/1…',\n",
       "       'expanded_url': 'https://twitter.com/i/web/status/1348403163158638592',\n",
       "       'indices': [117, 140],\n",
       "       'url': 'https://t.co/Dqc3AvCT6P'}],\n",
       "     'user_mentions': []},\n",
       "    'favorite_count': 4013,\n",
       "    'favorited': False,\n",
       "    'geo': None,\n",
       "    'id': 1348403163158638592,\n",
       "    'id_str': '1348403163158638592',\n",
       "    'in_reply_to_screen_name': None,\n",
       "    'in_reply_to_status_id': None,\n",
       "    'in_reply_to_status_id_str': None,\n",
       "    'in_reply_to_user_id': None,\n",
       "    'in_reply_to_user_id_str': None,\n",
       "    'is_quote_status': False,\n",
       "    'lang': 'en',\n",
       "    'metadata': {'iso_language_code': 'en', 'result_type': 'recent'},\n",
       "    'place': None,\n",
       "    'possibly_sensitive': False,\n",
       "    'retweet_count': 534,\n",
       "    'retweeted': False,\n",
       "    'source': '<a href=\"http://twitter.com/download/android\" rel=\"nofollow\">Twitter for Android</a>',\n",
       "    'text': 'Many of us LGUs signed a tripartite agreement with AstraZeneca and the national govt yesterday.\\n\\nPasig ordered 400K… https://t.co/Dqc3AvCT6P',\n",
       "    'truncated': True,\n",
       "    'user': {'contributors_enabled': False,\n",
       "     'created_at': 'Fri Apr 10 04:39:37 +0000 2009',\n",
       "     'default_profile': False,\n",
       "     'default_profile_image': False,\n",
       "     'description': 'Contact us: vicosotto @ outlook. com',\n",
       "     'entities': {'description': {'urls': []},\n",
       "      'url': {'urls': [{'display_url': 'instagram.com/VicoSotto',\n",
       "         'expanded_url': 'http://instagram.com/VicoSotto',\n",
       "         'indices': [0, 23],\n",
       "         'url': 'https://t.co/dtuFBFcxuA'}]}},\n",
       "     'favourites_count': 4748,\n",
       "     'follow_request_sent': False,\n",
       "     'followers_count': 1749002,\n",
       "     'following': True,\n",
       "     'friends_count': 394,\n",
       "     'geo_enabled': True,\n",
       "     'has_extended_profile': True,\n",
       "     'id': 30162431,\n",
       "     'id_str': '30162431',\n",
       "     'is_translation_enabled': False,\n",
       "     'is_translator': False,\n",
       "     'lang': None,\n",
       "     'listed_count': 241,\n",
       "     'location': 'Pasig City',\n",
       "     'name': 'Vico Sotto',\n",
       "     'notifications': False,\n",
       "     'profile_background_color': 'FFFFFF',\n",
       "     'profile_background_image_url': 'http://abs.twimg.com/images/themes/theme1/bg.png',\n",
       "     'profile_background_image_url_https': 'https://abs.twimg.com/images/themes/theme1/bg.png',\n",
       "     'profile_background_tile': False,\n",
       "     'profile_banner_url': 'https://pbs.twimg.com/profile_banners/30162431/1579774004',\n",
       "     'profile_image_url': 'http://pbs.twimg.com/profile_images/709766690477748224/Yj0P6i5g_normal.jpg',\n",
       "     'profile_image_url_https': 'https://pbs.twimg.com/profile_images/709766690477748224/Yj0P6i5g_normal.jpg',\n",
       "     'profile_link_color': '0018A8',\n",
       "     'profile_sidebar_border_color': '000000',\n",
       "     'profile_sidebar_fill_color': 'FFFFFF',\n",
       "     'profile_text_color': '000000',\n",
       "     'profile_use_background_image': False,\n",
       "     'protected': False,\n",
       "     'screen_name': 'VicoSotto',\n",
       "     'statuses_count': 3678,\n",
       "     'time_zone': None,\n",
       "     'translator_type': 'none',\n",
       "     'url': 'https://t.co/dtuFBFcxuA',\n",
       "     'utc_offset': None,\n",
       "     'verified': True}},\n",
       "   'source': '<a href=\"http://twitter.com/download/android\" rel=\"nofollow\">Twitter for Android</a>',\n",
       "   'text': 'RT @VicoSotto: Many of us LGUs signed a tripartite agreement with AstraZeneca and the national govt yesterday.\\n\\nPasig ordered 400K doses (*…',\n",
       "   'truncated': False,\n",
       "   'user': {'contributors_enabled': False,\n",
       "    'created_at': 'Tue Jun 09 11:09:20 +0000 2009',\n",
       "    'default_profile': False,\n",
       "    'default_profile_image': False,\n",
       "    'description': 'Books are the ultimate Dumpees: put them down and they’ll wait for you forever; pay attention to them and they always love you back.',\n",
       "    'entities': {'description': {'urls': []}},\n",
       "    'favourites_count': 520,\n",
       "    'follow_request_sent': False,\n",
       "    'followers_count': 76,\n",
       "    'following': False,\n",
       "    'friends_count': 143,\n",
       "    'geo_enabled': True,\n",
       "    'has_extended_profile': False,\n",
       "    'id': 45814190,\n",
       "    'id_str': '45814190',\n",
       "    'is_translation_enabled': False,\n",
       "    'is_translator': False,\n",
       "    'lang': None,\n",
       "    'listed_count': 1,\n",
       "    'location': 'Lungsod ng Cagayan de Oro, Reh',\n",
       "    'name': 'Leon',\n",
       "    'notifications': False,\n",
       "    'profile_background_color': 'FFFFFF',\n",
       "    'profile_background_image_url': 'http://abs.twimg.com/images/themes/theme2/bg.gif',\n",
       "    'profile_background_image_url_https': 'https://abs.twimg.com/images/themes/theme2/bg.gif',\n",
       "    'profile_background_tile': True,\n",
       "    'profile_banner_url': 'https://pbs.twimg.com/profile_banners/45814190/1496661414',\n",
       "    'profile_image_url': 'http://pbs.twimg.com/profile_images/378800000585856398/db0e8ef70077c66353a3766566c5429d_normal.jpeg',\n",
       "    'profile_image_url_https': 'https://pbs.twimg.com/profile_images/378800000585856398/db0e8ef70077c66353a3766566c5429d_normal.jpeg',\n",
       "    'profile_link_color': 'F5ABB5',\n",
       "    'profile_sidebar_border_color': 'FFFFFF',\n",
       "    'profile_sidebar_fill_color': 'FFFFFF',\n",
       "    'profile_text_color': '000000',\n",
       "    'profile_use_background_image': True,\n",
       "    'protected': False,\n",
       "    'screen_name': 'lmlp08',\n",
       "    'statuses_count': 7670,\n",
       "    'time_zone': None,\n",
       "    'translator_type': 'none',\n",
       "    'url': None,\n",
       "    'utc_offset': None,\n",
       "    'verified': False}},\n",
       "  {'contributors': None,\n",
       "   'coordinates': None,\n",
       "   'created_at': 'Mon Jan 11 12:12:42 +0000 2021',\n",
       "   'entities': {'hashtags': [],\n",
       "    'symbols': [],\n",
       "    'urls': [],\n",
       "    'user_mentions': [{'id': 24400524,\n",
       "      'id_str': '24400524',\n",
       "      'indices': [3, 16],\n",
       "      'name': 'Barnaby Lo',\n",
       "      'screen_name': 'barnabychuck'}]},\n",
       "   'favorite_count': 0,\n",
       "   'favorited': False,\n",
       "   'geo': None,\n",
       "   'id': 1348603742707347456,\n",
       "   'id_str': '1348603742707347456',\n",
       "   'in_reply_to_screen_name': None,\n",
       "   'in_reply_to_status_id': None,\n",
       "   'in_reply_to_status_id_str': None,\n",
       "   'in_reply_to_user_id': None,\n",
       "   'in_reply_to_user_id_str': None,\n",
       "   'is_quote_status': True,\n",
       "   'lang': 'en',\n",
       "   'metadata': {'iso_language_code': 'en', 'result_type': 'recent'},\n",
       "   'place': None,\n",
       "   'quoted_status_id': 1348293766063525890,\n",
       "   'quoted_status_id_str': '1348293766063525890',\n",
       "   'retweet_count': 111,\n",
       "   'retweeted': False,\n",
       "   'retweeted_status': {'contributors': None,\n",
       "    'coordinates': None,\n",
       "    'created_at': 'Mon Jan 11 10:50:00 +0000 2021',\n",
       "    'entities': {'hashtags': [],\n",
       "     'symbols': [],\n",
       "     'urls': [{'display_url': 'twitter.com/i/web/status/1…',\n",
       "       'expanded_url': 'https://twitter.com/i/web/status/1348582930398932993',\n",
       "       'indices': [116, 139],\n",
       "       'url': 'https://t.co/HlceHRQmWp'}],\n",
       "     'user_mentions': []},\n",
       "    'favorite_count': 228,\n",
       "    'favorited': False,\n",
       "    'geo': None,\n",
       "    'id': 1348582930398932993,\n",
       "    'id_str': '1348582930398932993',\n",
       "    'in_reply_to_screen_name': None,\n",
       "    'in_reply_to_status_id': None,\n",
       "    'in_reply_to_status_id_str': None,\n",
       "    'in_reply_to_user_id': None,\n",
       "    'in_reply_to_user_id_str': None,\n",
       "    'is_quote_status': True,\n",
       "    'lang': 'en',\n",
       "    'metadata': {'iso_language_code': 'en', 'result_type': 'recent'},\n",
       "    'place': None,\n",
       "    'possibly_sensitive': False,\n",
       "    'quoted_status': {'contributors': None,\n",
       "     'coordinates': None,\n",
       "     'created_at': 'Sun Jan 10 15:40:58 +0000 2021',\n",
       "     'entities': {'hashtags': [],\n",
       "      'symbols': [],\n",
       "      'urls': [{'display_url': 'twitter.com/i/web/status/1…',\n",
       "        'expanded_url': 'https://twitter.com/i/web/status/1348293766063525890',\n",
       "        'indices': [117, 140],\n",
       "        'url': 'https://t.co/cSmk6OufzO'}],\n",
       "      'user_mentions': []},\n",
       "     'favorite_count': 858,\n",
       "     'favorited': False,\n",
       "     'geo': None,\n",
       "     'id': 1348293766063525890,\n",
       "     'id_str': '1348293766063525890',\n",
       "     'in_reply_to_screen_name': None,\n",
       "     'in_reply_to_status_id': None,\n",
       "     'in_reply_to_status_id_str': None,\n",
       "     'in_reply_to_user_id': None,\n",
       "     'in_reply_to_user_id_str': None,\n",
       "     'is_quote_status': True,\n",
       "     'lang': 'en',\n",
       "     'metadata': {'iso_language_code': 'en', 'result_type': 'recent'},\n",
       "     'place': None,\n",
       "     'possibly_sensitive': False,\n",
       "     'quoted_status_id': 1348263632648462342,\n",
       "     'quoted_status_id_str': '1348263632648462342',\n",
       "     'retweet_count': 493,\n",
       "     'retweeted': False,\n",
       "     'source': '<a href=\"https://mobile.twitter.com\" rel=\"nofollow\">Twitter Web App</a>',\n",
       "     'text': '\"I don\\'t want the AstraZeneca vaccine. It is only 62% effective. I want the Pfizer vaccine it is 95% effective.\"\\n\\nA… https://t.co/cSmk6OufzO',\n",
       "     'truncated': True,\n",
       "     'user': {'contributors_enabled': False,\n",
       "      'created_at': 'Sat Jun 28 00:30:54 +0000 2014',\n",
       "      'default_profile': True,\n",
       "      'default_profile_image': False,\n",
       "      'description': \"“A Nation should not be judged by how it treats its highest citizens, but it's lowest ones”\\n― Nelson Mandela\",\n",
       "      'entities': {'description': {'urls': []}},\n",
       "      'favourites_count': 24658,\n",
       "      'follow_request_sent': False,\n",
       "      'followers_count': 718,\n",
       "      'following': False,\n",
       "      'friends_count': 1344,\n",
       "      'geo_enabled': True,\n",
       "      'has_extended_profile': True,\n",
       "      'id': 2592168702,\n",
       "      'id_str': '2592168702',\n",
       "      'is_translation_enabled': False,\n",
       "      'is_translator': False,\n",
       "      'lang': None,\n",
       "      'listed_count': 6,\n",
       "      'location': 'Charleston, SC',\n",
       "      'name': 'Brian Still, M.D.',\n",
       "      'notifications': False,\n",
       "      'profile_background_color': 'C0DEED',\n",
       "      'profile_background_image_url': 'http://abs.twimg.com/images/themes/theme1/bg.png',\n",
       "      'profile_background_image_url_https': 'https://abs.twimg.com/images/themes/theme1/bg.png',\n",
       "      'profile_background_tile': False,\n",
       "      'profile_banner_url': 'https://pbs.twimg.com/profile_banners/2592168702/1403915473',\n",
       "      'profile_image_url': 'http://pbs.twimg.com/profile_images/1346586486788009986/6jAoBIUF_normal.jpg',\n",
       "      'profile_image_url_https': 'https://pbs.twimg.com/profile_images/1346586486788009986/6jAoBIUF_normal.jpg',\n",
       "      'profile_link_color': '1DA1F2',\n",
       "      'profile_sidebar_border_color': 'C0DEED',\n",
       "      'profile_sidebar_fill_color': 'DDEEF6',\n",
       "      'profile_text_color': '333333',\n",
       "      'profile_use_background_image': True,\n",
       "      'protected': False,\n",
       "      'screen_name': 'brianrstill',\n",
       "      'statuses_count': 6982,\n",
       "      'time_zone': None,\n",
       "      'translator_type': 'none',\n",
       "      'url': None,\n",
       "      'utc_offset': None,\n",
       "      'verified': False}},\n",
       "    'quoted_status_id': 1348293766063525890,\n",
       "    'quoted_status_id_str': '1348293766063525890',\n",
       "    'retweet_count': 111,\n",
       "    'retweeted': False,\n",
       "    'source': '<a href=\"http://twitter.com/download/iphone\" rel=\"nofollow\">Twitter for iPhone</a>',\n",
       "    'text': 'This thread explains Astrazeneca’s COVID vaccine’s efficacy. But what I’d like to emphasize is every point made is… https://t.co/HlceHRQmWp',\n",
       "    'truncated': True,\n",
       "    'user': {'contributors_enabled': False,\n",
       "     'created_at': 'Sat Mar 14 17:37:27 +0000 2009',\n",
       "     'default_profile': False,\n",
       "     'default_profile_image': False,\n",
       "     'description': 'Filipino. Journalist - @CBSNews, @AJEnglish, @assignasia. Host of Viewpoint on @nowyouknowph. Views my own. Story leads: barnabychuck.lo@gmail.com',\n",
       "     'entities': {'description': {'urls': []}},\n",
       "     'favourites_count': 11090,\n",
       "     'follow_request_sent': False,\n",
       "     'followers_count': 4982,\n",
       "     'following': False,\n",
       "     'friends_count': 821,\n",
       "     'geo_enabled': True,\n",
       "     'has_extended_profile': False,\n",
       "     'id': 24400524,\n",
       "     'id_str': '24400524',\n",
       "     'is_translation_enabled': False,\n",
       "     'is_translator': False,\n",
       "     'lang': None,\n",
       "     'listed_count': 71,\n",
       "     'location': 'Manila, Philippines',\n",
       "     'name': 'Barnaby Lo',\n",
       "     'notifications': False,\n",
       "     'profile_background_color': '022330',\n",
       "     'profile_background_image_url': 'http://abs.twimg.com/images/themes/theme15/bg.png',\n",
       "     'profile_background_image_url_https': 'https://abs.twimg.com/images/themes/theme15/bg.png',\n",
       "     'profile_background_tile': False,\n",
       "     'profile_banner_url': 'https://pbs.twimg.com/profile_banners/24400524/1592735840',\n",
       "     'profile_image_url': 'http://pbs.twimg.com/profile_images/1341008849608663040/09vTEBga_normal.jpg',\n",
       "     'profile_image_url_https': 'https://pbs.twimg.com/profile_images/1341008849608663040/09vTEBga_normal.jpg',\n",
       "     'profile_link_color': '0084B4',\n",
       "     'profile_sidebar_border_color': 'A8C7F7',\n",
       "     'profile_sidebar_fill_color': 'C0DFEC',\n",
       "     'profile_text_color': '333333',\n",
       "     'profile_use_background_image': True,\n",
       "     'protected': False,\n",
       "     'screen_name': 'barnabychuck',\n",
       "     'statuses_count': 25900,\n",
       "     'time_zone': None,\n",
       "     'translator_type': 'none',\n",
       "     'url': None,\n",
       "     'utc_offset': None,\n",
       "     'verified': False}},\n",
       "   'source': '<a href=\"http://twitter.com/download/android\" rel=\"nofollow\">Twitter for Android</a>',\n",
       "   'text': 'RT @barnabychuck: This thread explains Astrazeneca’s COVID vaccine’s efficacy. But what I’d like to emphasize is every point made is backed…',\n",
       "   'truncated': False,\n",
       "   'user': {'contributors_enabled': False,\n",
       "    'created_at': 'Fri May 11 16:12:20 +0000 2018',\n",
       "    'default_profile': False,\n",
       "    'default_profile_image': False,\n",
       "    'description': 'im inlove with the pain',\n",
       "    'entities': {'description': {'urls': []},\n",
       "     'url': {'urls': [{'display_url': 'May.9th.com',\n",
       "        'expanded_url': 'http://May.9th.com',\n",
       "        'indices': [0, 23],\n",
       "        'url': 'https://t.co/MUVMY4obZ7'}]}},\n",
       "    'favourites_count': 2081,\n",
       "    'follow_request_sent': False,\n",
       "    'followers_count': 113,\n",
       "    'following': False,\n",
       "    'friends_count': 115,\n",
       "    'geo_enabled': True,\n",
       "    'has_extended_profile': True,\n",
       "    'id': 994973488325668865,\n",
       "    'id_str': '994973488325668865',\n",
       "    'is_translation_enabled': False,\n",
       "    'is_translator': False,\n",
       "    'lang': None,\n",
       "    'listed_count': 0,\n",
       "    'location': 'south ',\n",
       "    'name': 'wonderpet',\n",
       "    'notifications': False,\n",
       "    'profile_background_color': '000000',\n",
       "    'profile_background_image_url': 'http://abs.twimg.com/images/themes/theme1/bg.png',\n",
       "    'profile_background_image_url_https': 'https://abs.twimg.com/images/themes/theme1/bg.png',\n",
       "    'profile_background_tile': False,\n",
       "    'profile_banner_url': 'https://pbs.twimg.com/profile_banners/994973488325668865/1608367711',\n",
       "    'profile_image_url': 'http://pbs.twimg.com/profile_images/1342746947682066433/qGkoxt-2_normal.jpg',\n",
       "    'profile_image_url_https': 'https://pbs.twimg.com/profile_images/1342746947682066433/qGkoxt-2_normal.jpg',\n",
       "    'profile_link_color': '19CF86',\n",
       "    'profile_sidebar_border_color': '000000',\n",
       "    'profile_sidebar_fill_color': '000000',\n",
       "    'profile_text_color': '000000',\n",
       "    'profile_use_background_image': False,\n",
       "    'protected': False,\n",
       "    'screen_name': 'chicksoonding',\n",
       "    'statuses_count': 2590,\n",
       "    'time_zone': None,\n",
       "    'translator_type': 'none',\n",
       "    'url': 'https://t.co/MUVMY4obZ7',\n",
       "    'utc_offset': None,\n",
       "    'verified': False}}]}"
      ]
     },
     "execution_count": 6,
     "metadata": {
      "tags": []
     },
     "output_type": "execute_result"
    }
   ],
   "source": [
    "location = '14.557894946251661,121.04647475317041,10mi'\n",
    "keyword = 'covid'\n",
    "api = tw.API(auth, parser=tw.parsers.JSONParser())\n",
    "tweets = api.search(q=keyword, geocode=location, count=2, exclude_rts=True)\n",
    "tweets"
   ]
  },
  {
   "cell_type": "code",
   "execution_count": null,
   "metadata": {
    "colab": {
     "base_uri": "https://localhost:8080/"
    },
    "id": "DK8zQOwCGQuY",
    "outputId": "0a4de14a-4410-4e91-99c2-0ef301a3ceac"
   },
   "outputs": [
    {
     "data": {
      "text/plain": [
       "{'contributors': None,\n",
       " 'coordinates': None,\n",
       " 'created_at': 'Mon Jan 11 12:12:45 +0000 2021',\n",
       " 'entities': {'hashtags': [],\n",
       "  'symbols': [],\n",
       "  'urls': [],\n",
       "  'user_mentions': [{'id': 30162431,\n",
       "    'id_str': '30162431',\n",
       "    'indices': [3, 13],\n",
       "    'name': 'Vico Sotto',\n",
       "    'screen_name': 'VicoSotto'}]},\n",
       " 'favorite_count': 0,\n",
       " 'favorited': False,\n",
       " 'geo': None,\n",
       " 'id': 1348603754912706560,\n",
       " 'id_str': '1348603754912706560',\n",
       " 'in_reply_to_screen_name': None,\n",
       " 'in_reply_to_status_id': None,\n",
       " 'in_reply_to_status_id_str': None,\n",
       " 'in_reply_to_user_id': None,\n",
       " 'in_reply_to_user_id_str': None,\n",
       " 'is_quote_status': False,\n",
       " 'lang': 'en',\n",
       " 'metadata': {'iso_language_code': 'en', 'result_type': 'recent'},\n",
       " 'place': None,\n",
       " 'retweet_count': 534,\n",
       " 'retweeted': False,\n",
       " 'retweeted_status': {'contributors': None,\n",
       "  'coordinates': None,\n",
       "  'created_at': 'Sun Jan 10 22:55:40 +0000 2021',\n",
       "  'entities': {'hashtags': [],\n",
       "   'symbols': [],\n",
       "   'urls': [{'display_url': 'twitter.com/i/web/status/1…',\n",
       "     'expanded_url': 'https://twitter.com/i/web/status/1348403163158638592',\n",
       "     'indices': [117, 140],\n",
       "     'url': 'https://t.co/Dqc3AvCT6P'}],\n",
       "   'user_mentions': []},\n",
       "  'favorite_count': 4013,\n",
       "  'favorited': False,\n",
       "  'geo': None,\n",
       "  'id': 1348403163158638592,\n",
       "  'id_str': '1348403163158638592',\n",
       "  'in_reply_to_screen_name': None,\n",
       "  'in_reply_to_status_id': None,\n",
       "  'in_reply_to_status_id_str': None,\n",
       "  'in_reply_to_user_id': None,\n",
       "  'in_reply_to_user_id_str': None,\n",
       "  'is_quote_status': False,\n",
       "  'lang': 'en',\n",
       "  'metadata': {'iso_language_code': 'en', 'result_type': 'recent'},\n",
       "  'place': None,\n",
       "  'possibly_sensitive': False,\n",
       "  'retweet_count': 534,\n",
       "  'retweeted': False,\n",
       "  'source': '<a href=\"http://twitter.com/download/android\" rel=\"nofollow\">Twitter for Android</a>',\n",
       "  'text': 'Many of us LGUs signed a tripartite agreement with AstraZeneca and the national govt yesterday.\\n\\nPasig ordered 400K… https://t.co/Dqc3AvCT6P',\n",
       "  'truncated': True,\n",
       "  'user': {'contributors_enabled': False,\n",
       "   'created_at': 'Fri Apr 10 04:39:37 +0000 2009',\n",
       "   'default_profile': False,\n",
       "   'default_profile_image': False,\n",
       "   'description': 'Contact us: vicosotto @ outlook. com',\n",
       "   'entities': {'description': {'urls': []},\n",
       "    'url': {'urls': [{'display_url': 'instagram.com/VicoSotto',\n",
       "       'expanded_url': 'http://instagram.com/VicoSotto',\n",
       "       'indices': [0, 23],\n",
       "       'url': 'https://t.co/dtuFBFcxuA'}]}},\n",
       "   'favourites_count': 4748,\n",
       "   'follow_request_sent': False,\n",
       "   'followers_count': 1749002,\n",
       "   'following': True,\n",
       "   'friends_count': 394,\n",
       "   'geo_enabled': True,\n",
       "   'has_extended_profile': True,\n",
       "   'id': 30162431,\n",
       "   'id_str': '30162431',\n",
       "   'is_translation_enabled': False,\n",
       "   'is_translator': False,\n",
       "   'lang': None,\n",
       "   'listed_count': 241,\n",
       "   'location': 'Pasig City',\n",
       "   'name': 'Vico Sotto',\n",
       "   'notifications': False,\n",
       "   'profile_background_color': 'FFFFFF',\n",
       "   'profile_background_image_url': 'http://abs.twimg.com/images/themes/theme1/bg.png',\n",
       "   'profile_background_image_url_https': 'https://abs.twimg.com/images/themes/theme1/bg.png',\n",
       "   'profile_background_tile': False,\n",
       "   'profile_banner_url': 'https://pbs.twimg.com/profile_banners/30162431/1579774004',\n",
       "   'profile_image_url': 'http://pbs.twimg.com/profile_images/709766690477748224/Yj0P6i5g_normal.jpg',\n",
       "   'profile_image_url_https': 'https://pbs.twimg.com/profile_images/709766690477748224/Yj0P6i5g_normal.jpg',\n",
       "   'profile_link_color': '0018A8',\n",
       "   'profile_sidebar_border_color': '000000',\n",
       "   'profile_sidebar_fill_color': 'FFFFFF',\n",
       "   'profile_text_color': '000000',\n",
       "   'profile_use_background_image': False,\n",
       "   'protected': False,\n",
       "   'screen_name': 'VicoSotto',\n",
       "   'statuses_count': 3678,\n",
       "   'time_zone': None,\n",
       "   'translator_type': 'none',\n",
       "   'url': 'https://t.co/dtuFBFcxuA',\n",
       "   'utc_offset': None,\n",
       "   'verified': True}},\n",
       " 'source': '<a href=\"http://twitter.com/download/android\" rel=\"nofollow\">Twitter for Android</a>',\n",
       " 'text': 'RT @VicoSotto: Many of us LGUs signed a tripartite agreement with AstraZeneca and the national govt yesterday.\\n\\nPasig ordered 400K doses (*…',\n",
       " 'truncated': False,\n",
       " 'user': {'contributors_enabled': False,\n",
       "  'created_at': 'Tue Jun 09 11:09:20 +0000 2009',\n",
       "  'default_profile': False,\n",
       "  'default_profile_image': False,\n",
       "  'description': 'Books are the ultimate Dumpees: put them down and they’ll wait for you forever; pay attention to them and they always love you back.',\n",
       "  'entities': {'description': {'urls': []}},\n",
       "  'favourites_count': 520,\n",
       "  'follow_request_sent': False,\n",
       "  'followers_count': 76,\n",
       "  'following': False,\n",
       "  'friends_count': 143,\n",
       "  'geo_enabled': True,\n",
       "  'has_extended_profile': False,\n",
       "  'id': 45814190,\n",
       "  'id_str': '45814190',\n",
       "  'is_translation_enabled': False,\n",
       "  'is_translator': False,\n",
       "  'lang': None,\n",
       "  'listed_count': 1,\n",
       "  'location': 'Lungsod ng Cagayan de Oro, Reh',\n",
       "  'name': 'Leon',\n",
       "  'notifications': False,\n",
       "  'profile_background_color': 'FFFFFF',\n",
       "  'profile_background_image_url': 'http://abs.twimg.com/images/themes/theme2/bg.gif',\n",
       "  'profile_background_image_url_https': 'https://abs.twimg.com/images/themes/theme2/bg.gif',\n",
       "  'profile_background_tile': True,\n",
       "  'profile_banner_url': 'https://pbs.twimg.com/profile_banners/45814190/1496661414',\n",
       "  'profile_image_url': 'http://pbs.twimg.com/profile_images/378800000585856398/db0e8ef70077c66353a3766566c5429d_normal.jpeg',\n",
       "  'profile_image_url_https': 'https://pbs.twimg.com/profile_images/378800000585856398/db0e8ef70077c66353a3766566c5429d_normal.jpeg',\n",
       "  'profile_link_color': 'F5ABB5',\n",
       "  'profile_sidebar_border_color': 'FFFFFF',\n",
       "  'profile_sidebar_fill_color': 'FFFFFF',\n",
       "  'profile_text_color': '000000',\n",
       "  'profile_use_background_image': True,\n",
       "  'protected': False,\n",
       "  'screen_name': 'lmlp08',\n",
       "  'statuses_count': 7670,\n",
       "  'time_zone': None,\n",
       "  'translator_type': 'none',\n",
       "  'url': None,\n",
       "  'utc_offset': None,\n",
       "  'verified': False}}"
      ]
     },
     "execution_count": 7,
     "metadata": {
      "tags": []
     },
     "output_type": "execute_result"
    }
   ],
   "source": [
    "tweets['statuses'][0]"
   ]
  },
  {
   "cell_type": "markdown",
   "metadata": {
    "id": "0lFHwMA9Gcsz"
   },
   "source": [
    "# **Define Helper Functions**\n",
    "\n",
    "Based on the above JSON returned, I can now extract the relevant data that I need. Note that when the scraped JSON data was investigated, the statuses had fields that are\n",
    "* descriptive of the tweet itself\n",
    "* descriptive of the user who tweeted or retweeted the tweet\n",
    "\n",
    "When creating the ```DataFrame``` below, I am interested in the **key-value pairs describing the tweet itself**. Observer below that these keys have values that are neither **list nor dict** which I can use (maybe)."
   ]
  },
  {
   "cell_type": "markdown",
   "metadata": {
    "id": "cdA29bXsGyVb"
   },
   "source": [
    "![image.png](data:image/png;base64,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)"
   ]
  },
  {
   "cell_type": "code",
   "execution_count": null,
   "metadata": {
    "id": "tAD3cCllFrAZ"
   },
   "outputs": [],
   "source": [
    "def data_extractor(tweet_data):\n",
    "  '''\n",
    "  One tweet data is referring to one tweet from the ['statuses'] in the returned JSON.\n",
    "  This function creates a dataframe representation of the tweet description PER TWEET.\n",
    "  '''\n",
    "  # Extract keys with values neither list nor dict (these are tweet descriptors)\n",
    "  relevant_keys = [key for key in tweet_data.keys() if type(tweet_data[key]) not in [list, dict]]\n",
    "  # Extract values from the dict using the list of keys\n",
    "  vals = [tweet_data.get(key) for key in relevant_keys]\n",
    "  # Create dictionary out of the two lists\n",
    "  tweet_dict = dict(zip(relevant_keys, vals))\n",
    "\n",
    "  # return pd.DataFrame(tweet_dict, index=[0])\n",
    "  return tweet_dict"
   ]
  },
  {
   "cell_type": "code",
   "execution_count": null,
   "metadata": {
    "id": "gksFDJA5G96_"
   },
   "outputs": [],
   "source": [
    "def tweet_scraper(location, keyword, exclude):\n",
    "  '''\n",
    "  Function that returns a DataFrame already for every location and keyword specified.\n",
    "  '''\n",
    "  api = tw.API(auth, parser=tw.parsers.JSONParser())\n",
    "  tweets = api.search(q=keyword, geocode=location, exclude_rts=exclude)\n",
    "  tweets = tweets['statuses']\n",
    "\n",
    "  scraped_df = pd.DataFrame([data_extractor(tweet) for tweet in tweets])\n",
    "\n",
    "  return scraped_df"
   ]
  },
  {
   "cell_type": "code",
   "execution_count": null,
   "metadata": {
    "id": "xc3Hsls6HUPV"
   },
   "outputs": [],
   "source": [
    "def scrape_by_loc_v3(place, place_idx, out_path):\n",
    "  '''\n",
    "  INPUT: DataFrame of locations\n",
    "  OUTPUT:\n",
    "  - List of index with empty scraped tweets\n",
    "  - DataFrame of scraped tweets PER LOCATION\n",
    "  '''\n",
    "\n",
    "  # location = f'{place.geometry.y},{place.geometry.x},{place.radius/1000}km'\n",
    "  location = f'{place.geometry.y},{place.geometry.x},2km'\n",
    "  tweets_per_loc_df = tweet_scraper(location=location, keyword='covid', exclude=True)\n",
    "\n",
    "  if not tweets_per_loc_df.empty:\n",
    "    tweets_per_loc_df['location_id'] = place_idx\n",
    "    filename = place['NAME_3'] + '_tweets.csv'\n",
    "    tweets_per_loc_df.to_csv(os.path.join(out_path, filename), index=False)\n",
    "\n",
    "  print(f'Scraped tweets are saved in a dataframe in {out_path}')\n",
    "\n",
    "  return tweets_per_loc_df"
   ]
  },
  {
   "cell_type": "markdown",
   "metadata": {
    "id": "P4_dE6M6Hnfh"
   },
   "source": [
    "# **Implementation**"
   ]
  },
  {
   "cell_type": "code",
   "execution_count": null,
   "metadata": {
    "colab": {
     "base_uri": "https://localhost:8080/",
     "height": 52
    },
    "id": "Y2RDZvu9Hjq8",
    "outputId": "c10f5a66-1597-415b-fe38-77d15f959205"
   },
   "outputs": [
    {
     "data": {
      "application/vnd.google.colaboratory.intrinsic+json": {
       "type": "string"
      },
      "text/plain": [
       "'/content/drive/MyDrive/Startups/Project Sentinellium/1. Departments/Data Scientists/1. Datasets/NLP Datasets/0. Sample Location-Based Scraped Tweets/Full NCR - Past 1 Week/ncr_scraped_tweets_full_Jan11.csv'"
      ]
     },
     "execution_count": 4,
     "metadata": {
      "tags": []
     },
     "output_type": "execute_result"
    }
   ],
   "source": [
    "output_path = '/content/drive/MyDrive/Startups/Project Sentinellium/1. Departments/Data Scientists/1. Datasets/NLP Datasets/0. Sample Location-Based Scraped Tweets/Full NCR - Past 1 Week'\n",
    "output_file = 'ncr_scraped_tweets_full_Jan11.csv'\n",
    "\n",
    "os.path.join(output_path, output_file)"
   ]
  },
  {
   "cell_type": "code",
   "execution_count": null,
   "metadata": {
    "colab": {
     "base_uri": "https://localhost:8080/",
     "height": 785
    },
    "id": "IXxhMzTkHtrX",
    "outputId": "eb0319ef-9ca5-4db1-8751-dafb5988290f"
   },
   "outputs": [
    {
     "name": "stderr",
     "output_type": "stream",
     "text": [
      "179it [00:36,  6.73it/s]"
     ]
    },
    {
     "name": "stdout",
     "output_type": "stream",
     "text": [
      "[{'message': 'Rate limit exceeded', 'code': 88}]\n"
     ]
    },
    {
     "name": "stderr",
     "output_type": "stream",
     "text": [
      "360it [16:28,  2.83it/s]"
     ]
    },
    {
     "name": "stdout",
     "output_type": "stream",
     "text": [
      "[{'message': 'Rate limit exceeded', 'code': 88}]\n"
     ]
    },
    {
     "name": "stderr",
     "output_type": "stream",
     "text": [
      "541it [32:16,  3.93it/s]"
     ]
    },
    {
     "name": "stdout",
     "output_type": "stream",
     "text": [
      "[{'message': 'Rate limit exceeded', 'code': 88}]\n"
     ]
    },
    {
     "name": "stderr",
     "output_type": "stream",
     "text": [
      "722it [48:14,  3.02it/s]"
     ]
    },
    {
     "name": "stdout",
     "output_type": "stream",
     "text": [
      "[{'message': 'Rate limit exceeded', 'code': 88}]\n"
     ]
    },
    {
     "name": "stderr",
     "output_type": "stream",
     "text": [
      "903it [1:04:10,  3.36it/s]"
     ]
    },
    {
     "name": "stdout",
     "output_type": "stream",
     "text": [
      "[{'message': 'Rate limit exceeded', 'code': 88}]\n"
     ]
    },
    {
     "name": "stderr",
     "output_type": "stream",
     "text": [
      "1084it [1:20:10,  4.04it/s]"
     ]
    },
    {
     "name": "stdout",
     "output_type": "stream",
     "text": [
      "[{'message': 'Rate limit exceeded', 'code': 88}]\n"
     ]
    },
    {
     "name": "stderr",
     "output_type": "stream",
     "text": [
      "1265it [1:36:08,  3.95it/s]"
     ]
    },
    {
     "name": "stdout",
     "output_type": "stream",
     "text": [
      "[{'message': 'Rate limit exceeded', 'code': 88}]\n"
     ]
    },
    {
     "name": "stderr",
     "output_type": "stream",
     "text": [
      "1446it [1:52:03,  3.18it/s]"
     ]
    },
    {
     "name": "stdout",
     "output_type": "stream",
     "text": [
      "[{'message': 'Rate limit exceeded', 'code': 88}]\n"
     ]
    },
    {
     "name": "stderr",
     "output_type": "stream",
     "text": [
      "1627it [2:07:57,  2.91it/s]"
     ]
    },
    {
     "name": "stdout",
     "output_type": "stream",
     "text": [
      "[{'message': 'Rate limit exceeded', 'code': 88}]\n"
     ]
    },
    {
     "name": "stderr",
     "output_type": "stream",
     "text": [
      "1691it [2:23:26,  5.09s/it]"
     ]
    },
    {
     "name": "stdout",
     "output_type": "stream",
     "text": [
      "Saved successfully!\n",
      "[[{'index': 76, 'brgy_name': 'Barangay 1'}], [{'index': 77, 'brgy_name': 'Barangay 10'}], [{'index': 78, 'brgy_name': 'Barangay 100'}], [{'index': 79, 'brgy_name': 'Barangay 101'}], [{'index': 80, 'brgy_name': 'Barangay 102'}], [{'index': 81, 'brgy_name': 'Barangay 103'}], [{'index': 82, 'brgy_name': 'Barangay 104'}], [{'index': 83, 'brgy_name': 'Barangay 105'}], [{'index': 84, 'brgy_name': 'Barangay 106'}], [{'index': 85, 'brgy_name': 'Barangay 107'}], [{'index': 86, 'brgy_name': 'Barangay 108'}], [{'index': 87, 'brgy_name': 'Barangay 109'}], [{'index': 88, 'brgy_name': 'Barangay 11'}], [{'index': 89, 'brgy_name': 'Barangay 110'}], [{'index': 90, 'brgy_name': 'Barangay 111'}], [{'index': 91, 'brgy_name': 'Barangay 112'}], [{'index': 92, 'brgy_name': 'Barangay 113'}], [{'index': 93, 'brgy_name': 'Barangay 114'}], [{'index': 94, 'brgy_name': 'Barangay 115'}], [{'index': 95, 'brgy_name': 'Barangay 116'}], [{'index': 96, 'brgy_name': 'Barangay 117'}], [{'index': 97, 'brgy_name': 'Barangay 118'}], [{'index': 98, 'brgy_name': 'Barangay 119'}], [{'index': 99, 'brgy_name': 'Barangay 12'}], [{'index': 100, 'brgy_name': 'Barangay 120'}], [{'index': 101, 'brgy_name': 'Barangay 121'}], [{'index': 102, 'brgy_name': 'Barangay 122'}], [{'index': 103, 'brgy_name': 'Barangay 123'}], [{'index': 104, 'brgy_name': 'Barangay 124'}], [{'index': 105, 'brgy_name': 'Barangay 125'}], [{'index': 106, 'brgy_name': 'Barangay 126'}], [{'index': 107, 'brgy_name': 'Barangay 127'}], [{'index': 108, 'brgy_name': 'Barangay 128'}], [{'index': 109, 'brgy_name': 'Barangay 129'}], [{'index': 110, 'brgy_name': 'Barangay 13'}], [{'index': 113, 'brgy_name': 'Barangay 132'}], [{'index': 114, 'brgy_name': 'Barangay 133'}], [{'index': 115, 'brgy_name': 'Barangay 134'}], [{'index': 116, 'brgy_name': 'Barangay 135'}], [{'index': 117, 'brgy_name': 'Barangay 136'}], [{'index': 118, 'brgy_name': 'Barangay 137'}], [{'index': 119, 'brgy_name': 'Barangay 138'}], [{'index': 120, 'brgy_name': 'Barangay 139'}], [{'index': 121, 'brgy_name': 'Barangay 14'}], [{'index': 122, 'brgy_name': 'Barangay 140'}], [{'index': 123, 'brgy_name': 'Barangay 141'}], [{'index': 124, 'brgy_name': 'Barangay 142'}], [{'index': 125, 'brgy_name': 'Barangay 143'}], [{'index': 126, 'brgy_name': 'Barangay 144'}], [{'index': 127, 'brgy_name': 'Barangay 145'}], [{'index': 128, 'brgy_name': 'Barangay 146'}], [{'index': 129, 'brgy_name': 'Barangay 147'}], [{'index': 130, 'brgy_name': 'Barangay 148'}], [{'index': 131, 'brgy_name': 'Barangay 149'}], [{'index': 132, 'brgy_name': 'Barangay 15'}], [{'index': 133, 'brgy_name': 'Barangay 150'}], [{'index': 134, 'brgy_name': 'Barangay 151'}], [{'index': 135, 'brgy_name': 'Barangay 152'}], [{'index': 136, 'brgy_name': 'Barangay 153'}], [{'index': 137, 'brgy_name': 'Barangay 154'}], [{'index': 138, 'brgy_name': 'Barangay 155'}], [{'index': 139, 'brgy_name': 'Barangay 156'}], [{'index': 140, 'brgy_name': 'Barangay 157'}], [{'index': 141, 'brgy_name': 'Barangay 158'}], [{'index': 142, 'brgy_name': 'Barangay 159'}], [{'index': 143, 'brgy_name': 'Barangay 16'}], [{'index': 144, 'brgy_name': 'Barangay 160'}], [{'index': 145, 'brgy_name': 'Barangay 161'}], [{'index': 146, 'brgy_name': 'Barangay 162'}], [{'index': 151, 'brgy_name': 'Barangay 167'}], [{'index': 152, 'brgy_name': 'Barangay 168'}], [{'index': 153, 'brgy_name': 'Barangay 169'}], [{'index': 154, 'brgy_name': 'Barangay 17'}], [{'index': 155, 'brgy_name': 'Barangay 170'}], [{'index': 156, 'brgy_name': 'Barangay 171'}], [{'index': 157, 'brgy_name': 'Barangay 172'}], [{'index': 158, 'brgy_name': 'Barangay 173'}], [{'index': 159, 'brgy_name': 'Barangay 174'}], [{'index': 160, 'brgy_name': 'Barangay 175'}], [{'index': 161, 'brgy_name': 'Barangay 176'}], [{'index': 162, 'brgy_name': 'Barangay 177'}], [{'index': 163, 'brgy_name': 'Barangay 178'}], [{'index': 164, 'brgy_name': 'Barangay 179'}], [{'index': 165, 'brgy_name': 'Barangay 18'}], [{'index': 166, 'brgy_name': 'Barangay 180'}], [{'index': 167, 'brgy_name': 'Barangay 181'}], [{'index': 168, 'brgy_name': 'Barangay 182'}], [{'index': 169, 'brgy_name': 'Barangay 183'}], [{'index': 170, 'brgy_name': 'Barangay 184'}], [{'index': 171, 'brgy_name': 'Barangay 185'}], [{'index': 172, 'brgy_name': 'Barangay 186'}], [{'index': 173, 'brgy_name': 'Barangay 187'}], [{'index': 174, 'brgy_name': 'Barangay 188'}], [{'index': 175, 'brgy_name': 'Barangay 19'}], [{'index': 176, 'brgy_name': 'Barangay 2'}], [{'index': 177, 'brgy_name': 'Barangay 20'}], [{'index': 178, 'brgy_name': 'Barangay 21'}], [{'index': 180, 'brgy_name': 'Barangay 23'}], [{'index': 181, 'brgy_name': 'Barangay 24'}], [{'index': 182, 'brgy_name': 'Barangay 25'}], [{'index': 183, 'brgy_name': 'Barangay 26'}], [{'index': 184, 'brgy_name': 'Barangay 27'}], [{'index': 185, 'brgy_name': 'Barangay 28'}], [{'index': 186, 'brgy_name': 'Barangay 29'}], [{'index': 187, 'brgy_name': 'Barangay 3'}], [{'index': 188, 'brgy_name': 'Barangay 30'}], [{'index': 189, 'brgy_name': 'Barangay 31'}], [{'index': 190, 'brgy_name': 'Barangay 32'}], [{'index': 191, 'brgy_name': 'Barangay 33'}], [{'index': 192, 'brgy_name': 'Barangay 34'}], [{'index': 193, 'brgy_name': 'Barangay 35'}], [{'index': 195, 'brgy_name': 'Barangay 37'}], [{'index': 196, 'brgy_name': 'Barangay 38'}], [{'index': 197, 'brgy_name': 'Barangay 39'}], [{'index': 198, 'brgy_name': 'Barangay 4'}], [{'index': 199, 'brgy_name': 'Barangay 40'}], [{'index': 200, 'brgy_name': 'Barangay 41'}], [{'index': 201, 'brgy_name': 'Barangay 42'}], [{'index': 202, 'brgy_name': 'Barangay 43'}], [{'index': 203, 'brgy_name': 'Barangay 44'}], [{'index': 204, 'brgy_name': 'Barangay 45'}], [{'index': 205, 'brgy_name': 'Barangay 46'}], [{'index': 206, 'brgy_name': 'Barangay 47'}], [{'index': 207, 'brgy_name': 'Barangay 48'}], [{'index': 208, 'brgy_name': 'Barangay 49'}], [{'index': 209, 'brgy_name': 'Barangay 5'}], [{'index': 210, 'brgy_name': 'Barangay 50'}], [{'index': 211, 'brgy_name': 'Barangay 51'}], [{'index': 212, 'brgy_name': 'Barangay 52'}], [{'index': 213, 'brgy_name': 'Barangay 53'}], [{'index': 214, 'brgy_name': 'Barangay 54'}], [{'index': 215, 'brgy_name': 'Barangay 55'}], [{'index': 216, 'brgy_name': 'Barangay 56'}], [{'index': 217, 'brgy_name': 'Barangay 57'}], [{'index': 218, 'brgy_name': 'Barangay 58'}], [{'index': 219, 'brgy_name': 'Barangay 59'}], [{'index': 220, 'brgy_name': 'Barangay 6'}], [{'index': 221, 'brgy_name': 'Barangay 60'}], [{'index': 222, 'brgy_name': 'Barangay 61'}], [{'index': 223, 'brgy_name': 'Barangay 62'}], [{'index': 224, 'brgy_name': 'Barangay 63'}], [{'index': 225, 'brgy_name': 'Barangay 64'}], [{'index': 226, 'brgy_name': 'Barangay 65'}], [{'index': 227, 'brgy_name': 'Barangay 66'}], [{'index': 228, 'brgy_name': 'Barangay 67'}], [{'index': 229, 'brgy_name': 'Barangay 68'}], [{'index': 230, 'brgy_name': 'Barangay 69'}], [{'index': 231, 'brgy_name': 'Barangay 7'}], [{'index': 232, 'brgy_name': 'Barangay 70'}], [{'index': 233, 'brgy_name': 'Barangay 71'}], [{'index': 234, 'brgy_name': 'Barangay 72'}], [{'index': 235, 'brgy_name': 'Barangay 73'}], [{'index': 236, 'brgy_name': 'Barangay 74'}], [{'index': 237, 'brgy_name': 'Barangay 75'}], [{'index': 238, 'brgy_name': 'Barangay 76'}], [{'index': 239, 'brgy_name': 'Barangay 77'}], [{'index': 240, 'brgy_name': 'Barangay 78'}], [{'index': 241, 'brgy_name': 'Barangay 79'}], [{'index': 242, 'brgy_name': 'Barangay 8'}], [{'index': 243, 'brgy_name': 'Barangay 80'}], [{'index': 244, 'brgy_name': 'Barangay 81'}], [{'index': 245, 'brgy_name': 'Barangay 82'}], [{'index': 246, 'brgy_name': 'Barangay 83'}], [{'index': 247, 'brgy_name': 'Barangay 84'}], [{'index': 248, 'brgy_name': 'Barangay 85'}], [{'index': 249, 'brgy_name': 'Barangay 86'}], [{'index': 250, 'brgy_name': 'Barangay 87'}], [{'index': 251, 'brgy_name': 'Barangay 88'}], [{'index': 252, 'brgy_name': 'Barangay 89'}], [{'index': 253, 'brgy_name': 'Barangay 9'}], [{'index': 254, 'brgy_name': 'Barangay 90'}], [{'index': 255, 'brgy_name': 'Barangay 91'}], [{'index': 256, 'brgy_name': 'Barangay 92'}], [{'index': 257, 'brgy_name': 'Barangay 93'}], [{'index': 258, 'brgy_name': 'Barangay 94'}], [{'index': 259, 'brgy_name': 'Barangay 95'}], [{'index': 260, 'brgy_name': 'Barangay 96'}], [{'index': 261, 'brgy_name': 'Barangay 97'}], [{'index': 262, 'brgy_name': 'Barangay 98'}], [{'index': 263, 'brgy_name': 'Barangay 99'}], [{'index': 276, 'brgy_name': 'Pilar'}], [{'index': 317, 'brgy_name': 'Acacia'}], [{'index': 326, 'brgy_name': 'Longos'}], [{'index': 330, 'brgy_name': 'Panghulo'}], [{'index': 331, 'brgy_name': 'Potrero'}], [{'index': 333, 'brgy_name': 'Tañong'}], [{'index': 334, 'brgy_name': 'Tinajeros'}], [{'index': 335, 'brgy_name': 'Tonsuya'}], [{'index': 336, 'brgy_name': 'Tugatog'}], [{'index': 366, 'brgy_name': 'Barangay 100'}], [{'index': 367, 'brgy_name': 'Barangay 101'}], [{'index': 368, 'brgy_name': 'Barangay 102'}], [{'index': 369, 'brgy_name': 'Barangay 103'}], [{'index': 370, 'brgy_name': 'Barangay 104'}], [{'index': 371, 'brgy_name': 'Barangay 105'}], [{'index': 372, 'brgy_name': 'Barangay 106'}], [{'index': 373, 'brgy_name': 'Barangay 107'}], [{'index': 374, 'brgy_name': 'Barangay 108'}], [{'index': 375, 'brgy_name': 'Barangay 109'}], [{'index': 377, 'brgy_name': 'Barangay 110'}], [{'index': 378, 'brgy_name': 'Barangay 111'}], [{'index': 379, 'brgy_name': 'Barangay 112'}], [{'index': 380, 'brgy_name': 'Barangay 116'}], [{'index': 381, 'brgy_name': 'Barangay 117'}], [{'index': 382, 'brgy_name': 'Barangay 118'}], [{'index': 383, 'brgy_name': 'Barangay 119'}], [{'index': 385, 'brgy_name': 'Barangay 120'}], [{'index': 386, 'brgy_name': 'Barangay 121'}], [{'index': 387, 'brgy_name': 'Barangay 122'}], [{'index': 388, 'brgy_name': 'Barangay 123'}], [{'index': 389, 'brgy_name': 'Barangay 124'}], [{'index': 391, 'brgy_name': 'Barangay 126'}], [{'index': 392, 'brgy_name': 'Barangay 127'}], [{'index': 393, 'brgy_name': 'Barangay 129'}], [{'index': 395, 'brgy_name': 'Barangay 130'}], [{'index': 398, 'brgy_name': 'Barangay 133'}], [{'index': 461, 'brgy_name': 'Barangay 190'}], [{'index': 462, 'brgy_name': 'Barangay 191'}], [{'index': 463, 'brgy_name': 'Barangay 192'}], [{'index': 734, 'brgy_name': 'Barangay 41'}], [{'index': 745, 'brgy_name': 'Barangay 42'}], [{'index': 756, 'brgy_name': 'Barangay 43'}], [{'index': 767, 'brgy_name': 'Barangay 44'}], [{'index': 789, 'brgy_name': 'Barangay 46'}], [{'index': 1063, 'brgy_name': 'Barangay 72'}], [{'index': 1074, 'brgy_name': 'Barangay 73'}], [{'index': 1180, 'brgy_name': 'Barangay 96'}], [{'index': 1181, 'brgy_name': 'Barangay 97'}], [{'index': 1182, 'brgy_name': 'Barangay 98'}], [{'index': 1183, 'brgy_name': 'Barangay 99'}], [{'index': 1186, 'brgy_name': 'Calumpang'}], [{'index': 1189, 'brgy_name': 'Industrial Valley'}], [{'index': 1195, 'brgy_name': 'San Roque'}], [{'index': 1201, 'brgy_name': 'Buli'}], [{'index': 1204, 'brgy_name': 'Poblacion'}], [{'index': 1206, 'brgy_name': 'Sucat'}], [{'index': 1207, 'brgy_name': 'Tunasan'}], [{'index': 1208, 'brgy_name': 'Bagumbayan North'}], [{'index': 1209, 'brgy_name': 'Bagumbayan South'}], [{'index': 1210, 'brgy_name': 'Bangculasi'}], [{'index': 1212, 'brgy_name': 'n.a.'}], [{'index': 1213, 'brgy_name': 'Navotas East'}], [{'index': 1214, 'brgy_name': 'North Bay Blvd., North'}], [{'index': 1215, 'brgy_name': 'North Bay Blvd., South'}], [{'index': 1217, 'brgy_name': 'San Rafael Village'}], [{'index': 1219, 'brgy_name': 'Sipac-Almacen'}], [{'index': 1225, 'brgy_name': 'Don Galo'}], [{'index': 1234, 'brgy_name': 'Santo Niño'}], [{'index': 1237, 'brgy_name': 'Vitalez'}], [{'index': 1343, 'brgy_name': 'Barangay 194'}], [{'index': 1345, 'brgy_name': 'Barangay 196'}], [{'index': 1347, 'brgy_name': 'Barangay 198'}], [{'index': 1348, 'brgy_name': 'Barangay 199'}], [{'index': 1351, 'brgy_name': 'Barangay 200'}], [{'index': 1480, 'brgy_name': 'Alicia'}], [{'index': 1481, 'brgy_name': 'Amihan'}], [{'index': 1482, 'brgy_name': 'Apolonio Samson'}], [{'index': 1484, 'brgy_name': 'Baesa'}], [{'index': 1487, 'brgy_name': 'Bagong Pag-Asa'}], [{'index': 1488, 'brgy_name': 'Bagong Silangan'}], [{'index': 1490, 'brgy_name': 'Bagumbuhay'}], [{'index': 1491, 'brgy_name': 'Bahay Toro'}], [{'index': 1492, 'brgy_name': 'Balingasa'}], [{'index': 1493, 'brgy_name': 'Balong Bato'}], [{'index': 1499, 'brgy_name': 'Bungad'}], [{'index': 1502, 'brgy_name': 'Central'}], [{'index': 1503, 'brgy_name': 'Claro'}], [{'index': 1504, 'brgy_name': 'Commonwealth'}], [{'index': 1507, 'brgy_name': 'Damar'}], [{'index': 1510, 'brgy_name': 'Del Monte'}], [{'index': 1515, 'brgy_name': 'Duyan-Duyan'}], [{'index': 1516, 'brgy_name': 'E. Rodriguez'}], [{'index': 1517, 'brgy_name': 'East Kamias'}], [{'index': 1518, 'brgy_name': 'Escopa I'}], [{'index': 1519, 'brgy_name': 'Escopa II'}], [{'index': 1520, 'brgy_name': 'Escopa III'}], [{'index': 1527, 'brgy_name': 'Kaligayahan'}], [{'index': 1530, 'brgy_name': 'Katipunan'}], [{'index': 1540, 'brgy_name': 'Mangga'}], [{'index': 1541, 'brgy_name': 'Manresa'}], [{'index': 1544, 'brgy_name': 'Marilag'}], [{'index': 1546, 'brgy_name': 'Masambong'}], [{'index': 1549, 'brgy_name': 'Milagrosa'}], [{'index': 1550, 'brgy_name': 'n.a.'}], [{'index': 1558, 'brgy_name': 'Pag-Ibig Sa Nayon'}], [{'index': 1560, 'brgy_name': 'Paltok'}], [{'index': 1563, 'brgy_name': 'Pasong Putik Proper'}], [{'index': 1565, 'brgy_name': 'Payatas'}], [{'index': 1566, 'brgy_name': 'Phil-Am'}], [{'index': 1568, 'brgy_name': 'Pinyahan'}], [{'index': 1569, 'brgy_name': 'Project 6'}], [{'index': 1570, 'brgy_name': 'Quirino 2-A'}], [{'index': 1571, 'brgy_name': 'Quirino 2-B'}], [{'index': 1573, 'brgy_name': 'Quirino 3-A'}], [{'index': 1574, 'brgy_name': 'Ramon Magsaysay'}], [{'index': 1581, 'brgy_name': 'San Antonio'}], [{'index': 1585, 'brgy_name': 'San Jose'}], [{'index': 1594, 'brgy_name': 'Santo Cristo'}], [{'index': 1600, 'brgy_name': 'Silangan'}], [{'index': 1603, 'brgy_name': 'Tagumpay'}], [{'index': 1613, 'brgy_name': 'Unang Sigaw'}], [{'index': 1615, 'brgy_name': 'Vasra'}], [{'index': 1616, 'brgy_name': 'Veterans Village'}], [{'index': 1618, 'brgy_name': 'West Kamias'}], [{'index': 1619, 'brgy_name': 'West Triangle'}], [{'index': 1641, 'brgy_name': 'Bagong Tanyag'}], [{'index': 1642, 'brgy_name': 'Bagumbayan'}], [{'index': 1643, 'brgy_name': 'Bambang'}], [{'index': 1662, 'brgy_name': 'Bignay'}], [{'index': 1667, 'brgy_name': 'Hen. T. de Leon'}], [{'index': 1669, 'brgy_name': 'Karuhatan'}], [{'index': 1670, 'brgy_name': 'Lawang Bato'}], [{'index': 1674, 'brgy_name': 'Malinta'}], [{'index': 1675, 'brgy_name': 'Mapulang Lupa'}], [{'index': 1676, 'brgy_name': 'Marulas'}], [{'index': 1679, 'brgy_name': 'Parada'}]]\n",
      "(7320, 25)\n"
     ]
    },
    {
     "name": "stderr",
     "output_type": "stream",
     "text": [
      "\n"
     ]
    },
    {
     "data": {
      "text/html": [
       "<div>\n",
       "<style scoped>\n",
       "    .dataframe tbody tr th:only-of-type {\n",
       "        vertical-align: middle;\n",
       "    }\n",
       "\n",
       "    .dataframe tbody tr th {\n",
       "        vertical-align: top;\n",
       "    }\n",
       "\n",
       "    .dataframe thead th {\n",
       "        text-align: right;\n",
       "    }\n",
       "</style>\n",
       "<table border=\"1\" class=\"dataframe\">\n",
       "  <thead>\n",
       "    <tr style=\"text-align: right;\">\n",
       "      <th></th>\n",
       "      <th>created_at</th>\n",
       "      <th>id</th>\n",
       "      <th>id_str</th>\n",
       "      <th>text</th>\n",
       "      <th>truncated</th>\n",
       "      <th>source</th>\n",
       "      <th>in_reply_to_status_id</th>\n",
       "      <th>in_reply_to_status_id_str</th>\n",
       "      <th>in_reply_to_user_id</th>\n",
       "      <th>in_reply_to_user_id_str</th>\n",
       "      <th>in_reply_to_screen_name</th>\n",
       "      <th>geo</th>\n",
       "      <th>coordinates</th>\n",
       "      <th>contributors</th>\n",
       "      <th>is_quote_status</th>\n",
       "      <th>retweet_count</th>\n",
       "      <th>favorite_count</th>\n",
       "      <th>favorited</th>\n",
       "      <th>retweeted</th>\n",
       "      <th>possibly_sensitive</th>\n",
       "      <th>lang</th>\n",
       "      <th>location_id</th>\n",
       "      <th>quoted_status_id</th>\n",
       "      <th>quoted_status_id_str</th>\n",
       "      <th>place</th>\n",
       "    </tr>\n",
       "  </thead>\n",
       "  <tbody>\n",
       "    <tr>\n",
       "      <th>0</th>\n",
       "      <td>Mon Jan 11 02:20:06 +0000 2021</td>\n",
       "      <td>1348454609472262144</td>\n",
       "      <td>1348454609472262144</td>\n",
       "      <td>Mayor Jerry Trenas representing The Iloilo Cit...</td>\n",
       "      <td>True</td>\n",
       "      <td>&lt;a href=\"http://twitter.com/download/android\" ...</td>\n",
       "      <td>None</td>\n",
       "      <td>None</td>\n",
       "      <td>None</td>\n",
       "      <td>None</td>\n",
       "      <td>None</td>\n",
       "      <td>None</td>\n",
       "      <td>None</td>\n",
       "      <td>None</td>\n",
       "      <td>False</td>\n",
       "      <td>1</td>\n",
       "      <td>4</td>\n",
       "      <td>False</td>\n",
       "      <td>False</td>\n",
       "      <td>False</td>\n",
       "      <td>en</td>\n",
       "      <td>0</td>\n",
       "      <td>NaN</td>\n",
       "      <td>NaN</td>\n",
       "      <td>NaN</td>\n",
       "    </tr>\n",
       "    <tr>\n",
       "      <th>1</th>\n",
       "      <td>Mon Jan 11 02:20:06 +0000 2021</td>\n",
       "      <td>1348454609472262144</td>\n",
       "      <td>1348454609472262144</td>\n",
       "      <td>Mayor Jerry Trenas representing The Iloilo Cit...</td>\n",
       "      <td>True</td>\n",
       "      <td>&lt;a href=\"http://twitter.com/download/android\" ...</td>\n",
       "      <td>None</td>\n",
       "      <td>None</td>\n",
       "      <td>None</td>\n",
       "      <td>None</td>\n",
       "      <td>None</td>\n",
       "      <td>None</td>\n",
       "      <td>None</td>\n",
       "      <td>None</td>\n",
       "      <td>False</td>\n",
       "      <td>1</td>\n",
       "      <td>4</td>\n",
       "      <td>False</td>\n",
       "      <td>False</td>\n",
       "      <td>False</td>\n",
       "      <td>en</td>\n",
       "      <td>1</td>\n",
       "      <td>NaN</td>\n",
       "      <td>NaN</td>\n",
       "      <td>NaN</td>\n",
       "    </tr>\n",
       "    <tr>\n",
       "      <th>2</th>\n",
       "      <td>Mon Jan 11 02:20:06 +0000 2021</td>\n",
       "      <td>1348454609472262144</td>\n",
       "      <td>1348454609472262144</td>\n",
       "      <td>Mayor Jerry Trenas representing The Iloilo Cit...</td>\n",
       "      <td>True</td>\n",
       "      <td>&lt;a href=\"http://twitter.com/download/android\" ...</td>\n",
       "      <td>None</td>\n",
       "      <td>None</td>\n",
       "      <td>None</td>\n",
       "      <td>None</td>\n",
       "      <td>None</td>\n",
       "      <td>None</td>\n",
       "      <td>None</td>\n",
       "      <td>None</td>\n",
       "      <td>False</td>\n",
       "      <td>1</td>\n",
       "      <td>4</td>\n",
       "      <td>False</td>\n",
       "      <td>False</td>\n",
       "      <td>False</td>\n",
       "      <td>en</td>\n",
       "      <td>2</td>\n",
       "      <td>NaN</td>\n",
       "      <td>NaN</td>\n",
       "      <td>NaN</td>\n",
       "    </tr>\n",
       "    <tr>\n",
       "      <th>3</th>\n",
       "      <td>Mon Jan 11 02:20:06 +0000 2021</td>\n",
       "      <td>1348454609472262144</td>\n",
       "      <td>1348454609472262144</td>\n",
       "      <td>Mayor Jerry Trenas representing The Iloilo Cit...</td>\n",
       "      <td>True</td>\n",
       "      <td>&lt;a href=\"http://twitter.com/download/android\" ...</td>\n",
       "      <td>None</td>\n",
       "      <td>None</td>\n",
       "      <td>None</td>\n",
       "      <td>None</td>\n",
       "      <td>None</td>\n",
       "      <td>None</td>\n",
       "      <td>None</td>\n",
       "      <td>None</td>\n",
       "      <td>False</td>\n",
       "      <td>1</td>\n",
       "      <td>4</td>\n",
       "      <td>False</td>\n",
       "      <td>False</td>\n",
       "      <td>False</td>\n",
       "      <td>en</td>\n",
       "      <td>3</td>\n",
       "      <td>NaN</td>\n",
       "      <td>NaN</td>\n",
       "      <td>NaN</td>\n",
       "    </tr>\n",
       "    <tr>\n",
       "      <th>4</th>\n",
       "      <td>Mon Jan 11 02:20:06 +0000 2021</td>\n",
       "      <td>1348454609472262144</td>\n",
       "      <td>1348454609472262144</td>\n",
       "      <td>Mayor Jerry Trenas representing The Iloilo Cit...</td>\n",
       "      <td>True</td>\n",
       "      <td>&lt;a href=\"http://twitter.com/download/android\" ...</td>\n",
       "      <td>None</td>\n",
       "      <td>None</td>\n",
       "      <td>None</td>\n",
       "      <td>None</td>\n",
       "      <td>None</td>\n",
       "      <td>None</td>\n",
       "      <td>None</td>\n",
       "      <td>None</td>\n",
       "      <td>False</td>\n",
       "      <td>1</td>\n",
       "      <td>4</td>\n",
       "      <td>False</td>\n",
       "      <td>False</td>\n",
       "      <td>False</td>\n",
       "      <td>en</td>\n",
       "      <td>4</td>\n",
       "      <td>NaN</td>\n",
       "      <td>NaN</td>\n",
       "      <td>NaN</td>\n",
       "    </tr>\n",
       "  </tbody>\n",
       "</table>\n",
       "</div>"
      ],
      "text/plain": [
       "                       created_at  ...  place\n",
       "0  Mon Jan 11 02:20:06 +0000 2021  ...    NaN\n",
       "1  Mon Jan 11 02:20:06 +0000 2021  ...    NaN\n",
       "2  Mon Jan 11 02:20:06 +0000 2021  ...    NaN\n",
       "3  Mon Jan 11 02:20:06 +0000 2021  ...    NaN\n",
       "4  Mon Jan 11 02:20:06 +0000 2021  ...    NaN\n",
       "\n",
       "[5 rows x 25 columns]"
      ]
     },
     "execution_count": 14,
     "metadata": {
      "tags": []
     },
     "output_type": "execute_result"
    }
   ],
   "source": [
    "scraped_df = pd.DataFrame()\n",
    "empty_locs = []\n",
    "\n",
    "for idx, row in tqdm(loc_gdf.iterrows()):\n",
    "  try:\n",
    "    loc_tweets_df = scrape_by_loc_v3(place=row,\n",
    "                                     place_idx=idx,\n",
    "                                     out_path=output_path)\n",
    "    \n",
    "    if loc_tweets_df.empty:\n",
    "      empty_locs.append([{'index':idx, 'brgy_name':row['NAME_3']}])\n",
    "    else:\n",
    "      scraped_df = pd.concat([scraped_df, loc_tweets_df], ignore_index=True)\n",
    "  except Exception as e:\n",
    "    print(e)\n",
    "    time.sleep(910)\n",
    "    continue\n",
    "\n",
    "scraped_df.to_csv(os.path.join(output_path, output_file), index=False)\n",
    "print('Saved successfully!')\n",
    "\n",
    "print(empty_locs)\n",
    "print(scraped_df.shape)\n",
    "scraped_df.head()"
   ]
  },
  {
   "cell_type": "markdown",
   "metadata": {
    "id": "bK9wHYuYHzKw"
   },
   "source": [
    "# **Saving Datasets**"
   ]
  },
  {
   "cell_type": "markdown",
   "metadata": {
    "id": "j2c1OmNOH42g"
   },
   "source": [
    "## **Saving the Empty Locations in JSON**"
   ]
  },
  {
   "cell_type": "code",
   "execution_count": null,
   "metadata": {
    "colab": {
     "base_uri": "https://localhost:8080/"
    },
    "id": "5oYLwjgaH0Rv",
    "outputId": "6d5c89a1-8d8d-4461-d953-86c4e4e78b56"
   },
   "outputs": [
    {
     "name": "stdout",
     "output_type": "stream",
     "text": [
      "JSON dump done!\n"
     ]
    }
   ],
   "source": [
    "import json\n",
    "\n",
    "output_path = '/content/drive/MyDrive/Startups/Project Sentinellium/1. Departments/Data Scientists/1. Datasets/NLP Datasets/0. Sample Location-Based Scraped Tweets/Full NCR - Past 1 Week'\n",
    "\n",
    "with open(os.path.join(output_path, 'empty_locs_Jan11.txt'), 'w') as outfile:\n",
    "  json.dump(empty_locs, outfile)\n",
    "\n",
    "print('JSON dump done!')"
   ]
  },
  {
   "cell_type": "markdown",
   "metadata": {
    "id": "KJoGV1YUH8Be"
   },
   "source": [
    "## **Merging Scraped Tweets with Location DataFrame**"
   ]
  },
  {
   "cell_type": "code",
   "execution_count": null,
   "metadata": {
    "colab": {
     "base_uri": "https://localhost:8080/",
     "height": 581
    },
    "id": "Xnj8Ksx3H05e",
    "outputId": "f740902d-3ee1-4f11-b2e3-26b6f4e0c14e"
   },
   "outputs": [
    {
     "name": "stdout",
     "output_type": "stream",
     "text": [
      "(7320, 42)\n"
     ]
    },
    {
     "data": {
      "text/html": [
       "<div>\n",
       "<style scoped>\n",
       "    .dataframe tbody tr th:only-of-type {\n",
       "        vertical-align: middle;\n",
       "    }\n",
       "\n",
       "    .dataframe tbody tr th {\n",
       "        vertical-align: top;\n",
       "    }\n",
       "\n",
       "    .dataframe thead th {\n",
       "        text-align: right;\n",
       "    }\n",
       "</style>\n",
       "<table border=\"1\" class=\"dataframe\">\n",
       "  <thead>\n",
       "    <tr style=\"text-align: right;\">\n",
       "      <th></th>\n",
       "      <th>created_at</th>\n",
       "      <th>id</th>\n",
       "      <th>id_str</th>\n",
       "      <th>text</th>\n",
       "      <th>truncated</th>\n",
       "      <th>source</th>\n",
       "      <th>in_reply_to_status_id</th>\n",
       "      <th>in_reply_to_status_id_str</th>\n",
       "      <th>in_reply_to_user_id</th>\n",
       "      <th>in_reply_to_user_id_str</th>\n",
       "      <th>in_reply_to_screen_name</th>\n",
       "      <th>geo</th>\n",
       "      <th>coordinates</th>\n",
       "      <th>contributors</th>\n",
       "      <th>is_quote_status</th>\n",
       "      <th>retweet_count</th>\n",
       "      <th>favorite_count</th>\n",
       "      <th>favorited</th>\n",
       "      <th>retweeted</th>\n",
       "      <th>possibly_sensitive</th>\n",
       "      <th>lang</th>\n",
       "      <th>location_id</th>\n",
       "      <th>quoted_status_id</th>\n",
       "      <th>quoted_status_id_str</th>\n",
       "      <th>place</th>\n",
       "      <th>ID_0</th>\n",
       "      <th>ISO</th>\n",
       "      <th>NAME_0</th>\n",
       "      <th>ID_1</th>\n",
       "      <th>NAME_1</th>\n",
       "      <th>ID_2</th>\n",
       "      <th>NAME_2</th>\n",
       "      <th>ID_3</th>\n",
       "      <th>NAME_3</th>\n",
       "      <th>NL_NAME_3</th>\n",
       "      <th>VARNAME_3</th>\n",
       "      <th>TYPE_3</th>\n",
       "      <th>ENGTYPE_3</th>\n",
       "      <th>PROVINCE</th>\n",
       "      <th>REGION</th>\n",
       "      <th>radius</th>\n",
       "      <th>geometry</th>\n",
       "    </tr>\n",
       "  </thead>\n",
       "  <tbody>\n",
       "    <tr>\n",
       "      <th>0</th>\n",
       "      <td>Mon Jan 11 02:20:06 +0000 2021</td>\n",
       "      <td>1348454609472262144</td>\n",
       "      <td>1348454609472262144</td>\n",
       "      <td>Mayor Jerry Trenas representing The Iloilo Cit...</td>\n",
       "      <td>True</td>\n",
       "      <td>&lt;a href=\"http://twitter.com/download/android\" ...</td>\n",
       "      <td>None</td>\n",
       "      <td>None</td>\n",
       "      <td>None</td>\n",
       "      <td>None</td>\n",
       "      <td>None</td>\n",
       "      <td>None</td>\n",
       "      <td>None</td>\n",
       "      <td>None</td>\n",
       "      <td>False</td>\n",
       "      <td>1</td>\n",
       "      <td>4</td>\n",
       "      <td>False</td>\n",
       "      <td>False</td>\n",
       "      <td>False</td>\n",
       "      <td>en</td>\n",
       "      <td>0</td>\n",
       "      <td>NaN</td>\n",
       "      <td>NaN</td>\n",
       "      <td>NaN</td>\n",
       "      <td>177</td>\n",
       "      <td>PHL</td>\n",
       "      <td>Philippines</td>\n",
       "      <td>47</td>\n",
       "      <td>Metropolitan Manila</td>\n",
       "      <td>955</td>\n",
       "      <td>Manila</td>\n",
       "      <td>25137</td>\n",
       "      <td>Barangay 744</td>\n",
       "      <td>None</td>\n",
       "      <td>None</td>\n",
       "      <td>Barangay</td>\n",
       "      <td>Village</td>\n",
       "      <td>Metropolitan Manila</td>\n",
       "      <td>Metropolitan Manila</td>\n",
       "      <td>216.282715</td>\n",
       "      <td>POINT (120.99399 14.57161)</td>\n",
       "    </tr>\n",
       "    <tr>\n",
       "      <th>1</th>\n",
       "      <td>Mon Jan 11 02:20:06 +0000 2021</td>\n",
       "      <td>1348454609472262144</td>\n",
       "      <td>1348454609472262144</td>\n",
       "      <td>Mayor Jerry Trenas representing The Iloilo Cit...</td>\n",
       "      <td>True</td>\n",
       "      <td>&lt;a href=\"http://twitter.com/download/android\" ...</td>\n",
       "      <td>None</td>\n",
       "      <td>None</td>\n",
       "      <td>None</td>\n",
       "      <td>None</td>\n",
       "      <td>None</td>\n",
       "      <td>None</td>\n",
       "      <td>None</td>\n",
       "      <td>None</td>\n",
       "      <td>False</td>\n",
       "      <td>1</td>\n",
       "      <td>4</td>\n",
       "      <td>False</td>\n",
       "      <td>False</td>\n",
       "      <td>False</td>\n",
       "      <td>en</td>\n",
       "      <td>1</td>\n",
       "      <td>NaN</td>\n",
       "      <td>NaN</td>\n",
       "      <td>NaN</td>\n",
       "      <td>177</td>\n",
       "      <td>PHL</td>\n",
       "      <td>Philippines</td>\n",
       "      <td>47</td>\n",
       "      <td>Metropolitan Manila</td>\n",
       "      <td>955</td>\n",
       "      <td>Manila</td>\n",
       "      <td>25138</td>\n",
       "      <td>Barangay 745</td>\n",
       "      <td>None</td>\n",
       "      <td>None</td>\n",
       "      <td>Barangay</td>\n",
       "      <td>Village</td>\n",
       "      <td>Metropolitan Manila</td>\n",
       "      <td>Metropolitan Manila</td>\n",
       "      <td>101.299290</td>\n",
       "      <td>POINT (120.99665 14.56931)</td>\n",
       "    </tr>\n",
       "    <tr>\n",
       "      <th>2</th>\n",
       "      <td>Mon Jan 11 02:20:06 +0000 2021</td>\n",
       "      <td>1348454609472262144</td>\n",
       "      <td>1348454609472262144</td>\n",
       "      <td>Mayor Jerry Trenas representing The Iloilo Cit...</td>\n",
       "      <td>True</td>\n",
       "      <td>&lt;a href=\"http://twitter.com/download/android\" ...</td>\n",
       "      <td>None</td>\n",
       "      <td>None</td>\n",
       "      <td>None</td>\n",
       "      <td>None</td>\n",
       "      <td>None</td>\n",
       "      <td>None</td>\n",
       "      <td>None</td>\n",
       "      <td>None</td>\n",
       "      <td>False</td>\n",
       "      <td>1</td>\n",
       "      <td>4</td>\n",
       "      <td>False</td>\n",
       "      <td>False</td>\n",
       "      <td>False</td>\n",
       "      <td>en</td>\n",
       "      <td>2</td>\n",
       "      <td>NaN</td>\n",
       "      <td>NaN</td>\n",
       "      <td>NaN</td>\n",
       "      <td>177</td>\n",
       "      <td>PHL</td>\n",
       "      <td>Philippines</td>\n",
       "      <td>47</td>\n",
       "      <td>Metropolitan Manila</td>\n",
       "      <td>955</td>\n",
       "      <td>Manila</td>\n",
       "      <td>25139</td>\n",
       "      <td>Barangay 746</td>\n",
       "      <td>None</td>\n",
       "      <td>None</td>\n",
       "      <td>Barangay</td>\n",
       "      <td>Village</td>\n",
       "      <td>Metropolitan Manila</td>\n",
       "      <td>Metropolitan Manila</td>\n",
       "      <td>168.911151</td>\n",
       "      <td>POINT (120.99682 14.56843)</td>\n",
       "    </tr>\n",
       "    <tr>\n",
       "      <th>3</th>\n",
       "      <td>Mon Jan 11 02:20:06 +0000 2021</td>\n",
       "      <td>1348454609472262144</td>\n",
       "      <td>1348454609472262144</td>\n",
       "      <td>Mayor Jerry Trenas representing The Iloilo Cit...</td>\n",
       "      <td>True</td>\n",
       "      <td>&lt;a href=\"http://twitter.com/download/android\" ...</td>\n",
       "      <td>None</td>\n",
       "      <td>None</td>\n",
       "      <td>None</td>\n",
       "      <td>None</td>\n",
       "      <td>None</td>\n",
       "      <td>None</td>\n",
       "      <td>None</td>\n",
       "      <td>None</td>\n",
       "      <td>False</td>\n",
       "      <td>1</td>\n",
       "      <td>4</td>\n",
       "      <td>False</td>\n",
       "      <td>False</td>\n",
       "      <td>False</td>\n",
       "      <td>en</td>\n",
       "      <td>3</td>\n",
       "      <td>NaN</td>\n",
       "      <td>NaN</td>\n",
       "      <td>NaN</td>\n",
       "      <td>177</td>\n",
       "      <td>PHL</td>\n",
       "      <td>Philippines</td>\n",
       "      <td>47</td>\n",
       "      <td>Metropolitan Manila</td>\n",
       "      <td>955</td>\n",
       "      <td>Manila</td>\n",
       "      <td>25140</td>\n",
       "      <td>Barangay 747</td>\n",
       "      <td>None</td>\n",
       "      <td>None</td>\n",
       "      <td>Barangay</td>\n",
       "      <td>Village</td>\n",
       "      <td>Metropolitan Manila</td>\n",
       "      <td>Metropolitan Manila</td>\n",
       "      <td>114.607434</td>\n",
       "      <td>POINT (120.99860 14.57137)</td>\n",
       "    </tr>\n",
       "    <tr>\n",
       "      <th>4</th>\n",
       "      <td>Mon Jan 11 02:20:06 +0000 2021</td>\n",
       "      <td>1348454609472262144</td>\n",
       "      <td>1348454609472262144</td>\n",
       "      <td>Mayor Jerry Trenas representing The Iloilo Cit...</td>\n",
       "      <td>True</td>\n",
       "      <td>&lt;a href=\"http://twitter.com/download/android\" ...</td>\n",
       "      <td>None</td>\n",
       "      <td>None</td>\n",
       "      <td>None</td>\n",
       "      <td>None</td>\n",
       "      <td>None</td>\n",
       "      <td>None</td>\n",
       "      <td>None</td>\n",
       "      <td>None</td>\n",
       "      <td>False</td>\n",
       "      <td>1</td>\n",
       "      <td>4</td>\n",
       "      <td>False</td>\n",
       "      <td>False</td>\n",
       "      <td>False</td>\n",
       "      <td>en</td>\n",
       "      <td>4</td>\n",
       "      <td>NaN</td>\n",
       "      <td>NaN</td>\n",
       "      <td>NaN</td>\n",
       "      <td>177</td>\n",
       "      <td>PHL</td>\n",
       "      <td>Philippines</td>\n",
       "      <td>47</td>\n",
       "      <td>Metropolitan Manila</td>\n",
       "      <td>955</td>\n",
       "      <td>Manila</td>\n",
       "      <td>25141</td>\n",
       "      <td>Barangay 748</td>\n",
       "      <td>None</td>\n",
       "      <td>None</td>\n",
       "      <td>Barangay</td>\n",
       "      <td>Village</td>\n",
       "      <td>Metropolitan Manila</td>\n",
       "      <td>Metropolitan Manila</td>\n",
       "      <td>190.229339</td>\n",
       "      <td>POINT (120.99827 14.57031)</td>\n",
       "    </tr>\n",
       "  </tbody>\n",
       "</table>\n",
       "</div>"
      ],
      "text/plain": [
       "                       created_at  ...                    geometry\n",
       "0  Mon Jan 11 02:20:06 +0000 2021  ...  POINT (120.99399 14.57161)\n",
       "1  Mon Jan 11 02:20:06 +0000 2021  ...  POINT (120.99665 14.56931)\n",
       "2  Mon Jan 11 02:20:06 +0000 2021  ...  POINT (120.99682 14.56843)\n",
       "3  Mon Jan 11 02:20:06 +0000 2021  ...  POINT (120.99860 14.57137)\n",
       "4  Mon Jan 11 02:20:06 +0000 2021  ...  POINT (120.99827 14.57031)\n",
       "\n",
       "[5 rows x 42 columns]"
      ]
     },
     "execution_count": 16,
     "metadata": {
      "tags": []
     },
     "output_type": "execute_result"
    }
   ],
   "source": [
    "loc_gdf['location_id'] = loc_gdf.index\n",
    "merged_df = scraped_df.merge(loc_gdf, how='inner', on='location_id')\n",
    "print(merged_df.shape)\n",
    "merged_df.head()"
   ]
  },
  {
   "cell_type": "markdown",
   "metadata": {
    "id": "s8vM5xxZIJD4"
   },
   "source": [
    "## **Save Scraped Tweets DataFrame as CSV**"
   ]
  },
  {
   "cell_type": "code",
   "execution_count": null,
   "metadata": {
    "colab": {
     "base_uri": "https://localhost:8080/"
    },
    "id": "rbwnY1OTIMt_",
    "outputId": "55626160-ea1d-4243-d512-457a5edff332"
   },
   "outputs": [
    {
     "name": "stdout",
     "output_type": "stream",
     "text": [
      "Done!\n"
     ]
    }
   ],
   "source": [
    "merged_df.to_csv(os.path.join(output_path, 'ncr_scraped_tweets_brgy_full_merged_Jan11.csv'), index=False)\n",
    "print('Done!')"
   ]
  },
  {
   "cell_type": "markdown",
   "metadata": {
    "id": "Xkqx-M7jwusF"
   },
   "source": [
    "# **Checking for Duplicates from Raw Scraped Tweets**\n",
    "\n",
    "In this section, I had to check what might have caused the **presence of large numbers of duplicated tweets**.\n",
    "\n",
    "Things to keep in mind:\n",
    "* the scraper is **for the entire Metro Manila**\n",
    "* we are only considered **the past 7 days**\n",
    "* we are only scraping tweets with the **keyword='covid'**\n",
    "\n",
    "Implications:\n",
    "* since entire NCR, there COULD be possibly a lot of tweets (with the Ph being the Twitter capital of the world)\n",
    "* however, since we are only considering the past 7 days and ONLY THOSE WITH COVID keyword in it, then it **might not be as huge as expected from a Twitter capital of the world** in a daily basis."
   ]
  },
  {
   "cell_type": "markdown",
   "metadata": {
    "id": "HAI0qwd87tuo"
   },
   "source": [
    "For simplicities sake, I just reloaded the saved scraped tweets as follows (note I did this investigation after the first saving the merged dataframe with location):"
   ]
  },
  {
   "cell_type": "code",
   "execution_count": null,
   "metadata": {
    "colab": {
     "base_uri": "https://localhost:8080/",
     "height": 581
    },
    "id": "JNBeWLso2Sx_",
    "outputId": "2fe4d247-ccaa-40f4-d9d2-26047913301a"
   },
   "outputs": [
    {
     "name": "stdout",
     "output_type": "stream",
     "text": [
      "(7320, 42)\n"
     ]
    },
    {
     "data": {
      "text/html": [
       "<div>\n",
       "<style scoped>\n",
       "    .dataframe tbody tr th:only-of-type {\n",
       "        vertical-align: middle;\n",
       "    }\n",
       "\n",
       "    .dataframe tbody tr th {\n",
       "        vertical-align: top;\n",
       "    }\n",
       "\n",
       "    .dataframe thead th {\n",
       "        text-align: right;\n",
       "    }\n",
       "</style>\n",
       "<table border=\"1\" class=\"dataframe\">\n",
       "  <thead>\n",
       "    <tr style=\"text-align: right;\">\n",
       "      <th></th>\n",
       "      <th>created_at</th>\n",
       "      <th>id</th>\n",
       "      <th>id_str</th>\n",
       "      <th>text</th>\n",
       "      <th>truncated</th>\n",
       "      <th>source</th>\n",
       "      <th>in_reply_to_status_id</th>\n",
       "      <th>in_reply_to_status_id_str</th>\n",
       "      <th>in_reply_to_user_id</th>\n",
       "      <th>in_reply_to_user_id_str</th>\n",
       "      <th>in_reply_to_screen_name</th>\n",
       "      <th>geo</th>\n",
       "      <th>coordinates</th>\n",
       "      <th>contributors</th>\n",
       "      <th>is_quote_status</th>\n",
       "      <th>retweet_count</th>\n",
       "      <th>favorite_count</th>\n",
       "      <th>favorited</th>\n",
       "      <th>retweeted</th>\n",
       "      <th>possibly_sensitive</th>\n",
       "      <th>lang</th>\n",
       "      <th>location_id</th>\n",
       "      <th>quoted_status_id</th>\n",
       "      <th>quoted_status_id_str</th>\n",
       "      <th>place</th>\n",
       "      <th>ID_0</th>\n",
       "      <th>ISO</th>\n",
       "      <th>NAME_0</th>\n",
       "      <th>ID_1</th>\n",
       "      <th>NAME_1</th>\n",
       "      <th>ID_2</th>\n",
       "      <th>NAME_2</th>\n",
       "      <th>ID_3</th>\n",
       "      <th>NAME_3</th>\n",
       "      <th>NL_NAME_3</th>\n",
       "      <th>VARNAME_3</th>\n",
       "      <th>TYPE_3</th>\n",
       "      <th>ENGTYPE_3</th>\n",
       "      <th>PROVINCE</th>\n",
       "      <th>REGION</th>\n",
       "      <th>radius</th>\n",
       "      <th>geometry</th>\n",
       "    </tr>\n",
       "  </thead>\n",
       "  <tbody>\n",
       "    <tr>\n",
       "      <th>0</th>\n",
       "      <td>Mon Jan 11 02:20:06 +0000 2021</td>\n",
       "      <td>1348454609472262144</td>\n",
       "      <td>1348454609472262144</td>\n",
       "      <td>Mayor Jerry Trenas representing The Iloilo Cit...</td>\n",
       "      <td>True</td>\n",
       "      <td>&lt;a href=\"http://twitter.com/download/android\" ...</td>\n",
       "      <td>NaN</td>\n",
       "      <td>NaN</td>\n",
       "      <td>NaN</td>\n",
       "      <td>NaN</td>\n",
       "      <td>NaN</td>\n",
       "      <td>NaN</td>\n",
       "      <td>NaN</td>\n",
       "      <td>NaN</td>\n",
       "      <td>False</td>\n",
       "      <td>1</td>\n",
       "      <td>4</td>\n",
       "      <td>False</td>\n",
       "      <td>False</td>\n",
       "      <td>False</td>\n",
       "      <td>en</td>\n",
       "      <td>0</td>\n",
       "      <td>NaN</td>\n",
       "      <td>NaN</td>\n",
       "      <td>NaN</td>\n",
       "      <td>177</td>\n",
       "      <td>PHL</td>\n",
       "      <td>Philippines</td>\n",
       "      <td>47</td>\n",
       "      <td>Metropolitan Manila</td>\n",
       "      <td>955</td>\n",
       "      <td>Manila</td>\n",
       "      <td>25137</td>\n",
       "      <td>Barangay 744</td>\n",
       "      <td>NaN</td>\n",
       "      <td>NaN</td>\n",
       "      <td>Barangay</td>\n",
       "      <td>Village</td>\n",
       "      <td>Metropolitan Manila</td>\n",
       "      <td>Metropolitan Manila</td>\n",
       "      <td>216.282715</td>\n",
       "      <td>POINT (120.9939878394376 14.57160524796298)</td>\n",
       "    </tr>\n",
       "    <tr>\n",
       "      <th>1</th>\n",
       "      <td>Mon Jan 11 02:20:06 +0000 2021</td>\n",
       "      <td>1348454609472262144</td>\n",
       "      <td>1348454609472262144</td>\n",
       "      <td>Mayor Jerry Trenas representing The Iloilo Cit...</td>\n",
       "      <td>True</td>\n",
       "      <td>&lt;a href=\"http://twitter.com/download/android\" ...</td>\n",
       "      <td>NaN</td>\n",
       "      <td>NaN</td>\n",
       "      <td>NaN</td>\n",
       "      <td>NaN</td>\n",
       "      <td>NaN</td>\n",
       "      <td>NaN</td>\n",
       "      <td>NaN</td>\n",
       "      <td>NaN</td>\n",
       "      <td>False</td>\n",
       "      <td>1</td>\n",
       "      <td>4</td>\n",
       "      <td>False</td>\n",
       "      <td>False</td>\n",
       "      <td>False</td>\n",
       "      <td>en</td>\n",
       "      <td>1</td>\n",
       "      <td>NaN</td>\n",
       "      <td>NaN</td>\n",
       "      <td>NaN</td>\n",
       "      <td>177</td>\n",
       "      <td>PHL</td>\n",
       "      <td>Philippines</td>\n",
       "      <td>47</td>\n",
       "      <td>Metropolitan Manila</td>\n",
       "      <td>955</td>\n",
       "      <td>Manila</td>\n",
       "      <td>25138</td>\n",
       "      <td>Barangay 745</td>\n",
       "      <td>NaN</td>\n",
       "      <td>NaN</td>\n",
       "      <td>Barangay</td>\n",
       "      <td>Village</td>\n",
       "      <td>Metropolitan Manila</td>\n",
       "      <td>Metropolitan Manila</td>\n",
       "      <td>101.299290</td>\n",
       "      <td>POINT (120.9966481196574 14.56931268262564)</td>\n",
       "    </tr>\n",
       "    <tr>\n",
       "      <th>2</th>\n",
       "      <td>Mon Jan 11 02:20:06 +0000 2021</td>\n",
       "      <td>1348454609472262144</td>\n",
       "      <td>1348454609472262144</td>\n",
       "      <td>Mayor Jerry Trenas representing The Iloilo Cit...</td>\n",
       "      <td>True</td>\n",
       "      <td>&lt;a href=\"http://twitter.com/download/android\" ...</td>\n",
       "      <td>NaN</td>\n",
       "      <td>NaN</td>\n",
       "      <td>NaN</td>\n",
       "      <td>NaN</td>\n",
       "      <td>NaN</td>\n",
       "      <td>NaN</td>\n",
       "      <td>NaN</td>\n",
       "      <td>NaN</td>\n",
       "      <td>False</td>\n",
       "      <td>1</td>\n",
       "      <td>4</td>\n",
       "      <td>False</td>\n",
       "      <td>False</td>\n",
       "      <td>False</td>\n",
       "      <td>en</td>\n",
       "      <td>2</td>\n",
       "      <td>NaN</td>\n",
       "      <td>NaN</td>\n",
       "      <td>NaN</td>\n",
       "      <td>177</td>\n",
       "      <td>PHL</td>\n",
       "      <td>Philippines</td>\n",
       "      <td>47</td>\n",
       "      <td>Metropolitan Manila</td>\n",
       "      <td>955</td>\n",
       "      <td>Manila</td>\n",
       "      <td>25139</td>\n",
       "      <td>Barangay 746</td>\n",
       "      <td>NaN</td>\n",
       "      <td>NaN</td>\n",
       "      <td>Barangay</td>\n",
       "      <td>Village</td>\n",
       "      <td>Metropolitan Manila</td>\n",
       "      <td>Metropolitan Manila</td>\n",
       "      <td>168.911151</td>\n",
       "      <td>POINT (120.9968164615776 14.56842705519975)</td>\n",
       "    </tr>\n",
       "    <tr>\n",
       "      <th>3</th>\n",
       "      <td>Mon Jan 11 02:20:06 +0000 2021</td>\n",
       "      <td>1348454609472262144</td>\n",
       "      <td>1348454609472262144</td>\n",
       "      <td>Mayor Jerry Trenas representing The Iloilo Cit...</td>\n",
       "      <td>True</td>\n",
       "      <td>&lt;a href=\"http://twitter.com/download/android\" ...</td>\n",
       "      <td>NaN</td>\n",
       "      <td>NaN</td>\n",
       "      <td>NaN</td>\n",
       "      <td>NaN</td>\n",
       "      <td>NaN</td>\n",
       "      <td>NaN</td>\n",
       "      <td>NaN</td>\n",
       "      <td>NaN</td>\n",
       "      <td>False</td>\n",
       "      <td>1</td>\n",
       "      <td>4</td>\n",
       "      <td>False</td>\n",
       "      <td>False</td>\n",
       "      <td>False</td>\n",
       "      <td>en</td>\n",
       "      <td>3</td>\n",
       "      <td>NaN</td>\n",
       "      <td>NaN</td>\n",
       "      <td>NaN</td>\n",
       "      <td>177</td>\n",
       "      <td>PHL</td>\n",
       "      <td>Philippines</td>\n",
       "      <td>47</td>\n",
       "      <td>Metropolitan Manila</td>\n",
       "      <td>955</td>\n",
       "      <td>Manila</td>\n",
       "      <td>25140</td>\n",
       "      <td>Barangay 747</td>\n",
       "      <td>NaN</td>\n",
       "      <td>NaN</td>\n",
       "      <td>Barangay</td>\n",
       "      <td>Village</td>\n",
       "      <td>Metropolitan Manila</td>\n",
       "      <td>Metropolitan Manila</td>\n",
       "      <td>114.607434</td>\n",
       "      <td>POINT (120.9986034954005 14.57136692129321)</td>\n",
       "    </tr>\n",
       "    <tr>\n",
       "      <th>4</th>\n",
       "      <td>Mon Jan 11 02:20:06 +0000 2021</td>\n",
       "      <td>1348454609472262144</td>\n",
       "      <td>1348454609472262144</td>\n",
       "      <td>Mayor Jerry Trenas representing The Iloilo Cit...</td>\n",
       "      <td>True</td>\n",
       "      <td>&lt;a href=\"http://twitter.com/download/android\" ...</td>\n",
       "      <td>NaN</td>\n",
       "      <td>NaN</td>\n",
       "      <td>NaN</td>\n",
       "      <td>NaN</td>\n",
       "      <td>NaN</td>\n",
       "      <td>NaN</td>\n",
       "      <td>NaN</td>\n",
       "      <td>NaN</td>\n",
       "      <td>False</td>\n",
       "      <td>1</td>\n",
       "      <td>4</td>\n",
       "      <td>False</td>\n",
       "      <td>False</td>\n",
       "      <td>False</td>\n",
       "      <td>en</td>\n",
       "      <td>4</td>\n",
       "      <td>NaN</td>\n",
       "      <td>NaN</td>\n",
       "      <td>NaN</td>\n",
       "      <td>177</td>\n",
       "      <td>PHL</td>\n",
       "      <td>Philippines</td>\n",
       "      <td>47</td>\n",
       "      <td>Metropolitan Manila</td>\n",
       "      <td>955</td>\n",
       "      <td>Manila</td>\n",
       "      <td>25141</td>\n",
       "      <td>Barangay 748</td>\n",
       "      <td>NaN</td>\n",
       "      <td>NaN</td>\n",
       "      <td>Barangay</td>\n",
       "      <td>Village</td>\n",
       "      <td>Metropolitan Manila</td>\n",
       "      <td>Metropolitan Manila</td>\n",
       "      <td>190.229339</td>\n",
       "      <td>POINT (120.9982716318935 14.57031470439275)</td>\n",
       "    </tr>\n",
       "  </tbody>\n",
       "</table>\n",
       "</div>"
      ],
      "text/plain": [
       "                       created_at  ...                                     geometry\n",
       "0  Mon Jan 11 02:20:06 +0000 2021  ...  POINT (120.9939878394376 14.57160524796298)\n",
       "1  Mon Jan 11 02:20:06 +0000 2021  ...  POINT (120.9966481196574 14.56931268262564)\n",
       "2  Mon Jan 11 02:20:06 +0000 2021  ...  POINT (120.9968164615776 14.56842705519975)\n",
       "3  Mon Jan 11 02:20:06 +0000 2021  ...  POINT (120.9986034954005 14.57136692129321)\n",
       "4  Mon Jan 11 02:20:06 +0000 2021  ...  POINT (120.9982716318935 14.57031470439275)\n",
       "\n",
       "[5 rows x 42 columns]"
      ]
     },
     "execution_count": 25,
     "metadata": {
      "tags": []
     },
     "output_type": "execute_result"
    }
   ],
   "source": [
    "file = '/content/drive/MyDrive/Startups/Project Sentinellium/1. Departments/Data Scientists/1. Datasets/NLP Datasets/0. Sample Location-Based Scraped Tweets/Full NCR - Past 1 Week/ncr_scraped_tweets_brgy_full_merged_Jan11.csv'\n",
    "\n",
    "scraped_df_reloaded = pd.read_csv(file)\n",
    "print(scraped_df_reloaded.shape)\n",
    "scraped_df_reloaded.head()"
   ]
  },
  {
   "cell_type": "code",
   "execution_count": null,
   "metadata": {
    "colab": {
     "base_uri": "https://localhost:8080/"
    },
    "id": "Snlh93vZ2ZJf",
    "outputId": "0b55c8a2-fc8d-450b-d7fb-29f9d452fed3"
   },
   "outputs": [
    {
     "data": {
      "text/plain": [
       "0"
      ]
     },
     "execution_count": 26,
     "metadata": {
      "tags": []
     },
     "output_type": "execute_result"
    }
   ],
   "source": [
    "scraped_df_reloaded.duplicated().sum()"
   ]
  },
  {
   "cell_type": "markdown",
   "metadata": {
    "id": "649NC8u88Be1"
   },
   "source": [
    "If we consider all rows, there's no duplicated row **because each tweet has a unique ```id```**. As such, let's just consider the column ```text``` to check whether a tweet is duplicated or not."
   ]
  },
  {
   "cell_type": "code",
   "execution_count": null,
   "metadata": {
    "colab": {
     "base_uri": "https://localhost:8080/"
    },
    "id": "Vi66MtoM2cXc",
    "outputId": "45a8839e-2abd-4aeb-9258-2c2eed9f8180"
   },
   "outputs": [
    {
     "data": {
      "text/plain": [
       "7139"
      ]
     },
     "execution_count": 27,
     "metadata": {
      "tags": []
     },
     "output_type": "execute_result"
    }
   ],
   "source": [
    "scraped_df_reloaded.duplicated(subset=['text']).sum()"
   ]
  },
  {
   "cell_type": "markdown",
   "metadata": {
    "id": "5P4cmARx8NVE"
   },
   "source": [
    "Here is an example of the duplicated tweet."
   ]
  },
  {
   "cell_type": "code",
   "execution_count": null,
   "metadata": {
    "colab": {
     "base_uri": "https://localhost:8080/",
     "height": 267
    },
    "id": "iptYqnc92ejf",
    "outputId": "b7de7778-9848-4b39-a777-e662ebd41b34"
   },
   "outputs": [
    {
     "data": {
      "text/html": [
       "<div>\n",
       "<style scoped>\n",
       "    .dataframe tbody tr th:only-of-type {\n",
       "        vertical-align: middle;\n",
       "    }\n",
       "\n",
       "    .dataframe tbody tr th {\n",
       "        vertical-align: top;\n",
       "    }\n",
       "\n",
       "    .dataframe thead th {\n",
       "        text-align: right;\n",
       "    }\n",
       "</style>\n",
       "<table border=\"1\" class=\"dataframe\">\n",
       "  <thead>\n",
       "    <tr style=\"text-align: right;\">\n",
       "      <th></th>\n",
       "      <th>created_at</th>\n",
       "      <th>id</th>\n",
       "      <th>id_str</th>\n",
       "      <th>text</th>\n",
       "      <th>truncated</th>\n",
       "      <th>source</th>\n",
       "      <th>in_reply_to_status_id</th>\n",
       "      <th>in_reply_to_status_id_str</th>\n",
       "      <th>in_reply_to_user_id</th>\n",
       "      <th>in_reply_to_user_id_str</th>\n",
       "      <th>in_reply_to_screen_name</th>\n",
       "      <th>geo</th>\n",
       "      <th>coordinates</th>\n",
       "      <th>contributors</th>\n",
       "      <th>is_quote_status</th>\n",
       "      <th>retweet_count</th>\n",
       "      <th>favorite_count</th>\n",
       "      <th>favorited</th>\n",
       "      <th>retweeted</th>\n",
       "      <th>possibly_sensitive</th>\n",
       "      <th>lang</th>\n",
       "      <th>location_id</th>\n",
       "      <th>quoted_status_id</th>\n",
       "      <th>quoted_status_id_str</th>\n",
       "      <th>place</th>\n",
       "      <th>ID_0</th>\n",
       "      <th>ISO</th>\n",
       "      <th>NAME_0</th>\n",
       "      <th>ID_1</th>\n",
       "      <th>NAME_1</th>\n",
       "      <th>ID_2</th>\n",
       "      <th>NAME_2</th>\n",
       "      <th>ID_3</th>\n",
       "      <th>NAME_3</th>\n",
       "      <th>NL_NAME_3</th>\n",
       "      <th>VARNAME_3</th>\n",
       "      <th>TYPE_3</th>\n",
       "      <th>ENGTYPE_3</th>\n",
       "      <th>PROVINCE</th>\n",
       "      <th>REGION</th>\n",
       "      <th>radius</th>\n",
       "      <th>geometry</th>\n",
       "    </tr>\n",
       "  </thead>\n",
       "  <tbody>\n",
       "    <tr>\n",
       "      <th>1</th>\n",
       "      <td>Mon Jan 11 02:20:06 +0000 2021</td>\n",
       "      <td>1348454609472262144</td>\n",
       "      <td>1348454609472262144</td>\n",
       "      <td>Mayor Jerry Trenas representing The Iloilo Cit...</td>\n",
       "      <td>True</td>\n",
       "      <td>&lt;a href=\"http://twitter.com/download/android\" ...</td>\n",
       "      <td>NaN</td>\n",
       "      <td>NaN</td>\n",
       "      <td>NaN</td>\n",
       "      <td>NaN</td>\n",
       "      <td>NaN</td>\n",
       "      <td>NaN</td>\n",
       "      <td>NaN</td>\n",
       "      <td>NaN</td>\n",
       "      <td>False</td>\n",
       "      <td>1</td>\n",
       "      <td>4</td>\n",
       "      <td>False</td>\n",
       "      <td>False</td>\n",
       "      <td>False</td>\n",
       "      <td>en</td>\n",
       "      <td>1</td>\n",
       "      <td>NaN</td>\n",
       "      <td>NaN</td>\n",
       "      <td>NaN</td>\n",
       "      <td>177</td>\n",
       "      <td>PHL</td>\n",
       "      <td>Philippines</td>\n",
       "      <td>47</td>\n",
       "      <td>Metropolitan Manila</td>\n",
       "      <td>955</td>\n",
       "      <td>Manila</td>\n",
       "      <td>25138</td>\n",
       "      <td>Barangay 745</td>\n",
       "      <td>NaN</td>\n",
       "      <td>NaN</td>\n",
       "      <td>Barangay</td>\n",
       "      <td>Village</td>\n",
       "      <td>Metropolitan Manila</td>\n",
       "      <td>Metropolitan Manila</td>\n",
       "      <td>101.299290</td>\n",
       "      <td>POINT (120.9966481196574 14.56931268262564)</td>\n",
       "    </tr>\n",
       "    <tr>\n",
       "      <th>2</th>\n",
       "      <td>Mon Jan 11 02:20:06 +0000 2021</td>\n",
       "      <td>1348454609472262144</td>\n",
       "      <td>1348454609472262144</td>\n",
       "      <td>Mayor Jerry Trenas representing The Iloilo Cit...</td>\n",
       "      <td>True</td>\n",
       "      <td>&lt;a href=\"http://twitter.com/download/android\" ...</td>\n",
       "      <td>NaN</td>\n",
       "      <td>NaN</td>\n",
       "      <td>NaN</td>\n",
       "      <td>NaN</td>\n",
       "      <td>NaN</td>\n",
       "      <td>NaN</td>\n",
       "      <td>NaN</td>\n",
       "      <td>NaN</td>\n",
       "      <td>False</td>\n",
       "      <td>1</td>\n",
       "      <td>4</td>\n",
       "      <td>False</td>\n",
       "      <td>False</td>\n",
       "      <td>False</td>\n",
       "      <td>en</td>\n",
       "      <td>2</td>\n",
       "      <td>NaN</td>\n",
       "      <td>NaN</td>\n",
       "      <td>NaN</td>\n",
       "      <td>177</td>\n",
       "      <td>PHL</td>\n",
       "      <td>Philippines</td>\n",
       "      <td>47</td>\n",
       "      <td>Metropolitan Manila</td>\n",
       "      <td>955</td>\n",
       "      <td>Manila</td>\n",
       "      <td>25139</td>\n",
       "      <td>Barangay 746</td>\n",
       "      <td>NaN</td>\n",
       "      <td>NaN</td>\n",
       "      <td>Barangay</td>\n",
       "      <td>Village</td>\n",
       "      <td>Metropolitan Manila</td>\n",
       "      <td>Metropolitan Manila</td>\n",
       "      <td>168.911151</td>\n",
       "      <td>POINT (120.9968164615776 14.56842705519975)</td>\n",
       "    </tr>\n",
       "  </tbody>\n",
       "</table>\n",
       "</div>"
      ],
      "text/plain": [
       "                       created_at  ...                                     geometry\n",
       "1  Mon Jan 11 02:20:06 +0000 2021  ...  POINT (120.9966481196574 14.56931268262564)\n",
       "2  Mon Jan 11 02:20:06 +0000 2021  ...  POINT (120.9968164615776 14.56842705519975)\n",
       "\n",
       "[2 rows x 42 columns]"
      ]
     },
     "execution_count": 30,
     "metadata": {
      "tags": []
     },
     "output_type": "execute_result"
    }
   ],
   "source": [
    "duplicated_tweets = scraped_df_reloaded[scraped_df_reloaded.duplicated(subset=['text'])]\n",
    "duplicated_tweets.head(2)"
   ]
  },
  {
   "cell_type": "code",
   "execution_count": null,
   "metadata": {
    "colab": {
     "base_uri": "https://localhost:8080/"
    },
    "id": "QxJ_9AsO2sm3",
    "outputId": "09b4a975-0c97-4096-939a-696e62b56a4a"
   },
   "outputs": [
    {
     "data": {
      "text/plain": [
       "False    5893\n",
       "True     1246\n",
       "Name: is_quote_status, dtype: int64"
      ]
     },
     "execution_count": 31,
     "metadata": {
      "tags": []
     },
     "output_type": "execute_result"
    }
   ],
   "source": [
    "duplicated_tweets['is_quote_status'].value_counts()"
   ]
  },
  {
   "cell_type": "code",
   "execution_count": null,
   "metadata": {
    "colab": {
     "base_uri": "https://localhost:8080/"
    },
    "id": "2RgIvO_82z-P",
    "outputId": "1d457a7a-e3ca-45ec-ae15-2af01d2eee8a"
   },
   "outputs": [
    {
     "data": {
      "text/plain": [
       "0     6053\n",
       "1      973\n",
       "2       58\n",
       "4       29\n",
       "3       13\n",
       "14      13\n",
       "Name: retweet_count, dtype: int64"
      ]
     },
     "execution_count": 32,
     "metadata": {
      "tags": []
     },
     "output_type": "execute_result"
    }
   ],
   "source": [
    "duplicated_tweets['retweet_count'].value_counts()"
   ]
  },
  {
   "cell_type": "code",
   "execution_count": null,
   "metadata": {
    "colab": {
     "base_uri": "https://localhost:8080/"
    },
    "id": "sqtFTrnM27v0",
    "outputId": "1c6f55e3-eb1a-45f4-ee4c-e96dc7bd7bde"
   },
   "outputs": [
    {
     "data": {
      "text/plain": [
       "False    7139\n",
       "Name: retweeted, dtype: int64"
      ]
     },
     "execution_count": 33,
     "metadata": {
      "tags": []
     },
     "output_type": "execute_result"
    }
   ],
   "source": [
    "duplicated_tweets['retweeted'].value_counts()"
   ]
  },
  {
   "cell_type": "markdown",
   "metadata": {
    "id": "0fT4Ia7o9Psb"
   },
   "source": [
    "The above three \"variables\" seem to be **unreliable measures of whether a tweet is organic or not** as they do not even seem to align in Maths."
   ]
  },
  {
   "cell_type": "markdown",
   "metadata": {
    "id": "qvSPWiwj8RtH"
   },
   "source": [
    "Looks like out of the 7k tweets scraped for the past 7 days from the entire of NCR with COVID as a keyword, only 176 which accounts for only 2.40 % of the COVID-related tweets. Yikes!"
   ]
  },
  {
   "cell_type": "code",
   "execution_count": null,
   "metadata": {
    "colab": {
     "base_uri": "https://localhost:8080/"
    },
    "id": "G_VYH0Pb3Dm_",
    "outputId": "91afa2d3-7601-4e78-aa99-fa0140754286"
   },
   "outputs": [
    {
     "data": {
      "text/plain": [
       "176"
      ]
     },
     "execution_count": 35,
     "metadata": {
      "tags": []
     },
     "output_type": "execute_result"
    }
   ],
   "source": [
    "duplicated_tweets['text'].nunique()"
   ]
  },
  {
   "cell_type": "code",
   "execution_count": null,
   "metadata": {
    "colab": {
     "base_uri": "https://localhost:8080/"
    },
    "id": "ifMVxxxq37v1",
    "outputId": "9891809d-1fe0-46d3-f636-0d2d6a522b4e"
   },
   "outputs": [
    {
     "data": {
      "text/plain": [
       "8"
      ]
     },
     "execution_count": 54,
     "metadata": {
      "tags": []
     },
     "output_type": "execute_result"
    }
   ],
   "source": [
    "(pd.to_datetime(scraped_df_reloaded['created_at']).dt.date).nunique()"
   ]
  },
  {
   "cell_type": "markdown",
   "metadata": {
    "id": "oU9wgZWj8mfU"
   },
   "source": [
    "I will try to investigate the duplication at a **daily basis** to check how rampant is it."
   ]
  },
  {
   "cell_type": "code",
   "execution_count": null,
   "metadata": {
    "colab": {
     "base_uri": "https://localhost:8080/"
    },
    "id": "ImPsgIr05VHI",
    "outputId": "442eda34-10cf-4676-9e2d-72807e101dfb"
   },
   "outputs": [
    {
     "data": {
      "text/plain": [
       "(7320, 43)"
      ]
     },
     "execution_count": 59,
     "metadata": {
      "tags": []
     },
     "output_type": "execute_result"
    }
   ],
   "source": [
    "scraped_df_reloaded['created_at'] = pd.to_datetime(scraped_df_reloaded['created_at'])\n",
    "scraped_df_reloaded['date'] = scraped_df_reloaded['created_at'].dt.date\n",
    "scraped_df_reloaded.shape"
   ]
  },
  {
   "cell_type": "code",
   "execution_count": null,
   "metadata": {
    "colab": {
     "base_uri": "https://localhost:8080/"
    },
    "id": "hcmjmQGy5wo7",
    "outputId": "ca070f98-b909-456d-ee5e-5cdb5a02b9eb"
   },
   "outputs": [
    {
     "name": "stderr",
     "output_type": "stream",
     "text": [
      "/usr/local/lib/python3.6/dist-packages/ipykernel_launcher.py:2: SettingWithCopyWarning: \n",
      "A value is trying to be set on a copy of a slice from a DataFrame.\n",
      "Try using .loc[row_indexer,col_indexer] = value instead\n",
      "\n",
      "See the caveats in the documentation: https://pandas.pydata.org/pandas-docs/stable/user_guide/indexing.html#returning-a-view-versus-a-copy\n",
      "  \n"
     ]
    },
    {
     "data": {
      "text/plain": [
       "(7320, 3)"
      ]
     },
     "execution_count": 65,
     "metadata": {
      "tags": []
     },
     "output_type": "execute_result"
    }
   ],
   "source": [
    "tweets_df = scraped_df_reloaded[['text', 'date']]\n",
    "tweets_df['duplicated?'] = scraped_df_reloaded.duplicated(subset='text')\n",
    "tweets_df.shape"
   ]
  },
  {
   "cell_type": "code",
   "execution_count": null,
   "metadata": {
    "colab": {
     "base_uri": "https://localhost:8080/",
     "height": 514
    },
    "id": "gA-FXhEj8r1C",
    "outputId": "70aaa4ee-ab0d-4a92-9f3c-475f1b7dfe52"
   },
   "outputs": [
    {
     "data": {
      "text/html": [
       "<div>\n",
       "<style scoped>\n",
       "    .dataframe tbody tr th:only-of-type {\n",
       "        vertical-align: middle;\n",
       "    }\n",
       "\n",
       "    .dataframe tbody tr th {\n",
       "        vertical-align: top;\n",
       "    }\n",
       "\n",
       "    .dataframe thead th {\n",
       "        text-align: right;\n",
       "    }\n",
       "</style>\n",
       "<table border=\"1\" class=\"dataframe\">\n",
       "  <thead>\n",
       "    <tr style=\"text-align: right;\">\n",
       "      <th></th>\n",
       "      <th>text</th>\n",
       "      <th>date</th>\n",
       "      <th>duplicated?</th>\n",
       "    </tr>\n",
       "  </thead>\n",
       "  <tbody>\n",
       "    <tr>\n",
       "      <th>3594</th>\n",
       "      <td>Congratulations Prof @cylpoon1  for a great le...</td>\n",
       "      <td>2021-01-10</td>\n",
       "      <td>True</td>\n",
       "    </tr>\n",
       "    <tr>\n",
       "      <th>6216</th>\n",
       "      <td>Are we doomed to repeat or surpass the worst C...</td>\n",
       "      <td>2021-01-09</td>\n",
       "      <td>True</td>\n",
       "    </tr>\n",
       "    <tr>\n",
       "      <th>232</th>\n",
       "      <td>Sayang naman b CA na sana kaso nyetang covid t...</td>\n",
       "      <td>2021-01-07</td>\n",
       "      <td>False</td>\n",
       "    </tr>\n",
       "    <tr>\n",
       "      <th>2170</th>\n",
       "      <td>I miss my papay and mamay(grandparents) 😭💔\\n\\n...</td>\n",
       "      <td>2021-01-10</td>\n",
       "      <td>True</td>\n",
       "    </tr>\n",
       "    <tr>\n",
       "      <th>1408</th>\n",
       "      <td>Covid lumayas ka na pls! Gusto ko pumunta sa K...</td>\n",
       "      <td>2021-01-10</td>\n",
       "      <td>True</td>\n",
       "    </tr>\n",
       "    <tr>\n",
       "      <th>7101</th>\n",
       "      <td>Page 9/365. Fiesta ng Nazareno kaya nagsimba k...</td>\n",
       "      <td>2021-01-09</td>\n",
       "      <td>True</td>\n",
       "    </tr>\n",
       "    <tr>\n",
       "      <th>2916</th>\n",
       "      <td>I miss my papay and mamay(grandparents) 😭💔\\n\\n...</td>\n",
       "      <td>2021-01-10</td>\n",
       "      <td>True</td>\n",
       "    </tr>\n",
       "    <tr>\n",
       "      <th>557</th>\n",
       "      <td>covid got us, again? 🙃</td>\n",
       "      <td>2021-01-07</td>\n",
       "      <td>True</td>\n",
       "    </tr>\n",
       "    <tr>\n",
       "      <th>2441</th>\n",
       "      <td>Congratulations Prof @cylpoon1  for a great le...</td>\n",
       "      <td>2021-01-10</td>\n",
       "      <td>True</td>\n",
       "    </tr>\n",
       "    <tr>\n",
       "      <th>3281</th>\n",
       "      <td>Covid lumayas ka na pls! Gusto ko pumunta sa K...</td>\n",
       "      <td>2021-01-10</td>\n",
       "      <td>True</td>\n",
       "    </tr>\n",
       "    <tr>\n",
       "      <th>2689</th>\n",
       "      <td>I miss my papay and mamay(grandparents) 😭💔\\n\\n...</td>\n",
       "      <td>2021-01-10</td>\n",
       "      <td>True</td>\n",
       "    </tr>\n",
       "    <tr>\n",
       "      <th>3962</th>\n",
       "      <td>Kung meron lng tear gas na ang ilalabas eh cov...</td>\n",
       "      <td>2021-01-07</td>\n",
       "      <td>True</td>\n",
       "    </tr>\n",
       "    <tr>\n",
       "      <th>7191</th>\n",
       "      <td>Di sa pag aano, pero kaka bwisit pala yung bab...</td>\n",
       "      <td>2021-01-11</td>\n",
       "      <td>True</td>\n",
       "    </tr>\n",
       "    <tr>\n",
       "      <th>255</th>\n",
       "      <td>Pano kayo nagkakalovelife eh may covid pano ka...</td>\n",
       "      <td>2021-01-09</td>\n",
       "      <td>False</td>\n",
       "    </tr>\n",
       "    <tr>\n",
       "      <th>5475</th>\n",
       "      <td>Sa covid gud ko pinaka suko wala man lang naka...</td>\n",
       "      <td>2021-01-10</td>\n",
       "      <td>True</td>\n",
       "    </tr>\n",
       "  </tbody>\n",
       "</table>\n",
       "</div>"
      ],
      "text/plain": [
       "                                                   text  ... duplicated?\n",
       "3594  Congratulations Prof @cylpoon1  for a great le...  ...        True\n",
       "6216  Are we doomed to repeat or surpass the worst C...  ...        True\n",
       "232   Sayang naman b CA na sana kaso nyetang covid t...  ...       False\n",
       "2170  I miss my papay and mamay(grandparents) 😭💔\\n\\n...  ...        True\n",
       "1408  Covid lumayas ka na pls! Gusto ko pumunta sa K...  ...        True\n",
       "7101  Page 9/365. Fiesta ng Nazareno kaya nagsimba k...  ...        True\n",
       "2916  I miss my papay and mamay(grandparents) 😭💔\\n\\n...  ...        True\n",
       "557                              covid got us, again? 🙃  ...        True\n",
       "2441  Congratulations Prof @cylpoon1  for a great le...  ...        True\n",
       "3281  Covid lumayas ka na pls! Gusto ko pumunta sa K...  ...        True\n",
       "2689  I miss my papay and mamay(grandparents) 😭💔\\n\\n...  ...        True\n",
       "3962  Kung meron lng tear gas na ang ilalabas eh cov...  ...        True\n",
       "7191  Di sa pag aano, pero kaka bwisit pala yung bab...  ...        True\n",
       "255   Pano kayo nagkakalovelife eh may covid pano ka...  ...       False\n",
       "5475  Sa covid gud ko pinaka suko wala man lang naka...  ...        True\n",
       "\n",
       "[15 rows x 3 columns]"
      ]
     },
     "execution_count": 80,
     "metadata": {
      "tags": []
     },
     "output_type": "execute_result"
    }
   ],
   "source": [
    "tweets_df.sample(15)"
   ]
  },
  {
   "cell_type": "code",
   "execution_count": null,
   "metadata": {
    "colab": {
     "base_uri": "https://localhost:8080/",
     "height": 359
    },
    "id": "IACdXLm_54Nv",
    "outputId": "29373623-27b2-438d-af62-65336ef8359d"
   },
   "outputs": [
    {
     "data": {
      "text/html": [
       "<div>\n",
       "<style scoped>\n",
       "    .dataframe tbody tr th:only-of-type {\n",
       "        vertical-align: middle;\n",
       "    }\n",
       "\n",
       "    .dataframe tbody tr th {\n",
       "        vertical-align: top;\n",
       "    }\n",
       "\n",
       "    .dataframe thead tr th {\n",
       "        text-align: left;\n",
       "    }\n",
       "\n",
       "    .dataframe thead tr:last-of-type th {\n",
       "        text-align: right;\n",
       "    }\n",
       "</style>\n",
       "<table border=\"1\" class=\"dataframe\">\n",
       "  <thead>\n",
       "    <tr>\n",
       "      <th></th>\n",
       "      <th colspan=\"3\" halign=\"left\">text</th>\n",
       "      <th colspan=\"3\" halign=\"left\">duplicated?</th>\n",
       "    </tr>\n",
       "    <tr>\n",
       "      <th></th>\n",
       "      <th>count</th>\n",
       "      <th>sum</th>\n",
       "      <th>nunique</th>\n",
       "      <th>count</th>\n",
       "      <th>sum</th>\n",
       "      <th>nunique</th>\n",
       "    </tr>\n",
       "    <tr>\n",
       "      <th>date</th>\n",
       "      <th></th>\n",
       "      <th></th>\n",
       "      <th></th>\n",
       "      <th></th>\n",
       "      <th></th>\n",
       "      <th></th>\n",
       "    </tr>\n",
       "  </thead>\n",
       "  <tbody>\n",
       "    <tr>\n",
       "      <th>2021-01-04</th>\n",
       "      <td>214</td>\n",
       "      <td>@cammenez Hahahaha!! Soon, pag yung covid pwed...</td>\n",
       "      <td>15</td>\n",
       "      <td>214</td>\n",
       "      <td>199</td>\n",
       "      <td>2</td>\n",
       "    </tr>\n",
       "    <tr>\n",
       "      <th>2021-01-05</th>\n",
       "      <td>295</td>\n",
       "      <td>@gmanews Nakakahiya sa Hong Kong sila pa nakad...</td>\n",
       "      <td>18</td>\n",
       "      <td>295</td>\n",
       "      <td>277</td>\n",
       "      <td>2</td>\n",
       "    </tr>\n",
       "    <tr>\n",
       "      <th>2021-01-06</th>\n",
       "      <td>224</td>\n",
       "      <td>The BF is now on India and by Jan. 8, Filipino...</td>\n",
       "      <td>10</td>\n",
       "      <td>224</td>\n",
       "      <td>214</td>\n",
       "      <td>2</td>\n",
       "    </tr>\n",
       "    <tr>\n",
       "      <th>2021-01-07</th>\n",
       "      <td>346</td>\n",
       "      <td>when you miss her so much that all you can do ...</td>\n",
       "      <td>23</td>\n",
       "      <td>346</td>\n",
       "      <td>323</td>\n",
       "      <td>2</td>\n",
       "    </tr>\n",
       "    <tr>\n",
       "      <th>2021-01-08</th>\n",
       "      <td>1300</td>\n",
       "      <td>the best feeling after an 8 hours shift in a c...</td>\n",
       "      <td>23</td>\n",
       "      <td>1300</td>\n",
       "      <td>1277</td>\n",
       "      <td>2</td>\n",
       "    </tr>\n",
       "    <tr>\n",
       "      <th>2021-01-09</th>\n",
       "      <td>1086</td>\n",
       "      <td>Online muna tayo mga kap para sa bayan at sa m...</td>\n",
       "      <td>36</td>\n",
       "      <td>1086</td>\n",
       "      <td>1050</td>\n",
       "      <td>2</td>\n",
       "    </tr>\n",
       "    <tr>\n",
       "      <th>2021-01-10</th>\n",
       "      <td>2349</td>\n",
       "      <td>Congratulations Prof @cylpoon1  for a great le...</td>\n",
       "      <td>28</td>\n",
       "      <td>2349</td>\n",
       "      <td>2321</td>\n",
       "      <td>2</td>\n",
       "    </tr>\n",
       "    <tr>\n",
       "      <th>2021-01-11</th>\n",
       "      <td>1506</td>\n",
       "      <td>Mayor Jerry Trenas representing The Iloilo Cit...</td>\n",
       "      <td>28</td>\n",
       "      <td>1506</td>\n",
       "      <td>1478</td>\n",
       "      <td>2</td>\n",
       "    </tr>\n",
       "  </tbody>\n",
       "</table>\n",
       "</div>"
      ],
      "text/plain": [
       "            text  ... duplicated?\n",
       "           count  ...     nunique\n",
       "date              ...            \n",
       "2021-01-04   214  ...           2\n",
       "2021-01-05   295  ...           2\n",
       "2021-01-06   224  ...           2\n",
       "2021-01-07   346  ...           2\n",
       "2021-01-08  1300  ...           2\n",
       "2021-01-09  1086  ...           2\n",
       "2021-01-10  2349  ...           2\n",
       "2021-01-11  1506  ...           2\n",
       "\n",
       "[8 rows x 6 columns]"
      ]
     },
     "execution_count": 70,
     "metadata": {
      "tags": []
     },
     "output_type": "execute_result"
    }
   ],
   "source": [
    "tweets_df.groupby(by='date').agg(['count', 'sum', 'nunique'])"
   ]
  }
 ],
 "metadata": {
  "colab": {
   "collapsed_sections": [
    "zkASMTZeFZdz",
    "PjsRBGZWFlkR",
    "OB3ouaH9F0iH",
    "0lFHwMA9Gcsz",
    "P4_dE6M6Hnfh",
    "bK9wHYuYHzKw",
    "j2c1OmNOH42g",
    "KJoGV1YUH8Be",
    "s8vM5xxZIJD4",
    "Xkqx-M7jwusF"
   ],
   "name": "2. Location-Based Scrapping.ipynb",
   "provenance": []
  },
  "kernelspec": {
   "display_name": "Python 3",
   "language": "python",
   "name": "python3"
  },
  "language_info": {
   "codemirror_mode": {
    "name": "ipython",
    "version": 3
   },
   "file_extension": ".py",
   "mimetype": "text/x-python",
   "name": "python",
   "nbconvert_exporter": "python",
   "pygments_lexer": "ipython3",
   "version": "3.7.7"
  }
 },
 "nbformat": 4,
 "nbformat_minor": 1
}
